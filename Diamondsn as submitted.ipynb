{
 "cells": [
  {
   "cell_type": "code",
   "execution_count": 1,
   "metadata": {
    "colab": {
     "base_uri": "https://localhost:8080/"
    },
    "executionInfo": {
     "elapsed": 43065,
     "status": "ok",
     "timestamp": 1612836060349,
     "user": {
      "displayName": "Frank Coleman",
      "photoUrl": "https://lh3.googleusercontent.com/a-/AOh14GhnRyj_a8bPbOyiw-1SbTtN2Ut1OvBjM5gXozPTzA=s64",
      "userId": "16429428919363884200"
     },
     "user_tz": 300
    },
    "id": "_GtpMRN5sGeQ",
    "outputId": "f05c0e7c-fbd1-4264-c1f7-21c5c6f7ab39"
   },
   "outputs": [],
   "source": [
    "#from google.colab import drive\n",
    "#drive.mount('/content/drive')"
   ]
  },
  {
   "cell_type": "code",
   "execution_count": 1,
   "metadata": {
    "id": "Ib2Y59VPoZms"
   },
   "outputs": [],
   "source": [
    "import numpy as np\n",
    "import pandas as pd\n",
    "import matplotlib.pyplot as plt\n",
    "import seaborn as sns"
   ]
  },
  {
   "cell_type": "code",
   "execution_count": 2,
   "metadata": {
    "id": "kgcAfvIfoZm5"
   },
   "outputs": [],
   "source": [
    "diamonds = pd.read_csv(\"diamonds.csv\")\n",
    "#diamonds = pd.read_csv(\"/content/drive/MyDrive/~Data Science/~~~Capstone/Task02/diamonds.csv\")"
   ]
  },
  {
   "cell_type": "code",
   "execution_count": 4,
   "metadata": {
    "colab": {
     "base_uri": "https://localhost:8080/",
     "height": 204
    },
    "executionInfo": {
     "elapsed": 45821,
     "status": "ok",
     "timestamp": 1612836063168,
     "user": {
      "displayName": "Frank Coleman",
      "photoUrl": "https://lh3.googleusercontent.com/a-/AOh14GhnRyj_a8bPbOyiw-1SbTtN2Ut1OvBjM5gXozPTzA=s64",
      "userId": "16429428919363884200"
     },
     "user_tz": 300
    },
    "id": "EzlBPLUdoZm6",
    "outputId": "96379a07-ca04-41b1-fb20-2bb380e7a340"
   },
   "outputs": [
    {
     "data": {
      "text/html": [
       "<div>\n",
       "<style scoped>\n",
       "    .dataframe tbody tr th:only-of-type {\n",
       "        vertical-align: middle;\n",
       "    }\n",
       "\n",
       "    .dataframe tbody tr th {\n",
       "        vertical-align: top;\n",
       "    }\n",
       "\n",
       "    .dataframe thead th {\n",
       "        text-align: right;\n",
       "    }\n",
       "</style>\n",
       "<table border=\"1\" class=\"dataframe\">\n",
       "  <thead>\n",
       "    <tr style=\"text-align: right;\">\n",
       "      <th></th>\n",
       "      <th>Unnamed: 0</th>\n",
       "      <th>carat</th>\n",
       "      <th>cut</th>\n",
       "      <th>color</th>\n",
       "      <th>clarity</th>\n",
       "      <th>depth</th>\n",
       "      <th>table</th>\n",
       "      <th>price</th>\n",
       "      <th>x</th>\n",
       "      <th>y</th>\n",
       "      <th>z</th>\n",
       "    </tr>\n",
       "  </thead>\n",
       "  <tbody>\n",
       "    <tr>\n",
       "      <td>0</td>\n",
       "      <td>1</td>\n",
       "      <td>0.23</td>\n",
       "      <td>Ideal</td>\n",
       "      <td>E</td>\n",
       "      <td>SI2</td>\n",
       "      <td>61.5</td>\n",
       "      <td>55.0</td>\n",
       "      <td>326</td>\n",
       "      <td>3.95</td>\n",
       "      <td>3.98</td>\n",
       "      <td>2.43</td>\n",
       "    </tr>\n",
       "    <tr>\n",
       "      <td>1</td>\n",
       "      <td>2</td>\n",
       "      <td>0.21</td>\n",
       "      <td>Premium</td>\n",
       "      <td>E</td>\n",
       "      <td>SI1</td>\n",
       "      <td>59.8</td>\n",
       "      <td>61.0</td>\n",
       "      <td>326</td>\n",
       "      <td>3.89</td>\n",
       "      <td>3.84</td>\n",
       "      <td>2.31</td>\n",
       "    </tr>\n",
       "    <tr>\n",
       "      <td>2</td>\n",
       "      <td>3</td>\n",
       "      <td>0.23</td>\n",
       "      <td>Good</td>\n",
       "      <td>E</td>\n",
       "      <td>VS1</td>\n",
       "      <td>56.9</td>\n",
       "      <td>65.0</td>\n",
       "      <td>327</td>\n",
       "      <td>4.05</td>\n",
       "      <td>4.07</td>\n",
       "      <td>2.31</td>\n",
       "    </tr>\n",
       "    <tr>\n",
       "      <td>3</td>\n",
       "      <td>4</td>\n",
       "      <td>0.29</td>\n",
       "      <td>Premium</td>\n",
       "      <td>I</td>\n",
       "      <td>VS2</td>\n",
       "      <td>62.4</td>\n",
       "      <td>58.0</td>\n",
       "      <td>334</td>\n",
       "      <td>4.20</td>\n",
       "      <td>4.23</td>\n",
       "      <td>2.63</td>\n",
       "    </tr>\n",
       "    <tr>\n",
       "      <td>4</td>\n",
       "      <td>5</td>\n",
       "      <td>0.31</td>\n",
       "      <td>Good</td>\n",
       "      <td>J</td>\n",
       "      <td>SI2</td>\n",
       "      <td>63.3</td>\n",
       "      <td>58.0</td>\n",
       "      <td>335</td>\n",
       "      <td>4.34</td>\n",
       "      <td>4.35</td>\n",
       "      <td>2.75</td>\n",
       "    </tr>\n",
       "  </tbody>\n",
       "</table>\n",
       "</div>"
      ],
      "text/plain": [
       "   Unnamed: 0  carat      cut color clarity  depth  table  price     x     y  \\\n",
       "0           1   0.23    Ideal     E     SI2   61.5   55.0    326  3.95  3.98   \n",
       "1           2   0.21  Premium     E     SI1   59.8   61.0    326  3.89  3.84   \n",
       "2           3   0.23     Good     E     VS1   56.9   65.0    327  4.05  4.07   \n",
       "3           4   0.29  Premium     I     VS2   62.4   58.0    334  4.20  4.23   \n",
       "4           5   0.31     Good     J     SI2   63.3   58.0    335  4.34  4.35   \n",
       "\n",
       "      z  \n",
       "0  2.43  \n",
       "1  2.31  \n",
       "2  2.31  \n",
       "3  2.63  \n",
       "4  2.75  "
      ]
     },
     "execution_count": 4,
     "metadata": {},
     "output_type": "execute_result"
    }
   ],
   "source": [
    "diamonds.head(5)\n",
    "#from IPython import display\n",
    "#display(diamonds.head())\n",
    "#from IPython.core.interactiveshell import InteractiveShell\n",
    "#InteractiveShell.ast_node_interactivity = \"all\"\n",
    "\n",
    "#diamonds.head()"
   ]
  },
  {
   "cell_type": "code",
   "execution_count": 4,
   "metadata": {
    "colab": {
     "base_uri": "https://localhost:8080/",
     "height": 35
    },
    "executionInfo": {
     "elapsed": 451,
     "status": "ok",
     "timestamp": 1612728595637,
     "user": {
      "displayName": "Frank Coleman",
      "photoUrl": "https://lh3.googleusercontent.com/a-/AOh14GhnRyj_a8bPbOyiw-1SbTtN2Ut1OvBjM5gXozPTzA=s64",
      "userId": "16429428919363884200"
     },
     "user_tz": 300
    },
    "id": "2AB6U-HLHVfP",
    "outputId": "8742a099-f26d-4206-d119-8d375978c4b5"
   },
   "outputs": [
    {
     "data": {
      "text/plain": [
       "Unnamed: 0    26970.500000\n",
       "carat             0.797940\n",
       "depth            61.749405\n",
       "table            57.457184\n",
       "price          3932.799722\n",
       "x                 5.731157\n",
       "y                 5.734526\n",
       "z                 3.538734\n",
       "dtype: float64"
      ]
     },
     "execution_count": 4,
     "metadata": {},
     "output_type": "execute_result"
    }
   ],
   "source": [
    "diamonds.mean()"
   ]
  },
  {
   "cell_type": "code",
   "execution_count": 5,
   "metadata": {
    "id": "muj40u_soZm8"
   },
   "outputs": [],
   "source": [
    "#unnamed:0 needs to be dropped\n",
    "\n",
    "diamonds = diamonds.drop([\"Unnamed: 0\"], axis = 1)"
   ]
  },
  {
   "cell_type": "code",
   "execution_count": 191,
   "metadata": {},
   "outputs": [
    {
     "name": "stdout",
     "output_type": "stream",
     "text": [
      "43031.23\n"
     ]
    }
   ],
   "source": [
    "Total = diamonds['carat'].sum()\n",
    "print (Total)"
   ]
  },
  {
   "cell_type": "code",
   "execution_count": 7,
   "metadata": {
    "id": "-6HPhdW3oZm9"
   },
   "outputs": [],
   "source": [
    "#Renaming columns for clarity\n",
    "#depth is depth percentage\n",
    "#x,y, and z need to be changed\n",
    "#x is length, y is width, z is depth\n",
    "diamonds = diamonds.rename(columns = \n",
    "                           {\"depth\":\"depthper\", \"x\":\"length\", \"y\":\"width\", \"z\":\"depth\"})"
   ]
  },
  {
   "cell_type": "code",
   "execution_count": 8,
   "metadata": {
    "colab": {
     "base_uri": "https://localhost:8080/",
     "height": 204
    },
    "executionInfo": {
     "elapsed": 350,
     "status": "ok",
     "timestamp": 1612836090292,
     "user": {
      "displayName": "Frank Coleman",
      "photoUrl": "https://lh3.googleusercontent.com/a-/AOh14GhnRyj_a8bPbOyiw-1SbTtN2Ut1OvBjM5gXozPTzA=s64",
      "userId": "16429428919363884200"
     },
     "user_tz": 300
    },
    "id": "5Ln0bBzzoZm-",
    "outputId": "c3049e0b-b37c-468f-ed58-8e01e3475122"
   },
   "outputs": [
    {
     "data": {
      "text/html": [
       "<div>\n",
       "<style scoped>\n",
       "    .dataframe tbody tr th:only-of-type {\n",
       "        vertical-align: middle;\n",
       "    }\n",
       "\n",
       "    .dataframe tbody tr th {\n",
       "        vertical-align: top;\n",
       "    }\n",
       "\n",
       "    .dataframe thead th {\n",
       "        text-align: right;\n",
       "    }\n",
       "</style>\n",
       "<table border=\"1\" class=\"dataframe\">\n",
       "  <thead>\n",
       "    <tr style=\"text-align: right;\">\n",
       "      <th></th>\n",
       "      <th>carat</th>\n",
       "      <th>cut</th>\n",
       "      <th>color</th>\n",
       "      <th>clarity</th>\n",
       "      <th>depthper</th>\n",
       "      <th>table</th>\n",
       "      <th>price</th>\n",
       "      <th>length</th>\n",
       "      <th>width</th>\n",
       "      <th>depth</th>\n",
       "    </tr>\n",
       "  </thead>\n",
       "  <tbody>\n",
       "    <tr>\n",
       "      <td>0</td>\n",
       "      <td>0.23</td>\n",
       "      <td>Ideal</td>\n",
       "      <td>E</td>\n",
       "      <td>SI2</td>\n",
       "      <td>61.5</td>\n",
       "      <td>55.0</td>\n",
       "      <td>326</td>\n",
       "      <td>3.95</td>\n",
       "      <td>3.98</td>\n",
       "      <td>2.43</td>\n",
       "    </tr>\n",
       "    <tr>\n",
       "      <td>1</td>\n",
       "      <td>0.21</td>\n",
       "      <td>Premium</td>\n",
       "      <td>E</td>\n",
       "      <td>SI1</td>\n",
       "      <td>59.8</td>\n",
       "      <td>61.0</td>\n",
       "      <td>326</td>\n",
       "      <td>3.89</td>\n",
       "      <td>3.84</td>\n",
       "      <td>2.31</td>\n",
       "    </tr>\n",
       "    <tr>\n",
       "      <td>2</td>\n",
       "      <td>0.23</td>\n",
       "      <td>Good</td>\n",
       "      <td>E</td>\n",
       "      <td>VS1</td>\n",
       "      <td>56.9</td>\n",
       "      <td>65.0</td>\n",
       "      <td>327</td>\n",
       "      <td>4.05</td>\n",
       "      <td>4.07</td>\n",
       "      <td>2.31</td>\n",
       "    </tr>\n",
       "    <tr>\n",
       "      <td>3</td>\n",
       "      <td>0.29</td>\n",
       "      <td>Premium</td>\n",
       "      <td>I</td>\n",
       "      <td>VS2</td>\n",
       "      <td>62.4</td>\n",
       "      <td>58.0</td>\n",
       "      <td>334</td>\n",
       "      <td>4.20</td>\n",
       "      <td>4.23</td>\n",
       "      <td>2.63</td>\n",
       "    </tr>\n",
       "    <tr>\n",
       "      <td>4</td>\n",
       "      <td>0.31</td>\n",
       "      <td>Good</td>\n",
       "      <td>J</td>\n",
       "      <td>SI2</td>\n",
       "      <td>63.3</td>\n",
       "      <td>58.0</td>\n",
       "      <td>335</td>\n",
       "      <td>4.34</td>\n",
       "      <td>4.35</td>\n",
       "      <td>2.75</td>\n",
       "    </tr>\n",
       "  </tbody>\n",
       "</table>\n",
       "</div>"
      ],
      "text/plain": [
       "   carat      cut color clarity  depthper  table  price  length  width  depth\n",
       "0   0.23    Ideal     E     SI2      61.5   55.0    326    3.95   3.98   2.43\n",
       "1   0.21  Premium     E     SI1      59.8   61.0    326    3.89   3.84   2.31\n",
       "2   0.23     Good     E     VS1      56.9   65.0    327    4.05   4.07   2.31\n",
       "3   0.29  Premium     I     VS2      62.4   58.0    334    4.20   4.23   2.63\n",
       "4   0.31     Good     J     SI2      63.3   58.0    335    4.34   4.35   2.75"
      ]
     },
     "execution_count": 8,
     "metadata": {},
     "output_type": "execute_result"
    }
   ],
   "source": [
    "diamonds.head(5)"
   ]
  },
  {
   "cell_type": "code",
   "execution_count": 9,
   "metadata": {
    "colab": {
     "base_uri": "https://localhost:8080/"
    },
    "executionInfo": {
     "elapsed": 322,
     "status": "ok",
     "timestamp": 1612836094428,
     "user": {
      "displayName": "Frank Coleman",
      "photoUrl": "https://lh3.googleusercontent.com/a-/AOh14GhnRyj_a8bPbOyiw-1SbTtN2Ut1OvBjM5gXozPTzA=s64",
      "userId": "16429428919363884200"
     },
     "user_tz": 300
    },
    "id": "0vk_VmbxoZm-",
    "outputId": "91edab33-0953-40ce-fe13-b549bbc573bc"
   },
   "outputs": [
    {
     "data": {
      "text/plain": [
       "carat       float64\n",
       "cut          object\n",
       "color        object\n",
       "clarity      object\n",
       "depthper    float64\n",
       "table       float64\n",
       "price         int64\n",
       "length      float64\n",
       "width       float64\n",
       "depth       float64\n",
       "dtype: object"
      ]
     },
     "execution_count": 9,
     "metadata": {},
     "output_type": "execute_result"
    }
   ],
   "source": [
    "diamonds.dtypes"
   ]
  },
  {
   "cell_type": "code",
   "execution_count": 10,
   "metadata": {
    "colab": {
     "base_uri": "https://localhost:8080/"
    },
    "executionInfo": {
     "elapsed": 321,
     "status": "ok",
     "timestamp": 1612836095586,
     "user": {
      "displayName": "Frank Coleman",
      "photoUrl": "https://lh3.googleusercontent.com/a-/AOh14GhnRyj_a8bPbOyiw-1SbTtN2Ut1OvBjM5gXozPTzA=s64",
      "userId": "16429428919363884200"
     },
     "user_tz": 300
    },
    "id": "yN7RDG9BoZm_",
    "outputId": "6132b6dc-cc53-4f0c-8ceb-ecf1454d2da7"
   },
   "outputs": [
    {
     "data": {
      "text/plain": [
       "carat       False\n",
       "cut         False\n",
       "color       False\n",
       "clarity     False\n",
       "depthper    False\n",
       "table       False\n",
       "price       False\n",
       "length      False\n",
       "width       False\n",
       "depth       False\n",
       "dtype: bool"
      ]
     },
     "execution_count": 10,
     "metadata": {},
     "output_type": "execute_result"
    }
   ],
   "source": [
    "#check for missing values \n",
    "diamonds.isnull().any()"
   ]
  },
  {
   "cell_type": "markdown",
   "metadata": {
    "id": "tADJN_deoZnA"
   },
   "source": [
    "### There are no missing values in any variable"
   ]
  },
  {
   "cell_type": "markdown",
   "metadata": {
    "id": "-_cyJsJOoZnB"
   },
   "source": [
    "##### check the uniques for the ordinal variables"
   ]
  },
  {
   "cell_type": "code",
   "execution_count": 11,
   "metadata": {
    "colab": {
     "base_uri": "https://localhost:8080/"
    },
    "executionInfo": {
     "elapsed": 310,
     "status": "ok",
     "timestamp": 1612836103727,
     "user": {
      "displayName": "Frank Coleman",
      "photoUrl": "https://lh3.googleusercontent.com/a-/AOh14GhnRyj_a8bPbOyiw-1SbTtN2Ut1OvBjM5gXozPTzA=s64",
      "userId": "16429428919363884200"
     },
     "user_tz": 300
    },
    "id": "vjcl_5SqoZnC",
    "outputId": "83b8f79c-6b72-4342-a93f-e9add1cefd91"
   },
   "outputs": [
    {
     "data": {
      "text/plain": [
       "array(['Ideal', 'Premium', 'Good', 'Very Good', 'Fair'], dtype=object)"
      ]
     },
     "execution_count": 11,
     "metadata": {},
     "output_type": "execute_result"
    }
   ],
   "source": [
    "diamonds.cut.unique()"
   ]
  },
  {
   "cell_type": "code",
   "execution_count": 12,
   "metadata": {
    "colab": {
     "base_uri": "https://localhost:8080/"
    },
    "executionInfo": {
     "elapsed": 299,
     "status": "ok",
     "timestamp": 1612836105208,
     "user": {
      "displayName": "Frank Coleman",
      "photoUrl": "https://lh3.googleusercontent.com/a-/AOh14GhnRyj_a8bPbOyiw-1SbTtN2Ut1OvBjM5gXozPTzA=s64",
      "userId": "16429428919363884200"
     },
     "user_tz": 300
    },
    "id": "fqNls7yooZnC",
    "outputId": "3d5aee12-59ac-4ad0-c0aa-fcc5fe663799"
   },
   "outputs": [
    {
     "data": {
      "text/plain": [
       "array(['E', 'I', 'J', 'H', 'F', 'G', 'D'], dtype=object)"
      ]
     },
     "execution_count": 12,
     "metadata": {},
     "output_type": "execute_result"
    }
   ],
   "source": [
    "diamonds.color.unique()"
   ]
  },
  {
   "cell_type": "code",
   "execution_count": 13,
   "metadata": {
    "colab": {
     "base_uri": "https://localhost:8080/"
    },
    "executionInfo": {
     "elapsed": 280,
     "status": "ok",
     "timestamp": 1612836106208,
     "user": {
      "displayName": "Frank Coleman",
      "photoUrl": "https://lh3.googleusercontent.com/a-/AOh14GhnRyj_a8bPbOyiw-1SbTtN2Ut1OvBjM5gXozPTzA=s64",
      "userId": "16429428919363884200"
     },
     "user_tz": 300
    },
    "id": "vOPEEhmkoZnD",
    "outputId": "7da0b33d-90a2-4876-ea1d-9c0aa337fed8"
   },
   "outputs": [
    {
     "data": {
      "text/plain": [
       "array(['SI2', 'SI1', 'VS1', 'VS2', 'VVS2', 'VVS1', 'I1', 'IF'],\n",
       "      dtype=object)"
      ]
     },
     "execution_count": 13,
     "metadata": {},
     "output_type": "execute_result"
    }
   ],
   "source": [
    "diamonds.clarity.unique()"
   ]
  },
  {
   "cell_type": "markdown",
   "metadata": {
    "id": "YAhHq5hsoZnE"
   },
   "source": [
    "### check for outliers"
   ]
  },
  {
   "cell_type": "code",
   "execution_count": 14,
   "metadata": {
    "colab": {
     "base_uri": "https://localhost:8080/",
     "height": 297
    },
    "executionInfo": {
     "elapsed": 489,
     "status": "ok",
     "timestamp": 1612836108828,
     "user": {
      "displayName": "Frank Coleman",
      "photoUrl": "https://lh3.googleusercontent.com/a-/AOh14GhnRyj_a8bPbOyiw-1SbTtN2Ut1OvBjM5gXozPTzA=s64",
      "userId": "16429428919363884200"
     },
     "user_tz": 300
    },
    "id": "yDP91Av_oZnF",
    "outputId": "44b13035-0ae6-4af4-bc45-e356742362b2"
   },
   "outputs": [
    {
     "data": {
      "text/html": [
       "<div>\n",
       "<style scoped>\n",
       "    .dataframe tbody tr th:only-of-type {\n",
       "        vertical-align: middle;\n",
       "    }\n",
       "\n",
       "    .dataframe tbody tr th {\n",
       "        vertical-align: top;\n",
       "    }\n",
       "\n",
       "    .dataframe thead th {\n",
       "        text-align: right;\n",
       "    }\n",
       "</style>\n",
       "<table border=\"1\" class=\"dataframe\">\n",
       "  <thead>\n",
       "    <tr style=\"text-align: right;\">\n",
       "      <th></th>\n",
       "      <th>carat</th>\n",
       "      <th>depthper</th>\n",
       "      <th>table</th>\n",
       "      <th>price</th>\n",
       "      <th>length</th>\n",
       "      <th>width</th>\n",
       "      <th>depth</th>\n",
       "    </tr>\n",
       "  </thead>\n",
       "  <tbody>\n",
       "    <tr>\n",
       "      <td>count</td>\n",
       "      <td>53940.000000</td>\n",
       "      <td>53940.000000</td>\n",
       "      <td>53940.000000</td>\n",
       "      <td>53940.000000</td>\n",
       "      <td>53940.000000</td>\n",
       "      <td>53940.000000</td>\n",
       "      <td>53940.000000</td>\n",
       "    </tr>\n",
       "    <tr>\n",
       "      <td>mean</td>\n",
       "      <td>0.797940</td>\n",
       "      <td>61.749405</td>\n",
       "      <td>57.457184</td>\n",
       "      <td>3932.799722</td>\n",
       "      <td>5.731157</td>\n",
       "      <td>5.734526</td>\n",
       "      <td>3.538734</td>\n",
       "    </tr>\n",
       "    <tr>\n",
       "      <td>std</td>\n",
       "      <td>0.474011</td>\n",
       "      <td>1.432621</td>\n",
       "      <td>2.234491</td>\n",
       "      <td>3989.439738</td>\n",
       "      <td>1.121761</td>\n",
       "      <td>1.142135</td>\n",
       "      <td>0.705699</td>\n",
       "    </tr>\n",
       "    <tr>\n",
       "      <td>min</td>\n",
       "      <td>0.200000</td>\n",
       "      <td>43.000000</td>\n",
       "      <td>43.000000</td>\n",
       "      <td>326.000000</td>\n",
       "      <td>0.000000</td>\n",
       "      <td>0.000000</td>\n",
       "      <td>0.000000</td>\n",
       "    </tr>\n",
       "    <tr>\n",
       "      <td>25%</td>\n",
       "      <td>0.400000</td>\n",
       "      <td>61.000000</td>\n",
       "      <td>56.000000</td>\n",
       "      <td>950.000000</td>\n",
       "      <td>4.710000</td>\n",
       "      <td>4.720000</td>\n",
       "      <td>2.910000</td>\n",
       "    </tr>\n",
       "    <tr>\n",
       "      <td>50%</td>\n",
       "      <td>0.700000</td>\n",
       "      <td>61.800000</td>\n",
       "      <td>57.000000</td>\n",
       "      <td>2401.000000</td>\n",
       "      <td>5.700000</td>\n",
       "      <td>5.710000</td>\n",
       "      <td>3.530000</td>\n",
       "    </tr>\n",
       "    <tr>\n",
       "      <td>75%</td>\n",
       "      <td>1.040000</td>\n",
       "      <td>62.500000</td>\n",
       "      <td>59.000000</td>\n",
       "      <td>5324.250000</td>\n",
       "      <td>6.540000</td>\n",
       "      <td>6.540000</td>\n",
       "      <td>4.040000</td>\n",
       "    </tr>\n",
       "    <tr>\n",
       "      <td>max</td>\n",
       "      <td>5.010000</td>\n",
       "      <td>79.000000</td>\n",
       "      <td>95.000000</td>\n",
       "      <td>18823.000000</td>\n",
       "      <td>10.740000</td>\n",
       "      <td>58.900000</td>\n",
       "      <td>31.800000</td>\n",
       "    </tr>\n",
       "  </tbody>\n",
       "</table>\n",
       "</div>"
      ],
      "text/plain": [
       "              carat      depthper         table         price        length  \\\n",
       "count  53940.000000  53940.000000  53940.000000  53940.000000  53940.000000   \n",
       "mean       0.797940     61.749405     57.457184   3932.799722      5.731157   \n",
       "std        0.474011      1.432621      2.234491   3989.439738      1.121761   \n",
       "min        0.200000     43.000000     43.000000    326.000000      0.000000   \n",
       "25%        0.400000     61.000000     56.000000    950.000000      4.710000   \n",
       "50%        0.700000     61.800000     57.000000   2401.000000      5.700000   \n",
       "75%        1.040000     62.500000     59.000000   5324.250000      6.540000   \n",
       "max        5.010000     79.000000     95.000000  18823.000000     10.740000   \n",
       "\n",
       "              width         depth  \n",
       "count  53940.000000  53940.000000  \n",
       "mean       5.734526      3.538734  \n",
       "std        1.142135      0.705699  \n",
       "min        0.000000      0.000000  \n",
       "25%        4.720000      2.910000  \n",
       "50%        5.710000      3.530000  \n",
       "75%        6.540000      4.040000  \n",
       "max       58.900000     31.800000  "
      ]
     },
     "execution_count": 14,
     "metadata": {},
     "output_type": "execute_result"
    }
   ],
   "source": [
    "#are there any crazy outliers or numbers that don't make sense?\n",
    "diamonds.describe()"
   ]
  },
  {
   "cell_type": "code",
   "execution_count": 192,
   "metadata": {},
   "outputs": [
    {
     "name": "stdout",
     "output_type": "stream",
     "text": [
      "43040.8836\n"
     ]
    }
   ],
   "source": [
    "bl = 53940 * .797940\n",
    "print(bl)"
   ]
  },
  {
   "cell_type": "markdown",
   "metadata": {
    "id": "cQNF5AVdoZnG"
   },
   "source": [
    "### The min for length, width, and depth is 0..."
   ]
  },
  {
   "cell_type": "code",
   "execution_count": 15,
   "metadata": {
    "colab": {
     "base_uri": "https://localhost:8080/",
     "height": 669
    },
    "executionInfo": {
     "elapsed": 461,
     "status": "ok",
     "timestamp": 1612836120960,
     "user": {
      "displayName": "Frank Coleman",
      "photoUrl": "https://lh3.googleusercontent.com/a-/AOh14GhnRyj_a8bPbOyiw-1SbTtN2Ut1OvBjM5gXozPTzA=s64",
      "userId": "16429428919363884200"
     },
     "user_tz": 300
    },
    "id": "0PZIKwjqoZnH",
    "outputId": "00779424-729e-4fe4-ab43-59696bf8fb42"
   },
   "outputs": [
    {
     "data": {
      "text/html": [
       "<div>\n",
       "<style scoped>\n",
       "    .dataframe tbody tr th:only-of-type {\n",
       "        vertical-align: middle;\n",
       "    }\n",
       "\n",
       "    .dataframe tbody tr th {\n",
       "        vertical-align: top;\n",
       "    }\n",
       "\n",
       "    .dataframe thead th {\n",
       "        text-align: right;\n",
       "    }\n",
       "</style>\n",
       "<table border=\"1\" class=\"dataframe\">\n",
       "  <thead>\n",
       "    <tr style=\"text-align: right;\">\n",
       "      <th></th>\n",
       "      <th>carat</th>\n",
       "      <th>cut</th>\n",
       "      <th>color</th>\n",
       "      <th>clarity</th>\n",
       "      <th>depthper</th>\n",
       "      <th>table</th>\n",
       "      <th>price</th>\n",
       "      <th>length</th>\n",
       "      <th>width</th>\n",
       "      <th>depth</th>\n",
       "    </tr>\n",
       "  </thead>\n",
       "  <tbody>\n",
       "    <tr>\n",
       "      <td>2207</td>\n",
       "      <td>1.00</td>\n",
       "      <td>Premium</td>\n",
       "      <td>G</td>\n",
       "      <td>SI2</td>\n",
       "      <td>59.1</td>\n",
       "      <td>59.0</td>\n",
       "      <td>3142</td>\n",
       "      <td>6.55</td>\n",
       "      <td>6.48</td>\n",
       "      <td>0.0</td>\n",
       "    </tr>\n",
       "    <tr>\n",
       "      <td>2314</td>\n",
       "      <td>1.01</td>\n",
       "      <td>Premium</td>\n",
       "      <td>H</td>\n",
       "      <td>I1</td>\n",
       "      <td>58.1</td>\n",
       "      <td>59.0</td>\n",
       "      <td>3167</td>\n",
       "      <td>6.66</td>\n",
       "      <td>6.60</td>\n",
       "      <td>0.0</td>\n",
       "    </tr>\n",
       "    <tr>\n",
       "      <td>4791</td>\n",
       "      <td>1.10</td>\n",
       "      <td>Premium</td>\n",
       "      <td>G</td>\n",
       "      <td>SI2</td>\n",
       "      <td>63.0</td>\n",
       "      <td>59.0</td>\n",
       "      <td>3696</td>\n",
       "      <td>6.50</td>\n",
       "      <td>6.47</td>\n",
       "      <td>0.0</td>\n",
       "    </tr>\n",
       "    <tr>\n",
       "      <td>5471</td>\n",
       "      <td>1.01</td>\n",
       "      <td>Premium</td>\n",
       "      <td>F</td>\n",
       "      <td>SI2</td>\n",
       "      <td>59.2</td>\n",
       "      <td>58.0</td>\n",
       "      <td>3837</td>\n",
       "      <td>6.50</td>\n",
       "      <td>6.47</td>\n",
       "      <td>0.0</td>\n",
       "    </tr>\n",
       "    <tr>\n",
       "      <td>10167</td>\n",
       "      <td>1.50</td>\n",
       "      <td>Good</td>\n",
       "      <td>G</td>\n",
       "      <td>I1</td>\n",
       "      <td>64.0</td>\n",
       "      <td>61.0</td>\n",
       "      <td>4731</td>\n",
       "      <td>7.15</td>\n",
       "      <td>7.04</td>\n",
       "      <td>0.0</td>\n",
       "    </tr>\n",
       "    <tr>\n",
       "      <td>11182</td>\n",
       "      <td>1.07</td>\n",
       "      <td>Ideal</td>\n",
       "      <td>F</td>\n",
       "      <td>SI2</td>\n",
       "      <td>61.6</td>\n",
       "      <td>56.0</td>\n",
       "      <td>4954</td>\n",
       "      <td>0.00</td>\n",
       "      <td>6.62</td>\n",
       "      <td>0.0</td>\n",
       "    </tr>\n",
       "    <tr>\n",
       "      <td>11963</td>\n",
       "      <td>1.00</td>\n",
       "      <td>Very Good</td>\n",
       "      <td>H</td>\n",
       "      <td>VS2</td>\n",
       "      <td>63.3</td>\n",
       "      <td>53.0</td>\n",
       "      <td>5139</td>\n",
       "      <td>0.00</td>\n",
       "      <td>0.00</td>\n",
       "      <td>0.0</td>\n",
       "    </tr>\n",
       "    <tr>\n",
       "      <td>13601</td>\n",
       "      <td>1.15</td>\n",
       "      <td>Ideal</td>\n",
       "      <td>G</td>\n",
       "      <td>VS2</td>\n",
       "      <td>59.2</td>\n",
       "      <td>56.0</td>\n",
       "      <td>5564</td>\n",
       "      <td>6.88</td>\n",
       "      <td>6.83</td>\n",
       "      <td>0.0</td>\n",
       "    </tr>\n",
       "    <tr>\n",
       "      <td>15951</td>\n",
       "      <td>1.14</td>\n",
       "      <td>Fair</td>\n",
       "      <td>G</td>\n",
       "      <td>VS1</td>\n",
       "      <td>57.5</td>\n",
       "      <td>67.0</td>\n",
       "      <td>6381</td>\n",
       "      <td>0.00</td>\n",
       "      <td>0.00</td>\n",
       "      <td>0.0</td>\n",
       "    </tr>\n",
       "    <tr>\n",
       "      <td>24394</td>\n",
       "      <td>2.18</td>\n",
       "      <td>Premium</td>\n",
       "      <td>H</td>\n",
       "      <td>SI2</td>\n",
       "      <td>59.4</td>\n",
       "      <td>61.0</td>\n",
       "      <td>12631</td>\n",
       "      <td>8.49</td>\n",
       "      <td>8.45</td>\n",
       "      <td>0.0</td>\n",
       "    </tr>\n",
       "    <tr>\n",
       "      <td>24520</td>\n",
       "      <td>1.56</td>\n",
       "      <td>Ideal</td>\n",
       "      <td>G</td>\n",
       "      <td>VS2</td>\n",
       "      <td>62.2</td>\n",
       "      <td>54.0</td>\n",
       "      <td>12800</td>\n",
       "      <td>0.00</td>\n",
       "      <td>0.00</td>\n",
       "      <td>0.0</td>\n",
       "    </tr>\n",
       "    <tr>\n",
       "      <td>26123</td>\n",
       "      <td>2.25</td>\n",
       "      <td>Premium</td>\n",
       "      <td>I</td>\n",
       "      <td>SI1</td>\n",
       "      <td>61.3</td>\n",
       "      <td>58.0</td>\n",
       "      <td>15397</td>\n",
       "      <td>8.52</td>\n",
       "      <td>8.42</td>\n",
       "      <td>0.0</td>\n",
       "    </tr>\n",
       "    <tr>\n",
       "      <td>26243</td>\n",
       "      <td>1.20</td>\n",
       "      <td>Premium</td>\n",
       "      <td>D</td>\n",
       "      <td>VVS1</td>\n",
       "      <td>62.1</td>\n",
       "      <td>59.0</td>\n",
       "      <td>15686</td>\n",
       "      <td>0.00</td>\n",
       "      <td>0.00</td>\n",
       "      <td>0.0</td>\n",
       "    </tr>\n",
       "    <tr>\n",
       "      <td>27112</td>\n",
       "      <td>2.20</td>\n",
       "      <td>Premium</td>\n",
       "      <td>H</td>\n",
       "      <td>SI1</td>\n",
       "      <td>61.2</td>\n",
       "      <td>59.0</td>\n",
       "      <td>17265</td>\n",
       "      <td>8.42</td>\n",
       "      <td>8.37</td>\n",
       "      <td>0.0</td>\n",
       "    </tr>\n",
       "    <tr>\n",
       "      <td>27429</td>\n",
       "      <td>2.25</td>\n",
       "      <td>Premium</td>\n",
       "      <td>H</td>\n",
       "      <td>SI2</td>\n",
       "      <td>62.8</td>\n",
       "      <td>59.0</td>\n",
       "      <td>18034</td>\n",
       "      <td>0.00</td>\n",
       "      <td>0.00</td>\n",
       "      <td>0.0</td>\n",
       "    </tr>\n",
       "    <tr>\n",
       "      <td>27503</td>\n",
       "      <td>2.02</td>\n",
       "      <td>Premium</td>\n",
       "      <td>H</td>\n",
       "      <td>VS2</td>\n",
       "      <td>62.7</td>\n",
       "      <td>53.0</td>\n",
       "      <td>18207</td>\n",
       "      <td>8.02</td>\n",
       "      <td>7.95</td>\n",
       "      <td>0.0</td>\n",
       "    </tr>\n",
       "    <tr>\n",
       "      <td>27739</td>\n",
       "      <td>2.80</td>\n",
       "      <td>Good</td>\n",
       "      <td>G</td>\n",
       "      <td>SI2</td>\n",
       "      <td>63.8</td>\n",
       "      <td>58.0</td>\n",
       "      <td>18788</td>\n",
       "      <td>8.90</td>\n",
       "      <td>8.85</td>\n",
       "      <td>0.0</td>\n",
       "    </tr>\n",
       "    <tr>\n",
       "      <td>49556</td>\n",
       "      <td>0.71</td>\n",
       "      <td>Good</td>\n",
       "      <td>F</td>\n",
       "      <td>SI2</td>\n",
       "      <td>64.1</td>\n",
       "      <td>60.0</td>\n",
       "      <td>2130</td>\n",
       "      <td>0.00</td>\n",
       "      <td>0.00</td>\n",
       "      <td>0.0</td>\n",
       "    </tr>\n",
       "    <tr>\n",
       "      <td>49557</td>\n",
       "      <td>0.71</td>\n",
       "      <td>Good</td>\n",
       "      <td>F</td>\n",
       "      <td>SI2</td>\n",
       "      <td>64.1</td>\n",
       "      <td>60.0</td>\n",
       "      <td>2130</td>\n",
       "      <td>0.00</td>\n",
       "      <td>0.00</td>\n",
       "      <td>0.0</td>\n",
       "    </tr>\n",
       "    <tr>\n",
       "      <td>51506</td>\n",
       "      <td>1.12</td>\n",
       "      <td>Premium</td>\n",
       "      <td>G</td>\n",
       "      <td>I1</td>\n",
       "      <td>60.4</td>\n",
       "      <td>59.0</td>\n",
       "      <td>2383</td>\n",
       "      <td>6.71</td>\n",
       "      <td>6.67</td>\n",
       "      <td>0.0</td>\n",
       "    </tr>\n",
       "  </tbody>\n",
       "</table>\n",
       "</div>"
      ],
      "text/plain": [
       "       carat        cut color clarity  depthper  table  price  length  width  \\\n",
       "2207    1.00    Premium     G     SI2      59.1   59.0   3142    6.55   6.48   \n",
       "2314    1.01    Premium     H      I1      58.1   59.0   3167    6.66   6.60   \n",
       "4791    1.10    Premium     G     SI2      63.0   59.0   3696    6.50   6.47   \n",
       "5471    1.01    Premium     F     SI2      59.2   58.0   3837    6.50   6.47   \n",
       "10167   1.50       Good     G      I1      64.0   61.0   4731    7.15   7.04   \n",
       "11182   1.07      Ideal     F     SI2      61.6   56.0   4954    0.00   6.62   \n",
       "11963   1.00  Very Good     H     VS2      63.3   53.0   5139    0.00   0.00   \n",
       "13601   1.15      Ideal     G     VS2      59.2   56.0   5564    6.88   6.83   \n",
       "15951   1.14       Fair     G     VS1      57.5   67.0   6381    0.00   0.00   \n",
       "24394   2.18    Premium     H     SI2      59.4   61.0  12631    8.49   8.45   \n",
       "24520   1.56      Ideal     G     VS2      62.2   54.0  12800    0.00   0.00   \n",
       "26123   2.25    Premium     I     SI1      61.3   58.0  15397    8.52   8.42   \n",
       "26243   1.20    Premium     D    VVS1      62.1   59.0  15686    0.00   0.00   \n",
       "27112   2.20    Premium     H     SI1      61.2   59.0  17265    8.42   8.37   \n",
       "27429   2.25    Premium     H     SI2      62.8   59.0  18034    0.00   0.00   \n",
       "27503   2.02    Premium     H     VS2      62.7   53.0  18207    8.02   7.95   \n",
       "27739   2.80       Good     G     SI2      63.8   58.0  18788    8.90   8.85   \n",
       "49556   0.71       Good     F     SI2      64.1   60.0   2130    0.00   0.00   \n",
       "49557   0.71       Good     F     SI2      64.1   60.0   2130    0.00   0.00   \n",
       "51506   1.12    Premium     G      I1      60.4   59.0   2383    6.71   6.67   \n",
       "\n",
       "       depth  \n",
       "2207     0.0  \n",
       "2314     0.0  \n",
       "4791     0.0  \n",
       "5471     0.0  \n",
       "10167    0.0  \n",
       "11182    0.0  \n",
       "11963    0.0  \n",
       "13601    0.0  \n",
       "15951    0.0  \n",
       "24394    0.0  \n",
       "24520    0.0  \n",
       "26123    0.0  \n",
       "26243    0.0  \n",
       "27112    0.0  \n",
       "27429    0.0  \n",
       "27503    0.0  \n",
       "27739    0.0  \n",
       "49556    0.0  \n",
       "49557    0.0  \n",
       "51506    0.0  "
      ]
     },
     "execution_count": 15,
     "metadata": {},
     "output_type": "execute_result"
    }
   ],
   "source": [
    "#of course this doesn't make sense.\n",
    "# this brings up all of the rows with 0 in any of those three places\n",
    "diamonds.loc[(diamonds['length']==0) | (diamonds['width']==0) | (diamonds['depth']==0)]"
   ]
  },
  {
   "cell_type": "code",
   "execution_count": 16,
   "metadata": {
    "colab": {
     "base_uri": "https://localhost:8080/"
    },
    "executionInfo": {
     "elapsed": 639,
     "status": "ok",
     "timestamp": 1612836121178,
     "user": {
      "displayName": "Frank Coleman",
      "photoUrl": "https://lh3.googleusercontent.com/a-/AOh14GhnRyj_a8bPbOyiw-1SbTtN2Ut1OvBjM5gXozPTzA=s64",
      "userId": "16429428919363884200"
     },
     "user_tz": 300
    },
    "id": "dyx7BoDaoZnI",
    "outputId": "1905c646-374a-4efd-fe06-1a2354963e12"
   },
   "outputs": [
    {
     "name": "stdout",
     "output_type": "stream",
     "text": [
      "<class 'pandas.core.frame.DataFrame'>\n",
      "RangeIndex: 53940 entries, 0 to 53939\n",
      "Data columns (total 10 columns):\n",
      "carat       53940 non-null float64\n",
      "cut         53940 non-null object\n",
      "color       53940 non-null object\n",
      "clarity     53940 non-null object\n",
      "depthper    53940 non-null float64\n",
      "table       53940 non-null float64\n",
      "price       53940 non-null int64\n",
      "length      53940 non-null float64\n",
      "width       53940 non-null float64\n",
      "depth       53940 non-null float64\n",
      "dtypes: float64(6), int64(1), object(3)\n",
      "memory usage: 4.1+ MB\n"
     ]
    }
   ],
   "source": [
    "diamonds.info()"
   ]
  },
  {
   "cell_type": "code",
   "execution_count": 17,
   "metadata": {
    "id": "TEoQnAxhoZnJ"
   },
   "outputs": [],
   "source": [
    "#replacing missing depth with formula for depth\n",
    "diamonds[\"depth\"] = np.where(diamonds[\"depth\"] == 0.0, \n",
    "                             (((diamonds[\"length\"] + diamonds[\"width\"])/2)*diamonds[\"depthper\"]),\n",
    "                             diamonds[\"depth\"])"
   ]
  },
  {
   "cell_type": "code",
   "execution_count": 18,
   "metadata": {
    "colab": {
     "base_uri": "https://localhost:8080/",
     "height": 297
    },
    "executionInfo": {
     "elapsed": 823,
     "status": "ok",
     "timestamp": 1612836121418,
     "user": {
      "displayName": "Frank Coleman",
      "photoUrl": "https://lh3.googleusercontent.com/a-/AOh14GhnRyj_a8bPbOyiw-1SbTtN2Ut1OvBjM5gXozPTzA=s64",
      "userId": "16429428919363884200"
     },
     "user_tz": 300
    },
    "id": "FTO8CxwroZnL",
    "outputId": "2e4fbcab-fb1b-4035-8fc1-4cad92d074c6"
   },
   "outputs": [
    {
     "data": {
      "text/html": [
       "<div>\n",
       "<style scoped>\n",
       "    .dataframe tbody tr th:only-of-type {\n",
       "        vertical-align: middle;\n",
       "    }\n",
       "\n",
       "    .dataframe tbody tr th {\n",
       "        vertical-align: top;\n",
       "    }\n",
       "\n",
       "    .dataframe thead th {\n",
       "        text-align: right;\n",
       "    }\n",
       "</style>\n",
       "<table border=\"1\" class=\"dataframe\">\n",
       "  <thead>\n",
       "    <tr style=\"text-align: right;\">\n",
       "      <th></th>\n",
       "      <th>carat</th>\n",
       "      <th>cut</th>\n",
       "      <th>color</th>\n",
       "      <th>clarity</th>\n",
       "      <th>depthper</th>\n",
       "      <th>table</th>\n",
       "      <th>price</th>\n",
       "      <th>length</th>\n",
       "      <th>width</th>\n",
       "      <th>depth</th>\n",
       "    </tr>\n",
       "  </thead>\n",
       "  <tbody>\n",
       "    <tr>\n",
       "      <td>11182</td>\n",
       "      <td>1.07</td>\n",
       "      <td>Ideal</td>\n",
       "      <td>F</td>\n",
       "      <td>SI2</td>\n",
       "      <td>61.6</td>\n",
       "      <td>56.0</td>\n",
       "      <td>4954</td>\n",
       "      <td>0.0</td>\n",
       "      <td>6.62</td>\n",
       "      <td>203.896</td>\n",
       "    </tr>\n",
       "    <tr>\n",
       "      <td>11963</td>\n",
       "      <td>1.00</td>\n",
       "      <td>Very Good</td>\n",
       "      <td>H</td>\n",
       "      <td>VS2</td>\n",
       "      <td>63.3</td>\n",
       "      <td>53.0</td>\n",
       "      <td>5139</td>\n",
       "      <td>0.0</td>\n",
       "      <td>0.00</td>\n",
       "      <td>0.000</td>\n",
       "    </tr>\n",
       "    <tr>\n",
       "      <td>15951</td>\n",
       "      <td>1.14</td>\n",
       "      <td>Fair</td>\n",
       "      <td>G</td>\n",
       "      <td>VS1</td>\n",
       "      <td>57.5</td>\n",
       "      <td>67.0</td>\n",
       "      <td>6381</td>\n",
       "      <td>0.0</td>\n",
       "      <td>0.00</td>\n",
       "      <td>0.000</td>\n",
       "    </tr>\n",
       "    <tr>\n",
       "      <td>24520</td>\n",
       "      <td>1.56</td>\n",
       "      <td>Ideal</td>\n",
       "      <td>G</td>\n",
       "      <td>VS2</td>\n",
       "      <td>62.2</td>\n",
       "      <td>54.0</td>\n",
       "      <td>12800</td>\n",
       "      <td>0.0</td>\n",
       "      <td>0.00</td>\n",
       "      <td>0.000</td>\n",
       "    </tr>\n",
       "    <tr>\n",
       "      <td>26243</td>\n",
       "      <td>1.20</td>\n",
       "      <td>Premium</td>\n",
       "      <td>D</td>\n",
       "      <td>VVS1</td>\n",
       "      <td>62.1</td>\n",
       "      <td>59.0</td>\n",
       "      <td>15686</td>\n",
       "      <td>0.0</td>\n",
       "      <td>0.00</td>\n",
       "      <td>0.000</td>\n",
       "    </tr>\n",
       "    <tr>\n",
       "      <td>27429</td>\n",
       "      <td>2.25</td>\n",
       "      <td>Premium</td>\n",
       "      <td>H</td>\n",
       "      <td>SI2</td>\n",
       "      <td>62.8</td>\n",
       "      <td>59.0</td>\n",
       "      <td>18034</td>\n",
       "      <td>0.0</td>\n",
       "      <td>0.00</td>\n",
       "      <td>0.000</td>\n",
       "    </tr>\n",
       "    <tr>\n",
       "      <td>49556</td>\n",
       "      <td>0.71</td>\n",
       "      <td>Good</td>\n",
       "      <td>F</td>\n",
       "      <td>SI2</td>\n",
       "      <td>64.1</td>\n",
       "      <td>60.0</td>\n",
       "      <td>2130</td>\n",
       "      <td>0.0</td>\n",
       "      <td>0.00</td>\n",
       "      <td>0.000</td>\n",
       "    </tr>\n",
       "    <tr>\n",
       "      <td>49557</td>\n",
       "      <td>0.71</td>\n",
       "      <td>Good</td>\n",
       "      <td>F</td>\n",
       "      <td>SI2</td>\n",
       "      <td>64.1</td>\n",
       "      <td>60.0</td>\n",
       "      <td>2130</td>\n",
       "      <td>0.0</td>\n",
       "      <td>0.00</td>\n",
       "      <td>0.000</td>\n",
       "    </tr>\n",
       "  </tbody>\n",
       "</table>\n",
       "</div>"
      ],
      "text/plain": [
       "       carat        cut color clarity  depthper  table  price  length  width  \\\n",
       "11182   1.07      Ideal     F     SI2      61.6   56.0   4954     0.0   6.62   \n",
       "11963   1.00  Very Good     H     VS2      63.3   53.0   5139     0.0   0.00   \n",
       "15951   1.14       Fair     G     VS1      57.5   67.0   6381     0.0   0.00   \n",
       "24520   1.56      Ideal     G     VS2      62.2   54.0  12800     0.0   0.00   \n",
       "26243   1.20    Premium     D    VVS1      62.1   59.0  15686     0.0   0.00   \n",
       "27429   2.25    Premium     H     SI2      62.8   59.0  18034     0.0   0.00   \n",
       "49556   0.71       Good     F     SI2      64.1   60.0   2130     0.0   0.00   \n",
       "49557   0.71       Good     F     SI2      64.1   60.0   2130     0.0   0.00   \n",
       "\n",
       "         depth  \n",
       "11182  203.896  \n",
       "11963    0.000  \n",
       "15951    0.000  \n",
       "24520    0.000  \n",
       "26243    0.000  \n",
       "27429    0.000  \n",
       "49556    0.000  \n",
       "49557    0.000  "
      ]
     },
     "execution_count": 18,
     "metadata": {},
     "output_type": "execute_result"
    }
   ],
   "source": [
    "#seeing all columns with 0\n",
    "diamonds.loc[(diamonds['length']==0) | (diamonds['width']==0) | (diamonds['depth']==0)]"
   ]
  },
  {
   "cell_type": "code",
   "execution_count": 19,
   "metadata": {
    "id": "MtgDkENXoZnM"
   },
   "outputs": [],
   "source": [
    "#you can see that the number of columns with 0's reduced from 20 to 8. \n",
    "#Row 11182 has very high depth, because the length is zero. \n",
    "#That messed with the formula (depth = avg width and length times depth %)\n",
    "#Therefore we will now delete all rows with a 0 in LENGTH."
   ]
  },
  {
   "cell_type": "code",
   "execution_count": 20,
   "metadata": {
    "id": "yiINpavSoZnN"
   },
   "outputs": [],
   "source": [
    "#Deleting rows where length is 0\n",
    "diamonds = diamonds[diamonds.length != 0]"
   ]
  },
  {
   "cell_type": "code",
   "execution_count": 21,
   "metadata": {
    "colab": {
     "base_uri": "https://localhost:8080/",
     "height": 49
    },
    "executionInfo": {
     "elapsed": 830,
     "status": "ok",
     "timestamp": 1612836121481,
     "user": {
      "displayName": "Frank Coleman",
      "photoUrl": "https://lh3.googleusercontent.com/a-/AOh14GhnRyj_a8bPbOyiw-1SbTtN2Ut1OvBjM5gXozPTzA=s64",
      "userId": "16429428919363884200"
     },
     "user_tz": 300
    },
    "id": "J8VsVardoZnO",
    "outputId": "2e37ca93-ec0f-466e-e1f0-e7c92e29d44d"
   },
   "outputs": [
    {
     "data": {
      "text/html": [
       "<div>\n",
       "<style scoped>\n",
       "    .dataframe tbody tr th:only-of-type {\n",
       "        vertical-align: middle;\n",
       "    }\n",
       "\n",
       "    .dataframe tbody tr th {\n",
       "        vertical-align: top;\n",
       "    }\n",
       "\n",
       "    .dataframe thead th {\n",
       "        text-align: right;\n",
       "    }\n",
       "</style>\n",
       "<table border=\"1\" class=\"dataframe\">\n",
       "  <thead>\n",
       "    <tr style=\"text-align: right;\">\n",
       "      <th></th>\n",
       "      <th>carat</th>\n",
       "      <th>cut</th>\n",
       "      <th>color</th>\n",
       "      <th>clarity</th>\n",
       "      <th>depthper</th>\n",
       "      <th>table</th>\n",
       "      <th>price</th>\n",
       "      <th>length</th>\n",
       "      <th>width</th>\n",
       "      <th>depth</th>\n",
       "    </tr>\n",
       "  </thead>\n",
       "  <tbody>\n",
       "  </tbody>\n",
       "</table>\n",
       "</div>"
      ],
      "text/plain": [
       "Empty DataFrame\n",
       "Columns: [carat, cut, color, clarity, depthper, table, price, length, width, depth]\n",
       "Index: []"
      ]
     },
     "execution_count": 21,
     "metadata": {},
     "output_type": "execute_result"
    }
   ],
   "source": [
    "diamonds.loc[(diamonds['length']==0) | (diamonds['width']==0) | (diamonds['depth']==0)]"
   ]
  },
  {
   "cell_type": "code",
   "execution_count": 22,
   "metadata": {
    "colab": {
     "base_uri": "https://localhost:8080/",
     "height": 297
    },
    "executionInfo": {
     "elapsed": 823,
     "status": "ok",
     "timestamp": 1612836121496,
     "user": {
      "displayName": "Frank Coleman",
      "photoUrl": "https://lh3.googleusercontent.com/a-/AOh14GhnRyj_a8bPbOyiw-1SbTtN2Ut1OvBjM5gXozPTzA=s64",
      "userId": "16429428919363884200"
     },
     "user_tz": 300
    },
    "id": "kksoYn0xoZnP",
    "outputId": "c5c9dd76-f1ee-43b6-94a6-21472f233f76"
   },
   "outputs": [
    {
     "data": {
      "text/html": [
       "<div>\n",
       "<style scoped>\n",
       "    .dataframe tbody tr th:only-of-type {\n",
       "        vertical-align: middle;\n",
       "    }\n",
       "\n",
       "    .dataframe tbody tr th {\n",
       "        vertical-align: top;\n",
       "    }\n",
       "\n",
       "    .dataframe thead th {\n",
       "        text-align: right;\n",
       "    }\n",
       "</style>\n",
       "<table border=\"1\" class=\"dataframe\">\n",
       "  <thead>\n",
       "    <tr style=\"text-align: right;\">\n",
       "      <th></th>\n",
       "      <th>carat</th>\n",
       "      <th>depthper</th>\n",
       "      <th>table</th>\n",
       "      <th>price</th>\n",
       "      <th>length</th>\n",
       "      <th>width</th>\n",
       "      <th>depth</th>\n",
       "    </tr>\n",
       "  </thead>\n",
       "  <tbody>\n",
       "    <tr>\n",
       "      <td>count</td>\n",
       "      <td>53932.000000</td>\n",
       "      <td>53932.000000</td>\n",
       "      <td>53932.000000</td>\n",
       "      <td>53932.000000</td>\n",
       "      <td>53932.000000</td>\n",
       "      <td>53932.000000</td>\n",
       "      <td>53932.000000</td>\n",
       "    </tr>\n",
       "    <tr>\n",
       "      <td>mean</td>\n",
       "      <td>0.797879</td>\n",
       "      <td>61.749336</td>\n",
       "      <td>57.457029</td>\n",
       "      <td>3932.136079</td>\n",
       "      <td>5.732007</td>\n",
       "      <td>5.735254</td>\n",
       "      <td>3.639935</td>\n",
       "    </tr>\n",
       "    <tr>\n",
       "      <td>std</td>\n",
       "      <td>0.473986</td>\n",
       "      <td>1.432514</td>\n",
       "      <td>2.234064</td>\n",
       "      <td>3988.734835</td>\n",
       "      <td>1.119670</td>\n",
       "      <td>1.140343</td>\n",
       "      <td>6.795973</td>\n",
       "    </tr>\n",
       "    <tr>\n",
       "      <td>min</td>\n",
       "      <td>0.200000</td>\n",
       "      <td>43.000000</td>\n",
       "      <td>43.000000</td>\n",
       "      <td>326.000000</td>\n",
       "      <td>3.730000</td>\n",
       "      <td>3.680000</td>\n",
       "      <td>1.070000</td>\n",
       "    </tr>\n",
       "    <tr>\n",
       "      <td>25%</td>\n",
       "      <td>0.400000</td>\n",
       "      <td>61.000000</td>\n",
       "      <td>56.000000</td>\n",
       "      <td>949.750000</td>\n",
       "      <td>4.710000</td>\n",
       "      <td>4.720000</td>\n",
       "      <td>2.910000</td>\n",
       "    </tr>\n",
       "    <tr>\n",
       "      <td>50%</td>\n",
       "      <td>0.700000</td>\n",
       "      <td>61.800000</td>\n",
       "      <td>57.000000</td>\n",
       "      <td>2401.000000</td>\n",
       "      <td>5.700000</td>\n",
       "      <td>5.710000</td>\n",
       "      <td>3.530000</td>\n",
       "    </tr>\n",
       "    <tr>\n",
       "      <td>75%</td>\n",
       "      <td>1.040000</td>\n",
       "      <td>62.500000</td>\n",
       "      <td>59.000000</td>\n",
       "      <td>5324.000000</td>\n",
       "      <td>6.540000</td>\n",
       "      <td>6.540000</td>\n",
       "      <td>4.040000</td>\n",
       "    </tr>\n",
       "    <tr>\n",
       "      <td>max</td>\n",
       "      <td>5.010000</td>\n",
       "      <td>79.000000</td>\n",
       "      <td>95.000000</td>\n",
       "      <td>18823.000000</td>\n",
       "      <td>10.740000</td>\n",
       "      <td>58.900000</td>\n",
       "      <td>566.225000</td>\n",
       "    </tr>\n",
       "  </tbody>\n",
       "</table>\n",
       "</div>"
      ],
      "text/plain": [
       "              carat      depthper         table         price        length  \\\n",
       "count  53932.000000  53932.000000  53932.000000  53932.000000  53932.000000   \n",
       "mean       0.797879     61.749336     57.457029   3932.136079      5.732007   \n",
       "std        0.473986      1.432514      2.234064   3988.734835      1.119670   \n",
       "min        0.200000     43.000000     43.000000    326.000000      3.730000   \n",
       "25%        0.400000     61.000000     56.000000    949.750000      4.710000   \n",
       "50%        0.700000     61.800000     57.000000   2401.000000      5.700000   \n",
       "75%        1.040000     62.500000     59.000000   5324.000000      6.540000   \n",
       "max        5.010000     79.000000     95.000000  18823.000000     10.740000   \n",
       "\n",
       "              width         depth  \n",
       "count  53932.000000  53932.000000  \n",
       "mean       5.735254      3.639935  \n",
       "std        1.140343      6.795973  \n",
       "min        3.680000      1.070000  \n",
       "25%        4.720000      2.910000  \n",
       "50%        5.710000      3.530000  \n",
       "75%        6.540000      4.040000  \n",
       "max       58.900000    566.225000  "
      ]
     },
     "execution_count": 22,
     "metadata": {},
     "output_type": "execute_result"
    }
   ],
   "source": [
    "diamonds.describe()"
   ]
  },
  {
   "cell_type": "markdown",
   "metadata": {
    "id": "Zu4SyT2goZnQ"
   },
   "source": [
    "## Univariate analysis"
   ]
  },
  {
   "cell_type": "markdown",
   "metadata": {
    "id": "2XmRl8JUoZnQ"
   },
   "source": [
    "### Price"
   ]
  },
  {
   "cell_type": "code",
   "execution_count": 23,
   "metadata": {
    "colab": {
     "base_uri": "https://localhost:8080/",
     "height": 295
    },
    "executionInfo": {
     "elapsed": 615,
     "status": "ok",
     "timestamp": 1612836156166,
     "user": {
      "displayName": "Frank Coleman",
      "photoUrl": "https://lh3.googleusercontent.com/a-/AOh14GhnRyj_a8bPbOyiw-1SbTtN2Ut1OvBjM5gXozPTzA=s64",
      "userId": "16429428919363884200"
     },
     "user_tz": 300
    },
    "id": "RN4vhmGCoZnR",
    "outputId": "c2f5b201-36a9-4064-dcce-06adba7f9119"
   },
   "outputs": [
    {
     "data": {
      "image/png": "[encoded data removed]",
      "text/plain": [
       "<Figure size 432x288 with 1 Axes>"
      ]
     },
     "metadata": {
      "needs_background": "light"
     },
     "output_type": "display_data"
    }
   ],
   "source": [
    "plt.hist(diamonds['price'], color = 'g', bins=10)\n",
    "plt.axvline((np.quantile(diamonds['price'], .5)),color='#ff6500',label='Median Price')\n",
    "plt.legend()\n",
    "plt.xlabel('Price in USD')\n",
    "plt.ylabel('Count')\n",
    "plt.title('Price Histogram')\n",
    "plt.show()"
   ]
  },
  {
   "cell_type": "code",
   "execution_count": 24,
   "metadata": {
    "colab": {
     "base_uri": "https://localhost:8080/",
     "height": 295
    },
    "executionInfo": {
     "elapsed": 860,
     "status": "ok",
     "timestamp": 1612836160994,
     "user": {
      "displayName": "Frank Coleman",
      "photoUrl": "https://lh3.googleusercontent.com/a-/AOh14GhnRyj_a8bPbOyiw-1SbTtN2Ut1OvBjM5gXozPTzA=s64",
      "userId": "16429428919363884200"
     },
     "user_tz": 300
    },
    "id": "14-h2mn5oZnS",
    "outputId": "a9d134fc-c777-4254-e284-1bf2a0910c25"
   },
   "outputs": [
    {
     "data": {
      "image/png": "[encoded data removed]",
      "text/plain": [
       "<Figure size 432x288 with 1 Axes>"
      ]
     },
     "metadata": {
      "needs_background": "light"
     },
     "output_type": "display_data"
    }
   ],
   "source": [
    "plt.hist(diamonds['price'], color = 'g', log=True)\n",
    "\n",
    "plt.axvline((np.quantile(diamonds['price'], .5)),color='#ff6500',label='Median Price')\n",
    "plt.legend()\n",
    "plt.xlabel('Price in USD')\n",
    "plt.ylabel('Count')\n",
    "plt.title('Price Histogram')\n",
    "plt.show()"
   ]
  },
  {
   "cell_type": "code",
   "execution_count": 25,
   "metadata": {
    "colab": {
     "base_uri": "https://localhost:8080/",
     "height": 298
    },
    "executionInfo": {
     "elapsed": 579,
     "status": "ok",
     "timestamp": 1612836162819,
     "user": {
      "displayName": "Frank Coleman",
      "photoUrl": "https://lh3.googleusercontent.com/a-/AOh14GhnRyj_a8bPbOyiw-1SbTtN2Ut1OvBjM5gXozPTzA=s64",
      "userId": "16429428919363884200"
     },
     "user_tz": 300
    },
    "id": "bkxK8tjPoZnU",
    "outputId": "ef5d973d-7c15-4be6-8c6c-00c810b655f3"
   },
   "outputs": [
    {
     "data": {
      "text/plain": [
       "Text(0.5, 1.0, 'Price Boxplot')"
      ]
     },
     "execution_count": 25,
     "metadata": {},
     "output_type": "execute_result"
    },
    {
     "data": {
      "image/png": "[encoded data removed]",
      "text/plain": [
       "<Figure size 432x288 with 1 Axes>"
      ]
     },
     "metadata": {
      "needs_background": "light"
     },
     "output_type": "display_data"
    }
   ],
   "source": [
    "plt.boxplot(diamonds['price'])\n",
    "plt.title('Price Boxplot')"
   ]
  },
  {
   "cell_type": "code",
   "execution_count": 26,
   "metadata": {
    "colab": {
     "base_uri": "https://localhost:8080/",
     "height": 350
    },
    "executionInfo": {
     "elapsed": 467,
     "status": "ok",
     "timestamp": 1612837143260,
     "user": {
      "displayName": "Frank Coleman",
      "photoUrl": "https://lh3.googleusercontent.com/a-/AOh14GhnRyj_a8bPbOyiw-1SbTtN2Ut1OvBjM5gXozPTzA=s64",
      "userId": "16429428919363884200"
     },
     "user_tz": 300
    },
    "id": "rFZiUgv0oZnW",
    "outputId": "f3e8197f-4084-4261-ef6b-0678be7d2ea9"
   },
   "outputs": [
    {
     "data": {
      "text/plain": [
       "<matplotlib.axes._subplots.AxesSubplot at 0x7fcf512bdf50>"
      ]
     },
     "execution_count": 26,
     "metadata": {},
     "output_type": "execute_result"
    },
    {
     "data": {
      "image/png": "[encoded data removed]",
      "text/plain": [
       "<Figure size 432x288 with 1 Axes>"
      ]
     },
     "metadata": {
      "needs_background": "light"
     },
     "output_type": "display_data"
    }
   ],
   "source": [
    "sns.boxplot(diamonds['price'])"
   ]
  },
  {
   "cell_type": "code",
   "execution_count": 27,
   "metadata": {
    "colab": {
     "base_uri": "https://localhost:8080/"
    },
    "executionInfo": {
     "elapsed": 648,
     "status": "ok",
     "timestamp": 1612837146813,
     "user": {
      "displayName": "Frank Coleman",
      "photoUrl": "https://lh3.googleusercontent.com/a-/AOh14GhnRyj_a8bPbOyiw-1SbTtN2Ut1OvBjM5gXozPTzA=s64",
      "userId": "16429428919363884200"
     },
     "user_tz": 300
    },
    "id": "4qG4Y2zIoZnX",
    "outputId": "a94cd63f-7d27-4d82-d791-eb8fd42a9251"
   },
   "outputs": [
    {
     "data": {
      "text/plain": [
       "count    53932.000000\n",
       "mean      3932.136079\n",
       "std       3988.734835\n",
       "min        326.000000\n",
       "25%        949.750000\n",
       "50%       2401.000000\n",
       "75%       5324.000000\n",
       "max      18823.000000\n",
       "Name: price, dtype: float64"
      ]
     },
     "execution_count": 27,
     "metadata": {},
     "output_type": "execute_result"
    }
   ],
   "source": [
    "diamonds.price.describe()"
   ]
  },
  {
   "cell_type": "code",
   "execution_count": 28,
   "metadata": {
    "colab": {
     "base_uri": "https://localhost:8080/"
    },
    "executionInfo": {
     "elapsed": 409,
     "status": "ok",
     "timestamp": 1612837148078,
     "user": {
      "displayName": "Frank Coleman",
      "photoUrl": "https://lh3.googleusercontent.com/a-/AOh14GhnRyj_a8bPbOyiw-1SbTtN2Ut1OvBjM5gXozPTzA=s64",
      "userId": "16429428919363884200"
     },
     "user_tz": 300
    },
    "id": "7n6-L3B3oZnZ",
    "outputId": "3314a38d-d1f2-471f-f63d-5f3f3cad4c50"
   },
   "outputs": [
    {
     "data": {
      "text/plain": [
       "4374.25"
      ]
     },
     "execution_count": 28,
     "metadata": {},
     "output_type": "execute_result"
    }
   ],
   "source": [
    "iqr = (np.quantile(diamonds['price'], .75)) - (np.quantile(diamonds['price'], .25))\n",
    "iqr"
   ]
  },
  {
   "cell_type": "code",
   "execution_count": 29,
   "metadata": {
    "colab": {
     "base_uri": "https://localhost:8080/"
    },
    "executionInfo": {
     "elapsed": 433,
     "status": "ok",
     "timestamp": 1612837149097,
     "user": {
      "displayName": "Frank Coleman",
      "photoUrl": "https://lh3.googleusercontent.com/a-/AOh14GhnRyj_a8bPbOyiw-1SbTtN2Ut1OvBjM5gXozPTzA=s64",
      "userId": "16429428919363884200"
     },
     "user_tz": 300
    },
    "id": "SwX-yq3moZnc",
    "outputId": "fb7cbb21-bf95-4a4d-b085-b218dd53fda0"
   },
   "outputs": [
    {
     "data": {
      "text/plain": [
       "6561.375"
      ]
     },
     "execution_count": 29,
     "metadata": {},
     "output_type": "execute_result"
    }
   ],
   "source": [
    "out_limit = 1.5*iqr\n",
    "out_limit"
   ]
  },
  {
   "cell_type": "code",
   "execution_count": 30,
   "metadata": {
    "id": "8rv7-6bJoZnd"
   },
   "outputs": [],
   "source": [
    "lower_limit = ((np.quantile(diamonds['price'], .25)) - 1.5*iqr)\n",
    "upper_limit = ((np.quantile(diamonds['price'], .75)) + 1.5*iqr)"
   ]
  },
  {
   "cell_type": "code",
   "execution_count": 31,
   "metadata": {
    "colab": {
     "base_uri": "https://localhost:8080/"
    },
    "executionInfo": {
     "elapsed": 471,
     "status": "ok",
     "timestamp": 1612837159526,
     "user": {
      "displayName": "Frank Coleman",
      "photoUrl": "https://lh3.googleusercontent.com/a-/AOh14GhnRyj_a8bPbOyiw-1SbTtN2Ut1OvBjM5gXozPTzA=s64",
      "userId": "16429428919363884200"
     },
     "user_tz": 300
    },
    "id": "fnfw5lMaoZne",
    "outputId": "dfd0de5e-cc5f-49dc-bb30-04aff58aa258"
   },
   "outputs": [
    {
     "name": "stdout",
     "output_type": "stream",
     "text": [
      "-5611.625\n",
      "11885.375\n"
     ]
    }
   ],
   "source": [
    "print(lower_limit)\n",
    "print(upper_limit)"
   ]
  },
  {
   "cell_type": "code",
   "execution_count": 32,
   "metadata": {
    "colab": {
     "base_uri": "https://localhost:8080/"
    },
    "executionInfo": {
     "elapsed": 441,
     "status": "ok",
     "timestamp": 1612837160677,
     "user": {
      "displayName": "Frank Coleman",
      "photoUrl": "https://lh3.googleusercontent.com/a-/AOh14GhnRyj_a8bPbOyiw-1SbTtN2Ut1OvBjM5gXozPTzA=s64",
      "userId": "16429428919363884200"
     },
     "user_tz": 300
    },
    "id": "vitOMn2YoZng",
    "outputId": "62fde475-c94f-46eb-ce0c-4c56f469cb7a"
   },
   "outputs": [
    {
     "data": {
      "text/plain": [
       "3537"
      ]
     },
     "execution_count": 32,
     "metadata": {},
     "output_type": "execute_result"
    }
   ],
   "source": [
    "#This is the number of outliers\n",
    "diamonds[diamonds.price > upper_limit].shape[0]"
   ]
  },
  {
   "cell_type": "code",
   "execution_count": 33,
   "metadata": {
    "colab": {
     "base_uri": "https://localhost:8080/"
    },
    "executionInfo": {
     "elapsed": 415,
     "status": "ok",
     "timestamp": 1612837162360,
     "user": {
      "displayName": "Frank Coleman",
      "photoUrl": "https://lh3.googleusercontent.com/a-/AOh14GhnRyj_a8bPbOyiw-1SbTtN2Ut1OvBjM5gXozPTzA=s64",
      "userId": "16429428919363884200"
     },
     "user_tz": 300
    },
    "id": "11neNTpkoZnh",
    "outputId": "eb5247c9-e18e-46bc-98d8-a7f12ef7b6c4"
   },
   "outputs": [
    {
     "data": {
      "text/plain": [
       "0.06558258547800934"
      ]
     },
     "execution_count": 33,
     "metadata": {},
     "output_type": "execute_result"
    }
   ],
   "source": [
    "#gives the percentage of rows that are outliers\n",
    "out = (diamonds[diamonds.price > upper_limit].shape[0]) / (diamonds.shape[0])\n",
    "out"
   ]
  },
  {
   "cell_type": "code",
   "execution_count": 34,
   "metadata": {
    "colab": {
     "base_uri": "https://localhost:8080/"
    },
    "executionInfo": {
     "elapsed": 412,
     "status": "ok",
     "timestamp": 1612837164489,
     "user": {
      "displayName": "Frank Coleman",
      "photoUrl": "https://lh3.googleusercontent.com/a-/AOh14GhnRyj_a8bPbOyiw-1SbTtN2Ut1OvBjM5gXozPTzA=s64",
      "userId": "16429428919363884200"
     },
     "user_tz": 300
    },
    "id": "QBzyhYv2oZni",
    "outputId": "5e7e5941-74dd-44ce-9046-eaa47737eb70"
   },
   "outputs": [
    {
     "name": "stdout",
     "output_type": "stream",
     "text": [
      "Statistics=0.798, p=0.000\n",
      "Sample does not look Gaussian (reject H0)\n"
     ]
    },
    {
     "name": "stderr",
     "output_type": "stream",
     "text": [
      "/Users/Frank/opt/anaconda3/lib/python3.7/site-packages/scipy/stats/morestats.py:1660: UserWarning: p-value may not be accurate for N > 5000.\n",
      "  warnings.warn(\"p-value may not be accurate for N > 5000.\")\n"
     ]
    }
   ],
   "source": [
    "#normality tests\n",
    "#first is Shapiro-Wilk\n",
    "from scipy.stats import shapiro\n",
    "#normality test\n",
    "stat, p = shapiro(diamonds['price'])\n",
    "print('Statistics=%.3f, p=%.3f' % (stat, p))\n",
    "# interpret\n",
    "alpha = 0.05\n",
    "if p > alpha:\n",
    "\tprint('Sample looks Gaussian (fail to reject H0)')\n",
    "else:\n",
    "\tprint('Sample does not look Gaussian (reject H0)')\n",
    "#shapiro may not be good to use cause N > 5000"
   ]
  },
  {
   "cell_type": "code",
   "execution_count": 35,
   "metadata": {
    "colab": {
     "base_uri": "https://localhost:8080/"
    },
    "executionInfo": {
     "elapsed": 423,
     "status": "ok",
     "timestamp": 1612837167159,
     "user": {
      "displayName": "Frank Coleman",
      "photoUrl": "https://lh3.googleusercontent.com/a-/AOh14GhnRyj_a8bPbOyiw-1SbTtN2Ut1OvBjM5gXozPTzA=s64",
      "userId": "16429428919363884200"
     },
     "user_tz": 300
    },
    "id": "xvt8KOA5oZnj",
    "outputId": "3253120a-cd7b-4567-a1fd-8eabb266663a"
   },
   "outputs": [
    {
     "name": "stdout",
     "output_type": "stream",
     "text": [
      "Statistics=15096.378, p=0.000\n",
      "Sample does not look Gaussian (reject H0)\n"
     ]
    }
   ],
   "source": [
    "# D'Agostino and Pearson's Test\n",
    "from scipy.stats import normaltest\n",
    "stat, p = normaltest(diamonds['price'])\n",
    "print('Statistics=%.3f, p=%.3f' % (stat, p))\n",
    "# interpret\n",
    "alpha = 0.05\n",
    "if p > alpha:\n",
    "\tprint('Sample looks Gaussian (fail to reject H0)')\n",
    "else:\n",
    "\tprint('Sample does not look Gaussian (reject H0)')"
   ]
  },
  {
   "cell_type": "code",
   "execution_count": 36,
   "metadata": {
    "colab": {
     "base_uri": "https://localhost:8080/"
    },
    "executionInfo": {
     "elapsed": 399,
     "status": "ok",
     "timestamp": 1612837168695,
     "user": {
      "displayName": "Frank Coleman",
      "photoUrl": "https://lh3.googleusercontent.com/a-/AOh14GhnRyj_a8bPbOyiw-1SbTtN2Ut1OvBjM5gXozPTzA=s64",
      "userId": "16429428919363884200"
     },
     "user_tz": 300
    },
    "id": "BT2JiYIOoZnk",
    "outputId": "47d108ce-99fa-4bf5-e431-de9dc90395fa"
   },
   "outputs": [
    {
     "name": "stdout",
     "output_type": "stream",
     "text": [
      "Statistic: 3473.378\n",
      "15.000: 0.576, data does not look normal (reject H0)\n",
      "10.000: 0.656, data does not look normal (reject H0)\n",
      "5.000: 0.787, data does not look normal (reject H0)\n",
      "2.500: 0.918, data does not look normal (reject H0)\n",
      "1.000: 1.092, data does not look normal (reject H0)\n"
     ]
    }
   ],
   "source": [
    "#anderson-darling\n",
    "from scipy.stats import anderson\n",
    "result = anderson(diamonds['price'])\n",
    "print('Statistic: %.3f' % result.statistic)\n",
    "\n",
    "p = 0\n",
    "\n",
    "for i in range(len(result.critical_values)):\n",
    "\n",
    "    sl, cv = result.significance_level[i], result.critical_values[i]\n",
    "\n",
    "    if result.statistic < result.critical_values[i]:\n",
    "\n",
    "        print('%.3f: %.3f, data looks normal (fail to reject H0)' % (sl, cv)) \n",
    "    else:\n",
    "        print('%.3f: %.3f, data does not look normal (reject H0)' % (sl, cv))"
   ]
  },
  {
   "cell_type": "markdown",
   "metadata": {
    "id": "Iz4VZwNRoZnl"
   },
   "source": [
    "## Carat"
   ]
  },
  {
   "cell_type": "code",
   "execution_count": 37,
   "metadata": {
    "colab": {
     "base_uri": "https://localhost:8080/",
     "height": 295
    },
    "executionInfo": {
     "elapsed": 1086,
     "status": "ok",
     "timestamp": 1612837173992,
     "user": {
      "displayName": "Frank Coleman",
      "photoUrl": "https://lh3.googleusercontent.com/a-/AOh14GhnRyj_a8bPbOyiw-1SbTtN2Ut1OvBjM5gXozPTzA=s64",
      "userId": "16429428919363884200"
     },
     "user_tz": 300
    },
    "id": "9L9U9AoFoZnl",
    "outputId": "20e62ac1-19d8-4805-a0ea-f70cc15a2405"
   },
   "outputs": [
    {
     "data": {
      "image/png": "[encoded data removed]",
      "text/plain": [
       "<Figure size 432x288 with 1 Axes>"
      ]
     },
     "metadata": {
      "needs_background": "light"
     },
     "output_type": "display_data"
    }
   ],
   "source": [
    "plt.hist(diamonds['carat'], color = 'g')\n",
    "plt.axvline((np.quantile(diamonds['carat'], .5)),color='#ff6500',label='Carat Median')\n",
    "plt.legend()\n",
    "plt.xlabel('Carats')\n",
    "plt.ylabel('Count')\n",
    "plt.title('Carat Histogram')\n",
    "plt.show()"
   ]
  },
  {
   "cell_type": "code",
   "execution_count": 38,
   "metadata": {
    "id": "VTBBoil0oZnm"
   },
   "outputs": [],
   "source": [
    "#plt.hist(diamonds['carat'], color = 'g', log=True)\n",
    "#plt.xlabel('Carats')\n",
    "#plt.ylabel('Count')\n",
    "#plt.title('Carats Histogram')\n",
    "#plt.show()"
   ]
  },
  {
   "cell_type": "code",
   "execution_count": 39,
   "metadata": {
    "colab": {
     "base_uri": "https://localhost:8080/"
    },
    "executionInfo": {
     "elapsed": 1192,
     "status": "ok",
     "timestamp": 1612837174214,
     "user": {
      "displayName": "Frank Coleman",
      "photoUrl": "https://lh3.googleusercontent.com/a-/AOh14GhnRyj_a8bPbOyiw-1SbTtN2Ut1OvBjM5gXozPTzA=s64",
      "userId": "16429428919363884200"
     },
     "user_tz": 300
    },
    "id": "VA0vci9eoZnn",
    "outputId": "ce198a86-266f-4709-f76a-2cca5318b0b0",
    "scrolled": true
   },
   "outputs": [
    {
     "data": {
      "text/plain": [
       "count    53932.000000\n",
       "mean         0.797879\n",
       "std          0.473986\n",
       "min          0.200000\n",
       "25%          0.400000\n",
       "50%          0.700000\n",
       "75%          1.040000\n",
       "max          5.010000\n",
       "Name: carat, dtype: float64"
      ]
     },
     "execution_count": 39,
     "metadata": {},
     "output_type": "execute_result"
    }
   ],
   "source": [
    "diamonds.carat.describe()"
   ]
  },
  {
   "cell_type": "code",
   "execution_count": 40,
   "metadata": {
    "colab": {
     "base_uri": "https://localhost:8080/"
    },
    "executionInfo": {
     "elapsed": 1111,
     "status": "ok",
     "timestamp": 1612837174217,
     "user": {
      "displayName": "Frank Coleman",
      "photoUrl": "https://lh3.googleusercontent.com/a-/AOh14GhnRyj_a8bPbOyiw-1SbTtN2Ut1OvBjM5gXozPTzA=s64",
      "userId": "16429428919363884200"
     },
     "user_tz": 300
    },
    "id": "IDtxI_IfoZnn",
    "outputId": "99964680-1f25-4c4d-b42f-d7a84ae43de4"
   },
   "outputs": [
    {
     "data": {
      "text/plain": [
       "0.13982766658541226"
      ]
     },
     "execution_count": 40,
     "metadata": {},
     "output_type": "execute_result"
    }
   ],
   "source": [
    "(diamonds.carat.mean() - diamonds.carat.median())/diamonds.carat.median()"
   ]
  },
  {
   "cell_type": "code",
   "execution_count": 41,
   "metadata": {
    "colab": {
     "base_uri": "https://localhost:8080/",
     "height": 298
    },
    "executionInfo": {
     "elapsed": 1059,
     "status": "ok",
     "timestamp": 1612837174221,
     "user": {
      "displayName": "Frank Coleman",
      "photoUrl": "https://lh3.googleusercontent.com/a-/AOh14GhnRyj_a8bPbOyiw-1SbTtN2Ut1OvBjM5gXozPTzA=s64",
      "userId": "16429428919363884200"
     },
     "user_tz": 300
    },
    "id": "aE-pcHGgoZno",
    "outputId": "f4bb3038-e3f2-46d2-ff63-d003ee604e68"
   },
   "outputs": [
    {
     "data": {
      "text/plain": [
       "Text(0.5, 1.0, 'Carat Boxplot')"
      ]
     },
     "execution_count": 41,
     "metadata": {},
     "output_type": "execute_result"
    },
    {
     "data": {
      "image/png": "[encoded data removed]",
      "text/plain": [
       "<Figure size 432x288 with 1 Axes>"
      ]
     },
     "metadata": {
      "needs_background": "light"
     },
     "output_type": "display_data"
    }
   ],
   "source": [
    "plt.boxplot(diamonds['carat'])\n",
    "plt.title('Carat Boxplot')"
   ]
  },
  {
   "cell_type": "code",
   "execution_count": 42,
   "metadata": {
    "colab": {
     "base_uri": "https://localhost:8080/"
    },
    "executionInfo": {
     "elapsed": 1007,
     "status": "ok",
     "timestamp": 1612837174224,
     "user": {
      "displayName": "Frank Coleman",
      "photoUrl": "https://lh3.googleusercontent.com/a-/AOh14GhnRyj_a8bPbOyiw-1SbTtN2Ut1OvBjM5gXozPTzA=s64",
      "userId": "16429428919363884200"
     },
     "user_tz": 300
    },
    "id": "CxCA5FiBoZno",
    "outputId": "e0ce343b-db99-4629-fe83-657e573122e2"
   },
   "outputs": [
    {
     "name": "stdout",
     "output_type": "stream",
     "text": [
      "0.64\n",
      "-0.5599999999999999\n",
      "2.0\n"
     ]
    }
   ],
   "source": [
    "carat_iqr = (np.quantile(diamonds['carat'], .75)) - (np.quantile(diamonds['carat'], .25))\n",
    "carat_lower_limit = ((np.quantile(diamonds['carat'], .25)) - 1.5*carat_iqr)\n",
    "carat_upper_limit = ((np.quantile(diamonds['carat'], .75)) + 1.5*carat_iqr)\n",
    "print(carat_iqr)\n",
    "print(carat_lower_limit)\n",
    "print(carat_upper_limit)"
   ]
  },
  {
   "cell_type": "code",
   "execution_count": 43,
   "metadata": {
    "colab": {
     "base_uri": "https://localhost:8080/"
    },
    "executionInfo": {
     "elapsed": 976,
     "status": "ok",
     "timestamp": 1612837174226,
     "user": {
      "displayName": "Frank Coleman",
      "photoUrl": "https://lh3.googleusercontent.com/a-/AOh14GhnRyj_a8bPbOyiw-1SbTtN2Ut1OvBjM5gXozPTzA=s64",
      "userId": "16429428919363884200"
     },
     "user_tz": 300
    },
    "id": "F99Pk5GToZnp",
    "outputId": "7b97cc43-c5c9-4428-b0b0-c320ce561695"
   },
   "outputs": [
    {
     "data": {
      "text/plain": [
       "1888"
      ]
     },
     "execution_count": 43,
     "metadata": {},
     "output_type": "execute_result"
    }
   ],
   "source": [
    "#This is the number of outliers\n",
    "diamonds[diamonds.carat > carat_upper_limit].shape[0]"
   ]
  },
  {
   "cell_type": "code",
   "execution_count": 44,
   "metadata": {
    "colab": {
     "base_uri": "https://localhost:8080/"
    },
    "executionInfo": {
     "elapsed": 942,
     "status": "ok",
     "timestamp": 1612837174228,
     "user": {
      "displayName": "Frank Coleman",
      "photoUrl": "https://lh3.googleusercontent.com/a-/AOh14GhnRyj_a8bPbOyiw-1SbTtN2Ut1OvBjM5gXozPTzA=s64",
      "userId": "16429428919363884200"
     },
     "user_tz": 300
    },
    "id": "zYE-dnsnoZnp",
    "outputId": "b8db807e-fa8d-4c8d-b141-9acaba2956b6"
   },
   "outputs": [
    {
     "data": {
      "text/plain": [
       "0.03500704590966402"
      ]
     },
     "execution_count": 44,
     "metadata": {},
     "output_type": "execute_result"
    }
   ],
   "source": [
    "#gives the percentage of rows that are outliers\n",
    "carat_out = (diamonds[diamonds.carat > carat_upper_limit].shape[0]) / (diamonds.shape[0])\n",
    "carat_out"
   ]
  },
  {
   "cell_type": "code",
   "execution_count": 45,
   "metadata": {
    "colab": {
     "base_uri": "https://localhost:8080/"
    },
    "executionInfo": {
     "elapsed": 921,
     "status": "ok",
     "timestamp": 1612837174238,
     "user": {
      "displayName": "Frank Coleman",
      "photoUrl": "https://lh3.googleusercontent.com/a-/AOh14GhnRyj_a8bPbOyiw-1SbTtN2Ut1OvBjM5gXozPTzA=s64",
      "userId": "16429428919363884200"
     },
     "user_tz": 300
    },
    "id": "CELlJd0roZnq",
    "outputId": "07fa2b6e-8775-4b77-dc0f-633f2b68dc30"
   },
   "outputs": [
    {
     "name": "stdout",
     "output_type": "stream",
     "text": [
      "Statistics=8926.833, p=0.000\n",
      "Sample does not look Gaussian (reject H0)\n"
     ]
    }
   ],
   "source": [
    "# D'Agostino and Pearson's Test\n",
    "from scipy.stats import normaltest\n",
    "stat, p = normaltest(diamonds['carat'])\n",
    "print('Statistics=%.3f, p=%.3f' % (stat, p))\n",
    "# interpret\n",
    "alpha = 0.05\n",
    "if p > alpha:\n",
    "\tprint('Sample looks Gaussian (fail to reject H0)')\n",
    "else:\n",
    "\tprint('Sample does not look Gaussian (reject H0)')"
   ]
  },
  {
   "cell_type": "code",
   "execution_count": 46,
   "metadata": {
    "colab": {
     "base_uri": "https://localhost:8080/"
    },
    "executionInfo": {
     "elapsed": 899,
     "status": "ok",
     "timestamp": 1612837174247,
     "user": {
      "displayName": "Frank Coleman",
      "photoUrl": "https://lh3.googleusercontent.com/a-/AOh14GhnRyj_a8bPbOyiw-1SbTtN2Ut1OvBjM5gXozPTzA=s64",
      "userId": "16429428919363884200"
     },
     "user_tz": 300
    },
    "id": "3eMAY-6WoZnr",
    "outputId": "e49773d7-ba9f-48f6-bdc4-d110079ba230"
   },
   "outputs": [
    {
     "name": "stdout",
     "output_type": "stream",
     "text": [
      "Statistic: 1529.202\n",
      "15.000: 0.576, data does not look normal (reject H0)\n",
      "10.000: 0.656, data does not look normal (reject H0)\n",
      "5.000: 0.787, data does not look normal (reject H0)\n",
      "2.500: 0.918, data does not look normal (reject H0)\n",
      "1.000: 1.092, data does not look normal (reject H0)\n"
     ]
    }
   ],
   "source": [
    "#anderson-darling\n",
    "from scipy.stats import anderson\n",
    "result = anderson(diamonds['carat'])\n",
    "print('Statistic: %.3f' % result.statistic)\n",
    "\n",
    "p = 0\n",
    "\n",
    "for i in range(len(result.critical_values)):\n",
    "\n",
    "    sl, cv = result.significance_level[i], result.critical_values[i]\n",
    "\n",
    "    if result.statistic < result.critical_values[i]:\n",
    "\n",
    "        print('%.3f: %.3f, data looks normal (fail to reject H0)' % (sl, cv)) \n",
    "    else:\n",
    "        print('%.3f: %.3f, data does not look normal (reject H0)' % (sl, cv))"
   ]
  },
  {
   "cell_type": "markdown",
   "metadata": {
    "id": "-uHhAw3uoZnr"
   },
   "source": [
    "## Length"
   ]
  },
  {
   "cell_type": "code",
   "execution_count": 47,
   "metadata": {
    "colab": {
     "base_uri": "https://localhost:8080/"
    },
    "executionInfo": {
     "elapsed": 491,
     "status": "ok",
     "timestamp": 1612837271295,
     "user": {
      "displayName": "Frank Coleman",
      "photoUrl": "https://lh3.googleusercontent.com/a-/AOh14GhnRyj_a8bPbOyiw-1SbTtN2Ut1OvBjM5gXozPTzA=s64",
      "userId": "16429428919363884200"
     },
     "user_tz": 300
    },
    "id": "m-9X2MB8oZns",
    "outputId": "c4820e3f-af1c-4e9b-bb6d-74f02c24ef43"
   },
   "outputs": [
    {
     "data": {
      "image/png": "[encoded data removed]",
      "text/plain": [
       "<Figure size 432x288 with 1 Axes>"
      ]
     },
     "metadata": {
      "needs_background": "light"
     },
     "output_type": "display_data"
    }
   ],
   "source": [
    "plt.hist(diamonds['length'], color = 'g',)\n",
    "plt.axvline((np.quantile(diamonds['length'], .5)),color='#ff6500',label='Length Median')\n",
    "plt.legend()\n",
    "plt.xlabel('Length in Millimeters')\n",
    "plt.ylabel('Count')\n",
    "plt.title('Length Histogram')\n",
    "plt.show()"
   ]
  },
  {
   "cell_type": "code",
   "execution_count": 48,
   "metadata": {
    "colab": {
     "base_uri": "https://localhost:8080/"
    },
    "executionInfo": {
     "elapsed": 464,
     "status": "ok",
     "timestamp": 1612837271310,
     "user": {
      "displayName": "Frank Coleman",
      "photoUrl": "https://lh3.googleusercontent.com/a-/AOh14GhnRyj_a8bPbOyiw-1SbTtN2Ut1OvBjM5gXozPTzA=s64",
      "userId": "16429428919363884200"
     },
     "user_tz": 300
    },
    "id": "LK7Z0nOsoZns",
    "outputId": "2568401f-7ba7-452e-9c7f-4b85c499409c"
   },
   "outputs": [
    {
     "data": {
      "text/plain": [
       "count    53932.000000\n",
       "mean         5.732007\n",
       "std          1.119670\n",
       "min          3.730000\n",
       "25%          4.710000\n",
       "50%          5.700000\n",
       "75%          6.540000\n",
       "max         10.740000\n",
       "Name: length, dtype: float64"
      ]
     },
     "execution_count": 48,
     "metadata": {},
     "output_type": "execute_result"
    }
   ],
   "source": [
    "diamonds.length.describe()"
   ]
  },
  {
   "cell_type": "code",
   "execution_count": 49,
   "metadata": {
    "colab": {
     "base_uri": "https://localhost:8080/"
    },
    "executionInfo": {
     "elapsed": 687,
     "status": "ok",
     "timestamp": 1612837271550,
     "user": {
      "displayName": "Frank Coleman",
      "photoUrl": "https://lh3.googleusercontent.com/a-/AOh14GhnRyj_a8bPbOyiw-1SbTtN2Ut1OvBjM5gXozPTzA=s64",
      "userId": "16429428919363884200"
     },
     "user_tz": 300
    },
    "id": "Jp4BF8icoZnt",
    "outputId": "89ca2419-e9dc-419a-ed20-c1129f2bc960"
   },
   "outputs": [
    {
     "data": {
      "text/plain": [
       "Text(0.5, 1.0, 'Length Boxplot')"
      ]
     },
     "execution_count": 49,
     "metadata": {},
     "output_type": "execute_result"
    },
    {
     "data": {
      "image/png": "[encoded data removed]",
      "text/plain": [
       "<Figure size 432x288 with 1 Axes>"
      ]
     },
     "metadata": {
      "needs_background": "light"
     },
     "output_type": "display_data"
    }
   ],
   "source": [
    "plt.boxplot(diamonds['length'])\n",
    "plt.title('Length Boxplot')"
   ]
  },
  {
   "cell_type": "code",
   "execution_count": 50,
   "metadata": {
    "colab": {
     "base_uri": "https://localhost:8080/"
    },
    "executionInfo": {
     "elapsed": 679,
     "status": "ok",
     "timestamp": 1612837271569,
     "user": {
      "displayName": "Frank Coleman",
      "photoUrl": "https://lh3.googleusercontent.com/a-/AOh14GhnRyj_a8bPbOyiw-1SbTtN2Ut1OvBjM5gXozPTzA=s64",
      "userId": "16429428919363884200"
     },
     "user_tz": 300
    },
    "id": "ICzlBwuRoZnu",
    "outputId": "6945ff38-1ab7-4a6e-ace8-426aeae60565"
   },
   "outputs": [
    {
     "name": "stdout",
     "output_type": "stream",
     "text": [
      "1.83\n",
      "1.9649999999999999\n",
      "9.285\n"
     ]
    }
   ],
   "source": [
    "length_iqr = (np.quantile(diamonds['length'], .75)) - (np.quantile(diamonds['length'], .25))\n",
    "length_lower_limit = ((np.quantile(diamonds['length'], .25)) - 1.5*length_iqr)\n",
    "length_upper_limit = ((np.quantile(diamonds['length'], .75)) + 1.5*length_iqr)\n",
    "print(length_iqr)\n",
    "print(length_lower_limit)\n",
    "print(length_upper_limit)"
   ]
  },
  {
   "cell_type": "code",
   "execution_count": 51,
   "metadata": {
    "colab": {
     "base_uri": "https://localhost:8080/"
    },
    "executionInfo": {
     "elapsed": 674,
     "status": "ok",
     "timestamp": 1612837271575,
     "user": {
      "displayName": "Frank Coleman",
      "photoUrl": "https://lh3.googleusercontent.com/a-/AOh14GhnRyj_a8bPbOyiw-1SbTtN2Ut1OvBjM5gXozPTzA=s64",
      "userId": "16429428919363884200"
     },
     "user_tz": 300
    },
    "id": "d4jdIcgfoZnu",
    "outputId": "9e6c25a9-24d9-4d53-fb96-7dc9c87f5a1d"
   },
   "outputs": [
    {
     "data": {
      "text/plain": [
       "24"
      ]
     },
     "execution_count": 51,
     "metadata": {},
     "output_type": "execute_result"
    }
   ],
   "source": [
    "#This is the number of outliers\n",
    "diamonds[diamonds.length > length_upper_limit].shape[0]"
   ]
  },
  {
   "cell_type": "code",
   "execution_count": 52,
   "metadata": {
    "colab": {
     "base_uri": "https://localhost:8080/"
    },
    "executionInfo": {
     "elapsed": 882,
     "status": "ok",
     "timestamp": 1612837271795,
     "user": {
      "displayName": "Frank Coleman",
      "photoUrl": "https://lh3.googleusercontent.com/a-/AOh14GhnRyj_a8bPbOyiw-1SbTtN2Ut1OvBjM5gXozPTzA=s64",
      "userId": "16429428919363884200"
     },
     "user_tz": 300
    },
    "id": "_tjrUHpHoZnv",
    "outputId": "6e243c13-9260-4b08-d7ff-0680fc709244"
   },
   "outputs": [
    {
     "data": {
      "text/plain": [
       "0.0004450048208855596"
      ]
     },
     "execution_count": 52,
     "metadata": {},
     "output_type": "execute_result"
    }
   ],
   "source": [
    "#gives the percentage of rows that are outliers\n",
    "length_out = (diamonds[diamonds.length > length_upper_limit].shape[0]) / (diamonds.shape[0])\n",
    "length_out"
   ]
  },
  {
   "cell_type": "code",
   "execution_count": 53,
   "metadata": {
    "colab": {
     "base_uri": "https://localhost:8080/"
    },
    "executionInfo": {
     "elapsed": 869,
     "status": "ok",
     "timestamp": 1612837271797,
     "user": {
      "displayName": "Frank Coleman",
      "photoUrl": "https://lh3.googleusercontent.com/a-/AOh14GhnRyj_a8bPbOyiw-1SbTtN2Ut1OvBjM5gXozPTzA=s64",
      "userId": "16429428919363884200"
     },
     "user_tz": 300
    },
    "id": "nYiFiCGqoZnv",
    "outputId": "9bfb92e7-7259-4217-f6df-106cda76cd7c"
   },
   "outputs": [
    {
     "name": "stdout",
     "output_type": "stream",
     "text": [
      "Statistics=4218.593, p=0.000\n",
      "Sample does not look Gaussian (reject H0)\n"
     ]
    }
   ],
   "source": [
    "# D'Agostino and Pearson's Test\n",
    "from scipy.stats import normaltest\n",
    "stat, p = normaltest(diamonds['length'])\n",
    "print('Statistics=%.3f, p=%.3f' % (stat, p))\n",
    "# interpret\n",
    "alpha = 0.05\n",
    "if p > alpha:\n",
    "\tprint('Sample looks Gaussian (fail to reject H0)')\n",
    "else:\n",
    "\tprint('Sample does not look Gaussian (reject H0)')"
   ]
  },
  {
   "cell_type": "code",
   "execution_count": 54,
   "metadata": {
    "colab": {
     "base_uri": "https://localhost:8080/"
    },
    "executionInfo": {
     "elapsed": 846,
     "status": "ok",
     "timestamp": 1612837271798,
     "user": {
      "displayName": "Frank Coleman",
      "photoUrl": "https://lh3.googleusercontent.com/a-/AOh14GhnRyj_a8bPbOyiw-1SbTtN2Ut1OvBjM5gXozPTzA=s64",
      "userId": "16429428919363884200"
     },
     "user_tz": 300
    },
    "id": "ETVvOiM6oZnw",
    "outputId": "1e5f2686-997a-4dfe-94d4-54caa580a7f5"
   },
   "outputs": [
    {
     "name": "stdout",
     "output_type": "stream",
     "text": [
      "Statistic: 688.276\n",
      "15.000: 0.576, data does not look normal (reject H0)\n",
      "10.000: 0.656, data does not look normal (reject H0)\n",
      "5.000: 0.787, data does not look normal (reject H0)\n",
      "2.500: 0.918, data does not look normal (reject H0)\n",
      "1.000: 1.092, data does not look normal (reject H0)\n"
     ]
    }
   ],
   "source": [
    "#anderson-darling\n",
    "from scipy.stats import anderson\n",
    "result = anderson(diamonds['length'])\n",
    "print('Statistic: %.3f' % result.statistic)\n",
    "\n",
    "p = 0\n",
    "\n",
    "for i in range(len(result.critical_values)):\n",
    "\n",
    "    sl, cv = result.significance_level[i], result.critical_values[i]\n",
    "\n",
    "    if result.statistic < result.critical_values[i]:\n",
    "\n",
    "        print('%.3f: %.3f, data looks normal (fail to reject H0)' % (sl, cv)) \n",
    "    else:\n",
    "        print('%.3f: %.3f, data does not look normal (reject H0)' % (sl, cv))"
   ]
  },
  {
   "cell_type": "markdown",
   "metadata": {
    "id": "3I6zZlyfoZny"
   },
   "source": [
    "## Width"
   ]
  },
  {
   "cell_type": "code",
   "execution_count": 55,
   "metadata": {
    "colab": {
     "base_uri": "https://localhost:8080/"
    },
    "executionInfo": {
     "elapsed": 573,
     "status": "ok",
     "timestamp": 1612837274849,
     "user": {
      "displayName": "Frank Coleman",
      "photoUrl": "https://lh3.googleusercontent.com/a-/AOh14GhnRyj_a8bPbOyiw-1SbTtN2Ut1OvBjM5gXozPTzA=s64",
      "userId": "16429428919363884200"
     },
     "user_tz": 300
    },
    "id": "ngc_zHOLoZny",
    "outputId": "1818edb1-1122-4c91-8c06-0b6c1854e7da"
   },
   "outputs": [
    {
     "data": {
      "image/png": "[encoded data removed]",
      "text/plain": [
       "<Figure size 432x288 with 1 Axes>"
      ]
     },
     "metadata": {
      "needs_background": "light"
     },
     "output_type": "display_data"
    }
   ],
   "source": [
    "plt.hist(diamonds['width'], color = 'g', bins=[1,2,3,4,5,6,7,8,9,10])#, log=True)\n",
    "plt.axvline((np.quantile(diamonds['length'], .5)),color='#ff6500',label='Width Median')\n",
    "plt.legend()\n",
    "plt.xlabel('Width in Millimeters')\n",
    "plt.ylabel('Count')\n",
    "plt.title('Width Histogram')\n",
    "plt.show()"
   ]
  },
  {
   "cell_type": "code",
   "execution_count": 56,
   "metadata": {
    "colab": {
     "base_uri": "https://localhost:8080/"
    },
    "executionInfo": {
     "elapsed": 1140,
     "status": "ok",
     "timestamp": 1612837275450,
     "user": {
      "displayName": "Frank Coleman",
      "photoUrl": "https://lh3.googleusercontent.com/a-/AOh14GhnRyj_a8bPbOyiw-1SbTtN2Ut1OvBjM5gXozPTzA=s64",
      "userId": "16429428919363884200"
     },
     "user_tz": 300
    },
    "id": "DYeXKih8oZnz",
    "outputId": "62034a36-a2a1-4ac2-b6d7-55a0e2194f57"
   },
   "outputs": [
    {
     "data": {
      "image/png": "[encoded data removed]",
      "text/plain": [
       "<Figure size 432x288 with 1 Axes>"
      ]
     },
     "metadata": {
      "needs_background": "light"
     },
     "output_type": "display_data"
    }
   ],
   "source": [
    "plt.hist(diamonds['width'], color = 'g', bins=[1,2,3,4,5,6,7,8,9,10], log=True)\n",
    "plt.axvline((np.quantile(diamonds['length'], .5)),color='#ff6500',label='Width Median')\n",
    "plt.legend()\n",
    "plt.xlabel('Width in Millimeters')\n",
    "plt.ylabel('Count')\n",
    "plt.title('Width Histogram')\n",
    "plt.show()"
   ]
  },
  {
   "cell_type": "code",
   "execution_count": 57,
   "metadata": {
    "colab": {
     "base_uri": "https://localhost:8080/"
    },
    "executionInfo": {
     "elapsed": 1324,
     "status": "ok",
     "timestamp": 1612837275670,
     "user": {
      "displayName": "Frank Coleman",
      "photoUrl": "https://lh3.googleusercontent.com/a-/AOh14GhnRyj_a8bPbOyiw-1SbTtN2Ut1OvBjM5gXozPTzA=s64",
      "userId": "16429428919363884200"
     },
     "user_tz": 300
    },
    "id": "CkNJ7j9foZn0",
    "outputId": "ec0722a7-4fe4-4ae1-d8a4-578c2fe3a04d"
   },
   "outputs": [
    {
     "data": {
      "text/plain": [
       "Text(0.5, 1.0, 'Width Boxplot')"
      ]
     },
     "execution_count": 57,
     "metadata": {},
     "output_type": "execute_result"
    },
    {
     "data": {
      "image/png": "[encoded data removed]",
      "text/plain": [
       "<Figure size 432x288 with 1 Axes>"
      ]
     },
     "metadata": {
      "needs_background": "light"
     },
     "output_type": "display_data"
    }
   ],
   "source": [
    "plt.boxplot(diamonds['width'])\n",
    "plt.title('Width Boxplot')"
   ]
  },
  {
   "cell_type": "code",
   "execution_count": 58,
   "metadata": {
    "colab": {
     "base_uri": "https://localhost:8080/"
    },
    "executionInfo": {
     "elapsed": 1299,
     "status": "ok",
     "timestamp": 1612837275673,
     "user": {
      "displayName": "Frank Coleman",
      "photoUrl": "https://lh3.googleusercontent.com/a-/AOh14GhnRyj_a8bPbOyiw-1SbTtN2Ut1OvBjM5gXozPTzA=s64",
      "userId": "16429428919363884200"
     },
     "user_tz": 300
    },
    "id": "-uAgWpDuoZn1",
    "outputId": "2deadaa8-e316-42d0-ecd1-82c00b2f42c7"
   },
   "outputs": [
    {
     "data": {
      "text/plain": [
       "count    53932.000000\n",
       "mean         5.735254\n",
       "std          1.140343\n",
       "min          3.680000\n",
       "25%          4.720000\n",
       "50%          5.710000\n",
       "75%          6.540000\n",
       "max         58.900000\n",
       "Name: width, dtype: float64"
      ]
     },
     "execution_count": 58,
     "metadata": {},
     "output_type": "execute_result"
    }
   ],
   "source": [
    "diamonds.width.describe()"
   ]
  },
  {
   "cell_type": "code",
   "execution_count": 59,
   "metadata": {
    "colab": {
     "base_uri": "https://localhost:8080/"
    },
    "executionInfo": {
     "elapsed": 1290,
     "status": "ok",
     "timestamp": 1612837275676,
     "user": {
      "displayName": "Frank Coleman",
      "photoUrl": "https://lh3.googleusercontent.com/a-/AOh14GhnRyj_a8bPbOyiw-1SbTtN2Ut1OvBjM5gXozPTzA=s64",
      "userId": "16429428919363884200"
     },
     "user_tz": 300
    },
    "id": "gVUFIZkMoZn2",
    "outputId": "8a9dc884-1292-4e52-f1da-713af4f18c01"
   },
   "outputs": [
    {
     "name": "stdout",
     "output_type": "stream",
     "text": [
      "1.8200000000000003\n",
      "1.9899999999999993\n",
      "9.27\n"
     ]
    }
   ],
   "source": [
    "width_iqr = (np.quantile(diamonds['width'], .75)) - (np.quantile(diamonds['width'], .25))\n",
    "width_lower_limit = ((np.quantile(diamonds['width'], .25)) - 1.5*width_iqr)\n",
    "width_upper_limit = ((np.quantile(diamonds['width'], .75)) + 1.5*width_iqr)\n",
    "print(width_iqr)\n",
    "print(width_lower_limit)\n",
    "print(width_upper_limit)"
   ]
  },
  {
   "cell_type": "code",
   "execution_count": 60,
   "metadata": {
    "colab": {
     "base_uri": "https://localhost:8080/"
    },
    "executionInfo": {
     "elapsed": 1287,
     "status": "ok",
     "timestamp": 1612837275686,
     "user": {
      "displayName": "Frank Coleman",
      "photoUrl": "https://lh3.googleusercontent.com/a-/AOh14GhnRyj_a8bPbOyiw-1SbTtN2Ut1OvBjM5gXozPTzA=s64",
      "userId": "16429428919363884200"
     },
     "user_tz": 300
    },
    "id": "YiJaPvyXoZn3",
    "outputId": "9fa0c7c6-6160-4c46-a697-933185f85281"
   },
   "outputs": [
    {
     "data": {
      "text/plain": [
       "22"
      ]
     },
     "execution_count": 60,
     "metadata": {},
     "output_type": "execute_result"
    }
   ],
   "source": [
    "#This is the number of outliers\n",
    "diamonds[diamonds.width > width_upper_limit].shape[0]"
   ]
  },
  {
   "cell_type": "code",
   "execution_count": 61,
   "metadata": {
    "colab": {
     "base_uri": "https://localhost:8080/"
    },
    "executionInfo": {
     "elapsed": 1278,
     "status": "ok",
     "timestamp": 1612837275689,
     "user": {
      "displayName": "Frank Coleman",
      "photoUrl": "https://lh3.googleusercontent.com/a-/AOh14GhnRyj_a8bPbOyiw-1SbTtN2Ut1OvBjM5gXozPTzA=s64",
      "userId": "16429428919363884200"
     },
     "user_tz": 300
    },
    "id": "Nc3ew6ZXoZn6",
    "outputId": "2223e253-c871-4a1c-d1a4-fddf5af390df"
   },
   "outputs": [
    {
     "data": {
      "text/plain": [
       "0.00040792108581176297"
      ]
     },
     "execution_count": 61,
     "metadata": {},
     "output_type": "execute_result"
    }
   ],
   "source": [
    "#gives the percentage of rows that are outliers\n",
    "width_out = (diamonds[diamonds.width > width_upper_limit].shape[0]) / (diamonds.shape[0])\n",
    "width_out"
   ]
  },
  {
   "cell_type": "code",
   "execution_count": 62,
   "metadata": {
    "colab": {
     "base_uri": "https://localhost:8080/"
    },
    "executionInfo": {
     "elapsed": 1264,
     "status": "ok",
     "timestamp": 1612837275692,
     "user": {
      "displayName": "Frank Coleman",
      "photoUrl": "https://lh3.googleusercontent.com/a-/AOh14GhnRyj_a8bPbOyiw-1SbTtN2Ut1OvBjM5gXozPTzA=s64",
      "userId": "16429428919363884200"
     },
     "user_tz": 300
    },
    "id": "BS4I6PCxoZn7",
    "outputId": "5b5914ab-e4f3-4213-aceb-8fd6a0ddc668"
   },
   "outputs": [
    {
     "name": "stdout",
     "output_type": "stream",
     "text": [
      "Statistics=40558.046, p=0.000\n",
      "Sample does not look Gaussian (reject H0)\n"
     ]
    }
   ],
   "source": [
    "# D'Agostino and Pearson's Test\n",
    "from scipy.stats import normaltest\n",
    "stat, p = normaltest(diamonds['width'])\n",
    "print('Statistics=%.3f, p=%.3f' % (stat, p))\n",
    "# interpret\n",
    "alpha = 0.05\n",
    "if p > alpha:\n",
    "\tprint('Sample looks Gaussian (fail to reject H0)')\n",
    "else:\n",
    "\tprint('Sample does not look Gaussian (reject H0)')"
   ]
  },
  {
   "cell_type": "code",
   "execution_count": 63,
   "metadata": {
    "colab": {
     "base_uri": "https://localhost:8080/"
    },
    "executionInfo": {
     "elapsed": 1244,
     "status": "ok",
     "timestamp": 1612837275694,
     "user": {
      "displayName": "Frank Coleman",
      "photoUrl": "https://lh3.googleusercontent.com/a-/AOh14GhnRyj_a8bPbOyiw-1SbTtN2Ut1OvBjM5gXozPTzA=s64",
      "userId": "16429428919363884200"
     },
     "user_tz": 300
    },
    "id": "TpYGoVsFoZn8",
    "outputId": "9bcfa69b-7b4d-4b43-ad11-3fc6d33ee820"
   },
   "outputs": [
    {
     "name": "stdout",
     "output_type": "stream",
     "text": [
      "Statistic: 631.184\n",
      "15.000: 0.576, data does not look normal (reject H0)\n",
      "10.000: 0.656, data does not look normal (reject H0)\n",
      "5.000: 0.787, data does not look normal (reject H0)\n",
      "2.500: 0.918, data does not look normal (reject H0)\n",
      "1.000: 1.092, data does not look normal (reject H0)\n"
     ]
    }
   ],
   "source": [
    "#anderson-darling\n",
    "from scipy.stats import anderson\n",
    "result = anderson(diamonds['width'])\n",
    "print('Statistic: %.3f' % result.statistic)\n",
    "\n",
    "p = 0\n",
    "\n",
    "for i in range(len(result.critical_values)):\n",
    "\n",
    "    sl, cv = result.significance_level[i], result.critical_values[i]\n",
    "\n",
    "    if result.statistic < result.critical_values[i]:\n",
    "\n",
    "        print('%.3f: %.3f, data looks normal (fail to reject H0)' % (sl, cv)) \n",
    "    else:\n",
    "        print('%.3f: %.3f, data does not look normal (reject H0)' % (sl, cv))"
   ]
  },
  {
   "cell_type": "markdown",
   "metadata": {
    "id": "9hKfQ6xOoZn9"
   },
   "source": [
    "## Depth"
   ]
  },
  {
   "cell_type": "code",
   "execution_count": 64,
   "metadata": {
    "colab": {
     "base_uri": "https://localhost:8080/"
    },
    "executionInfo": {
     "elapsed": 655,
     "status": "ok",
     "timestamp": 1612837279969,
     "user": {
      "displayName": "Frank Coleman",
      "photoUrl": "https://lh3.googleusercontent.com/a-/AOh14GhnRyj_a8bPbOyiw-1SbTtN2Ut1OvBjM5gXozPTzA=s64",
      "userId": "16429428919363884200"
     },
     "user_tz": 300
    },
    "id": "0SL-SKs4oZn-",
    "outputId": "f4828056-9536-4de2-e533-83d7969120b8"
   },
   "outputs": [
    {
     "data": {
      "image/png": "[encoded data removed]",
      "text/plain": [
       "<Figure size 432x288 with 1 Axes>"
      ]
     },
     "metadata": {
      "needs_background": "light"
     },
     "output_type": "display_data"
    }
   ],
   "source": [
    "plt.hist(diamonds['depth'], color = 'g',bins=[1,2,3,4,5,6,7,8,9,10])#, log=True)\n",
    "plt.axvline((np.quantile(diamonds['depth'], .5)),color='#ff6500',label='Depth Median')\n",
    "plt.legend()\n",
    "plt.xlabel('Depth in Millimeters')\n",
    "plt.ylabel('Count')\n",
    "plt.title('Depth Histogram')\n",
    "plt.show()"
   ]
  },
  {
   "cell_type": "code",
   "execution_count": 65,
   "metadata": {
    "colab": {
     "base_uri": "https://localhost:8080/"
    },
    "executionInfo": {
     "elapsed": 970,
     "status": "ok",
     "timestamp": 1612837280329,
     "user": {
      "displayName": "Frank Coleman",
      "photoUrl": "https://lh3.googleusercontent.com/a-/AOh14GhnRyj_a8bPbOyiw-1SbTtN2Ut1OvBjM5gXozPTzA=s64",
      "userId": "16429428919363884200"
     },
     "user_tz": 300
    },
    "id": "7HP1mIWcoZn_",
    "outputId": "9da9ac3f-4be3-4058-b058-e7490158f209"
   },
   "outputs": [
    {
     "data": {
      "image/png": "[encoded data removed]",
      "text/plain": [
       "<Figure size 432x288 with 1 Axes>"
      ]
     },
     "metadata": {
      "needs_background": "light"
     },
     "output_type": "display_data"
    }
   ],
   "source": [
    "plt.hist(diamonds['depth'], color = 'g',bins=[1,2,3,4,5,6,7,8,9,10], log=True)\n",
    "plt.axvline((np.quantile(diamonds['depth'], .5)),color='#ff6500',label='Depth Median')\n",
    "plt.legend()\n",
    "plt.xlabel('Depth in Millimeters')\n",
    "plt.ylabel('Count')\n",
    "plt.title('Depth Histogram')\n",
    "plt.show()"
   ]
  },
  {
   "cell_type": "code",
   "execution_count": 66,
   "metadata": {
    "colab": {
     "base_uri": "https://localhost:8080/"
    },
    "executionInfo": {
     "elapsed": 1177,
     "status": "ok",
     "timestamp": 1612837280564,
     "user": {
      "displayName": "Frank Coleman",
      "photoUrl": "https://lh3.googleusercontent.com/a-/AOh14GhnRyj_a8bPbOyiw-1SbTtN2Ut1OvBjM5gXozPTzA=s64",
      "userId": "16429428919363884200"
     },
     "user_tz": 300
    },
    "id": "XHprXUHpoZn_",
    "outputId": "502b952b-88c1-45c4-b8dc-fa9338218832"
   },
   "outputs": [
    {
     "data": {
      "text/plain": [
       "Text(0.5, 1.0, 'Depth Boxplot')"
      ]
     },
     "execution_count": 66,
     "metadata": {},
     "output_type": "execute_result"
    },
    {
     "data": {
      "image/png": "[encoded data removed]",
      "text/plain": [
       "<Figure size 432x288 with 1 Axes>"
      ]
     },
     "metadata": {
      "needs_background": "light"
     },
     "output_type": "display_data"
    }
   ],
   "source": [
    "plt.boxplot(diamonds['depth'])\n",
    "plt.title('Depth Boxplot')"
   ]
  },
  {
   "cell_type": "code",
   "execution_count": 67,
   "metadata": {
    "colab": {
     "base_uri": "https://localhost:8080/"
    },
    "executionInfo": {
     "elapsed": 1158,
     "status": "ok",
     "timestamp": 1612837280567,
     "user": {
      "displayName": "Frank Coleman",
      "photoUrl": "https://lh3.googleusercontent.com/a-/AOh14GhnRyj_a8bPbOyiw-1SbTtN2Ut1OvBjM5gXozPTzA=s64",
      "userId": "16429428919363884200"
     },
     "user_tz": 300
    },
    "id": "CaLWkziXoZoA",
    "outputId": "b314720f-58c9-49a7-9f5b-bb2214786ccd"
   },
   "outputs": [
    {
     "data": {
      "text/plain": [
       "count    53932.000000\n",
       "mean         3.639935\n",
       "std          6.795973\n",
       "min          1.070000\n",
       "25%          2.910000\n",
       "50%          3.530000\n",
       "75%          4.040000\n",
       "max        566.225000\n",
       "Name: depth, dtype: float64"
      ]
     },
     "execution_count": 67,
     "metadata": {},
     "output_type": "execute_result"
    }
   ],
   "source": [
    "diamonds.depth.describe()"
   ]
  },
  {
   "cell_type": "code",
   "execution_count": 68,
   "metadata": {
    "colab": {
     "base_uri": "https://localhost:8080/"
    },
    "executionInfo": {
     "elapsed": 1132,
     "status": "ok",
     "timestamp": 1612837280570,
     "user": {
      "displayName": "Frank Coleman",
      "photoUrl": "https://lh3.googleusercontent.com/a-/AOh14GhnRyj_a8bPbOyiw-1SbTtN2Ut1OvBjM5gXozPTzA=s64",
      "userId": "16429428919363884200"
     },
     "user_tz": 300
    },
    "id": "-32_hhV1oZoA",
    "outputId": "6660d01d-baa5-40ae-e4ff-27d45e42306b"
   },
   "outputs": [
    {
     "name": "stdout",
     "output_type": "stream",
     "text": [
      "1.13\n",
      "1.2150000000000003\n",
      "5.734999999999999\n"
     ]
    }
   ],
   "source": [
    "depth_iqr = (np.quantile(diamonds['depth'], .75)) - (np.quantile(diamonds['depth'], .25))\n",
    "depth_lower_limit = ((np.quantile(diamonds['depth'], .25)) - 1.5*depth_iqr)\n",
    "depth_upper_limit = ((np.quantile(diamonds['depth'], .75)) + 1.5*depth_iqr)\n",
    "print(depth_iqr)\n",
    "print(depth_lower_limit)\n",
    "print(depth_upper_limit)"
   ]
  },
  {
   "cell_type": "code",
   "execution_count": 69,
   "metadata": {
    "colab": {
     "base_uri": "https://localhost:8080/"
    },
    "executionInfo": {
     "elapsed": 1118,
     "status": "ok",
     "timestamp": 1612837280573,
     "user": {
      "displayName": "Frank Coleman",
      "photoUrl": "https://lh3.googleusercontent.com/a-/AOh14GhnRyj_a8bPbOyiw-1SbTtN2Ut1OvBjM5gXozPTzA=s64",
      "userId": "16429428919363884200"
     },
     "user_tz": 300
    },
    "id": "cseoK6VmoZoB",
    "outputId": "88857c93-394d-4c12-cb63-3b3316d72d63"
   },
   "outputs": [
    {
     "data": {
      "text/plain": [
       "40"
      ]
     },
     "execution_count": 69,
     "metadata": {},
     "output_type": "execute_result"
    }
   ],
   "source": [
    "#This is the number of outliers\n",
    "diamonds[diamonds.depth > depth_upper_limit].shape[0]"
   ]
  },
  {
   "cell_type": "code",
   "execution_count": 70,
   "metadata": {
    "colab": {
     "base_uri": "https://localhost:8080/"
    },
    "executionInfo": {
     "elapsed": 1315,
     "status": "ok",
     "timestamp": 1612837280794,
     "user": {
      "displayName": "Frank Coleman",
      "photoUrl": "https://lh3.googleusercontent.com/a-/AOh14GhnRyj_a8bPbOyiw-1SbTtN2Ut1OvBjM5gXozPTzA=s64",
      "userId": "16429428919363884200"
     },
     "user_tz": 300
    },
    "id": "sxy91ZvuoZoB",
    "outputId": "39959c88-f34b-47aa-e635-5e335f90a3d4"
   },
   "outputs": [
    {
     "data": {
      "text/plain": [
       "0.0007416747014759327"
      ]
     },
     "execution_count": 70,
     "metadata": {},
     "output_type": "execute_result"
    }
   ],
   "source": [
    "#gives the percentage of rows that are outliers\n",
    "depth_out = (diamonds[diamonds.depth > depth_upper_limit].shape[0]) / (diamonds.shape[0])\n",
    "depth_out"
   ]
  },
  {
   "cell_type": "code",
   "execution_count": 71,
   "metadata": {
    "colab": {
     "base_uri": "https://localhost:8080/"
    },
    "executionInfo": {
     "elapsed": 1305,
     "status": "ok",
     "timestamp": 1612837280800,
     "user": {
      "displayName": "Frank Coleman",
      "photoUrl": "https://lh3.googleusercontent.com/a-/AOh14GhnRyj_a8bPbOyiw-1SbTtN2Ut1OvBjM5gXozPTzA=s64",
      "userId": "16429428919363884200"
     },
     "user_tz": 300
    },
    "id": "fEqjsscToZoC",
    "outputId": "96dbe260-88a6-4f0a-fc2c-88bdf5984092"
   },
   "outputs": [
    {
     "name": "stdout",
     "output_type": "stream",
     "text": [
      "Statistics=188200.674, p=0.000\n",
      "Sample does not look Gaussian (reject H0)\n"
     ]
    }
   ],
   "source": [
    "# D'Agostino and Pearson's Test\n",
    "from scipy.stats import normaltest\n",
    "stat, p = normaltest(diamonds['depth'])\n",
    "print('Statistics=%.3f, p=%.3f' % (stat, p))\n",
    "# interpret\n",
    "alpha = 0.05\n",
    "if p > alpha:\n",
    "\tprint('Sample looks Gaussian (fail to reject H0)')\n",
    "else:\n",
    "\tprint('Sample does not look Gaussian (reject H0)')"
   ]
  },
  {
   "cell_type": "code",
   "execution_count": 72,
   "metadata": {
    "colab": {
     "base_uri": "https://localhost:8080/"
    },
    "executionInfo": {
     "elapsed": 1291,
     "status": "ok",
     "timestamp": 1612837280807,
     "user": {
      "displayName": "Frank Coleman",
      "photoUrl": "https://lh3.googleusercontent.com/a-/AOh14GhnRyj_a8bPbOyiw-1SbTtN2Ut1OvBjM5gXozPTzA=s64",
      "userId": "16429428919363884200"
     },
     "user_tz": 300
    },
    "id": "U63rYRCzoZoC",
    "outputId": "ad48c34f-a9a4-4118-9aa6-8b87fa7eea93"
   },
   "outputs": [
    {
     "name": "stdout",
     "output_type": "stream",
     "text": [
      "Statistic: 16197.803\n",
      "15.000: 0.576, data does not look normal (reject H0)\n",
      "10.000: 0.656, data does not look normal (reject H0)\n",
      "5.000: 0.787, data does not look normal (reject H0)\n",
      "2.500: 0.918, data does not look normal (reject H0)\n",
      "1.000: 1.092, data does not look normal (reject H0)\n"
     ]
    }
   ],
   "source": [
    "#anderson-darling\n",
    "from scipy.stats import anderson\n",
    "result = anderson(diamonds['depth'])\n",
    "print('Statistic: %.3f' % result.statistic)\n",
    "\n",
    "p = 0\n",
    "\n",
    "for i in range(len(result.critical_values)):\n",
    "\n",
    "    sl, cv = result.significance_level[i], result.critical_values[i]\n",
    "\n",
    "    if result.statistic < result.critical_values[i]:\n",
    "\n",
    "        print('%.3f: %.3f, data looks normal (fail to reject H0)' % (sl, cv)) \n",
    "    else:\n",
    "        print('%.3f: %.3f, data does not look normal (reject H0)' % (sl, cv))"
   ]
  },
  {
   "cell_type": "markdown",
   "metadata": {
    "id": "mcqJn2FXoZoD"
   },
   "source": [
    "## Depth Percentage"
   ]
  },
  {
   "cell_type": "code",
   "execution_count": 73,
   "metadata": {
    "colab": {
     "base_uri": "https://localhost:8080/"
    },
    "executionInfo": {
     "elapsed": 851,
     "status": "ok",
     "timestamp": 1612837318305,
     "user": {
      "displayName": "Frank Coleman",
      "photoUrl": "https://lh3.googleusercontent.com/a-/AOh14GhnRyj_a8bPbOyiw-1SbTtN2Ut1OvBjM5gXozPTzA=s64",
      "userId": "16429428919363884200"
     },
     "user_tz": 300
    },
    "id": "x866_6eXoZoD",
    "outputId": "5e863130-4042-467b-c8b4-c97599057e67"
   },
   "outputs": [
    {
     "data": {
      "image/png": "[encoded data removed]",
      "text/plain": [
       "<Figure size 432x288 with 1 Axes>"
      ]
     },
     "metadata": {
      "needs_background": "light"
     },
     "output_type": "display_data"
    }
   ],
   "source": [
    "plt.hist(diamonds['depthper'], color = 'g', log=True)\n",
    "plt.axvline((np.quantile(diamonds['depthper'], .5)),color='#ff6500',label='Depth % Median')\n",
    "plt.legend()\n",
    "plt.xlabel('Depth Percentage')\n",
    "plt.ylabel('Count')\n",
    "plt.title('Depth % Histogram - Log')\n",
    "plt.show()"
   ]
  },
  {
   "cell_type": "code",
   "execution_count": 74,
   "metadata": {
    "colab": {
     "base_uri": "https://localhost:8080/"
    },
    "executionInfo": {
     "elapsed": 978,
     "status": "ok",
     "timestamp": 1612837318482,
     "user": {
      "displayName": "Frank Coleman",
      "photoUrl": "https://lh3.googleusercontent.com/a-/AOh14GhnRyj_a8bPbOyiw-1SbTtN2Ut1OvBjM5gXozPTzA=s64",
      "userId": "16429428919363884200"
     },
     "user_tz": 300
    },
    "id": "7CtYBvwJoZoE",
    "outputId": "ac58fc7e-b8f9-40b1-92f5-82f49a0edfcc"
   },
   "outputs": [
    {
     "data": {
      "text/plain": [
       "Text(0.5, 1.0, 'Depth % Boxplot')"
      ]
     },
     "execution_count": 74,
     "metadata": {},
     "output_type": "execute_result"
    },
    {
     "data": {
      "image/png": "[encoded data removed]",
      "text/plain": [
       "<Figure size 432x288 with 1 Axes>"
      ]
     },
     "metadata": {
      "needs_background": "light"
     },
     "output_type": "display_data"
    }
   ],
   "source": [
    "plt.boxplot(diamonds['depthper'])\n",
    "plt.title('Depth % Boxplot')"
   ]
  },
  {
   "cell_type": "code",
   "execution_count": 75,
   "metadata": {
    "colab": {
     "base_uri": "https://localhost:8080/"
    },
    "executionInfo": {
     "elapsed": 1137,
     "status": "ok",
     "timestamp": 1612837318675,
     "user": {
      "displayName": "Frank Coleman",
      "photoUrl": "https://lh3.googleusercontent.com/a-/AOh14GhnRyj_a8bPbOyiw-1SbTtN2Ut1OvBjM5gXozPTzA=s64",
      "userId": "16429428919363884200"
     },
     "user_tz": 300
    },
    "id": "IxAvUcxgoZoE",
    "outputId": "58e3f219-9b10-4c38-e0f4-d31c976a773f"
   },
   "outputs": [
    {
     "data": {
      "image/png": "[encoded data removed]",
      "text/plain": [
       "<Figure size 432x288 with 1 Axes>"
      ]
     },
     "metadata": {
      "needs_background": "light"
     },
     "output_type": "display_data"
    }
   ],
   "source": [
    "plt.hist(diamonds['depthper'], color = 'g', log=False)\n",
    "plt.axvline((np.quantile(diamonds['depthper'], .5)),color='#ff6500',label='Depth % Median')\n",
    "plt.legend()\n",
    "plt.xlabel('Depth Percentage')\n",
    "plt.ylabel('Count')\n",
    "plt.title('Depth % Histogram')\n",
    "plt.show()"
   ]
  },
  {
   "cell_type": "code",
   "execution_count": 76,
   "metadata": {
    "colab": {
     "base_uri": "https://localhost:8080/"
    },
    "executionInfo": {
     "elapsed": 1328,
     "status": "ok",
     "timestamp": 1612837318887,
     "user": {
      "displayName": "Frank Coleman",
      "photoUrl": "https://lh3.googleusercontent.com/a-/AOh14GhnRyj_a8bPbOyiw-1SbTtN2Ut1OvBjM5gXozPTzA=s64",
      "userId": "16429428919363884200"
     },
     "user_tz": 300
    },
    "id": "nq4m6ctSoZoF",
    "outputId": "ce32d5ad-61f0-405a-cd54-8d1e7fbedd5b"
   },
   "outputs": [
    {
     "data": {
      "text/plain": [
       "count    53932.000000\n",
       "mean        61.749336\n",
       "std          1.432514\n",
       "min         43.000000\n",
       "25%         61.000000\n",
       "50%         61.800000\n",
       "75%         62.500000\n",
       "max         79.000000\n",
       "Name: depthper, dtype: float64"
      ]
     },
     "execution_count": 76,
     "metadata": {},
     "output_type": "execute_result"
    }
   ],
   "source": [
    "diamonds.depthper.describe()"
   ]
  },
  {
   "cell_type": "code",
   "execution_count": 77,
   "metadata": {
    "colab": {
     "base_uri": "https://localhost:8080/"
    },
    "executionInfo": {
     "elapsed": 1324,
     "status": "ok",
     "timestamp": 1612837318894,
     "user": {
      "displayName": "Frank Coleman",
      "photoUrl": "https://lh3.googleusercontent.com/a-/AOh14GhnRyj_a8bPbOyiw-1SbTtN2Ut1OvBjM5gXozPTzA=s64",
      "userId": "16429428919363884200"
     },
     "user_tz": 300
    },
    "id": "ib5rn4w9oZoF",
    "outputId": "cbb9b49d-565a-42a7-e1a8-fd09f0df8509"
   },
   "outputs": [
    {
     "name": "stdout",
     "output_type": "stream",
     "text": [
      "1.5\n",
      "58.75\n",
      "64.75\n"
     ]
    }
   ],
   "source": [
    "depthper_iqr = (np.quantile(diamonds['depthper'], .75)) - (np.quantile(diamonds['depthper'], .25))\n",
    "depthper_lower_limit = ((np.quantile(diamonds['depthper'], .25)) - 1.5*depthper_iqr)\n",
    "depthper_upper_limit = ((np.quantile(diamonds['depthper'], .75)) + 1.5*depthper_iqr)\n",
    "print(depthper_iqr)\n",
    "print(depthper_lower_limit)\n",
    "print(depthper_upper_limit)"
   ]
  },
  {
   "cell_type": "code",
   "execution_count": 78,
   "metadata": {
    "colab": {
     "base_uri": "https://localhost:8080/"
    },
    "executionInfo": {
     "elapsed": 1315,
     "status": "ok",
     "timestamp": 1612837318898,
     "user": {
      "displayName": "Frank Coleman",
      "photoUrl": "https://lh3.googleusercontent.com/a-/AOh14GhnRyj_a8bPbOyiw-1SbTtN2Ut1OvBjM5gXozPTzA=s64",
      "userId": "16429428919363884200"
     },
     "user_tz": 300
    },
    "id": "MTm2HtP7oZoG",
    "outputId": "a2044f57-7630-40c9-eb00-b52051989382"
   },
   "outputs": [
    {
     "name": "stdout",
     "output_type": "stream",
     "text": [
      "1039\n",
      "1505\n",
      "2544\n"
     ]
    }
   ],
   "source": [
    "#This is the number of outliers\n",
    "depthper_above_upper_limit = diamonds[diamonds.depthper > depthper_upper_limit].shape[0]\n",
    "depthper_below_lower_limit = diamonds[diamonds.depthper < depthper_lower_limit].shape[0]\n",
    "total_depthper_outliers = depthper_above_upper_limit + depthper_below_lower_limit\n",
    "print(depthper_above_upper_limit)\n",
    "print(depthper_below_lower_limit)\n",
    "print(total_depthper_outliers)"
   ]
  },
  {
   "cell_type": "code",
   "execution_count": 79,
   "metadata": {
    "colab": {
     "base_uri": "https://localhost:8080/"
    },
    "executionInfo": {
     "elapsed": 1306,
     "status": "ok",
     "timestamp": 1612837318899,
     "user": {
      "displayName": "Frank Coleman",
      "photoUrl": "https://lh3.googleusercontent.com/a-/AOh14GhnRyj_a8bPbOyiw-1SbTtN2Ut1OvBjM5gXozPTzA=s64",
      "userId": "16429428919363884200"
     },
     "user_tz": 300
    },
    "id": "r2wIK08foZoH",
    "outputId": "7f9695ec-60d8-4b39-a7bc-bf0d6a80c564"
   },
   "outputs": [
    {
     "name": "stdout",
     "output_type": "stream",
     "text": [
      "0.01926500037083735\n",
      "0.027905510643031966\n",
      "0.04717051101386932\n"
     ]
    }
   ],
   "source": [
    "#gives the percentage of rows that are outliers\n",
    "depthper_upper_outliers_percent = (diamonds[diamonds.depthper > depthper_upper_limit].shape[0]) / (diamonds.shape[0])\n",
    "print(depthper_upper_outliers_percent)\n",
    "depthper_lower_outliers_percent = (diamonds[diamonds.depthper < depthper_lower_limit].shape[0]) / (diamonds.shape[0])\n",
    "print(depthper_lower_outliers_percent)\n",
    "total_depthper_outliers_percent = depthper_upper_outliers_percent + depthper_lower_outliers_percent\n",
    "print(total_depthper_outliers_percent)"
   ]
  },
  {
   "cell_type": "code",
   "execution_count": 80,
   "metadata": {
    "colab": {
     "base_uri": "https://localhost:8080/"
    },
    "executionInfo": {
     "elapsed": 1296,
     "status": "ok",
     "timestamp": 1612837318902,
     "user": {
      "displayName": "Frank Coleman",
      "photoUrl": "https://lh3.googleusercontent.com/a-/AOh14GhnRyj_a8bPbOyiw-1SbTtN2Ut1OvBjM5gXozPTzA=s64",
      "userId": "16429428919363884200"
     },
     "user_tz": 300
    },
    "id": "KAfZoq_YoZoH",
    "outputId": "f90ed815-ae67-46ce-e497-8930589dfe05"
   },
   "outputs": [
    {
     "name": "stdout",
     "output_type": "stream",
     "text": [
      "Statistics=6613.925, p=0.000\n",
      "Sample does not look Gaussian (reject H0)\n"
     ]
    }
   ],
   "source": [
    "# D'Agostino and Pearson's Test\n",
    "from scipy.stats import normaltest\n",
    "stat, p = normaltest(diamonds['depthper'])\n",
    "print('Statistics=%.3f, p=%.3f' % (stat, p))\n",
    "# interpret\n",
    "alpha = 0.05\n",
    "if p > alpha:\n",
    "\tprint('Sample looks Gaussian (fail to reject H0)')\n",
    "else:\n",
    "\tprint('Sample does not look Gaussian (reject H0)')"
   ]
  },
  {
   "cell_type": "code",
   "execution_count": 81,
   "metadata": {
    "colab": {
     "base_uri": "https://localhost:8080/"
    },
    "executionInfo": {
     "elapsed": 1285,
     "status": "ok",
     "timestamp": 1612837318909,
     "user": {
      "displayName": "Frank Coleman",
      "photoUrl": "https://lh3.googleusercontent.com/a-/AOh14GhnRyj_a8bPbOyiw-1SbTtN2Ut1OvBjM5gXozPTzA=s64",
      "userId": "16429428919363884200"
     },
     "user_tz": 300
    },
    "id": "zJc7KQRKoZoI",
    "outputId": "160c4bf2-7f45-40c7-d7ff-23623f382e0a"
   },
   "outputs": [
    {
     "name": "stdout",
     "output_type": "stream",
     "text": [
      "Statistic: 502.669\n",
      "15.000: 0.576, data does not look normal (reject H0)\n",
      "10.000: 0.656, data does not look normal (reject H0)\n",
      "5.000: 0.787, data does not look normal (reject H0)\n",
      "2.500: 0.918, data does not look normal (reject H0)\n",
      "1.000: 1.092, data does not look normal (reject H0)\n"
     ]
    }
   ],
   "source": [
    "#anderson-darling\n",
    "from scipy.stats import anderson\n",
    "result = anderson(diamonds['depthper'])\n",
    "print('Statistic: %.3f' % result.statistic)\n",
    "\n",
    "p = 0\n",
    "\n",
    "for i in range(len(result.critical_values)):\n",
    "\n",
    "    sl, cv = result.significance_level[i], result.critical_values[i]\n",
    "\n",
    "    if result.statistic < result.critical_values[i]:\n",
    "\n",
    "        print('%.3f: %.3f, data looks normal (fail to reject H0)' % (sl, cv)) \n",
    "    else:\n",
    "        print('%.3f: %.3f, data does not look normal (reject H0)' % (sl, cv))"
   ]
  },
  {
   "cell_type": "markdown",
   "metadata": {
    "id": "rIXxl9HOoZoI"
   },
   "source": [
    "## Table"
   ]
  },
  {
   "cell_type": "code",
   "execution_count": 82,
   "metadata": {
    "colab": {
     "base_uri": "https://localhost:8080/"
    },
    "executionInfo": {
     "elapsed": 572,
     "status": "ok",
     "timestamp": 1612837322266,
     "user": {
      "displayName": "Frank Coleman",
      "photoUrl": "https://lh3.googleusercontent.com/a-/AOh14GhnRyj_a8bPbOyiw-1SbTtN2Ut1OvBjM5gXozPTzA=s64",
      "userId": "16429428919363884200"
     },
     "user_tz": 300
    },
    "id": "s0izhfhxoZoJ",
    "outputId": "f33542ad-4395-4591-e592-1259dd4a9cb1"
   },
   "outputs": [
    {
     "data": {
      "image/png": "[encoded data removed]",
      "text/plain": [
       "<Figure size 432x288 with 1 Axes>"
      ]
     },
     "metadata": {
      "needs_background": "light"
     },
     "output_type": "display_data"
    }
   ],
   "source": [
    "plt.hist(diamonds['table'], color = 'g', log=False)\n",
    "plt.axvline((np.quantile(diamonds['table'], .5)),color='#ff6500',label='Table % Median')\n",
    "plt.legend()\n",
    "plt.xlabel('Table')\n",
    "plt.ylabel('Count')\n",
    "plt.title('Table % Histogram')\n",
    "plt.show()"
   ]
  },
  {
   "cell_type": "code",
   "execution_count": 83,
   "metadata": {
    "colab": {
     "base_uri": "https://localhost:8080/"
    },
    "executionInfo": {
     "elapsed": 1095,
     "status": "ok",
     "timestamp": 1612837322822,
     "user": {
      "displayName": "Frank Coleman",
      "photoUrl": "https://lh3.googleusercontent.com/a-/AOh14GhnRyj_a8bPbOyiw-1SbTtN2Ut1OvBjM5gXozPTzA=s64",
      "userId": "16429428919363884200"
     },
     "user_tz": 300
    },
    "id": "tB4kQyxVoZoJ",
    "outputId": "831c88d9-0518-4cf5-cba6-fb3b18cdba51"
   },
   "outputs": [
    {
     "data": {
      "image/png": "[encoded data removed]",
      "text/plain": [
       "<Figure size 432x288 with 1 Axes>"
      ]
     },
     "metadata": {
      "needs_background": "light"
     },
     "output_type": "display_data"
    }
   ],
   "source": [
    "plt.hist(diamonds['table'], color = 'g', log=True)\n",
    "plt.axvline((np.quantile(diamonds['table'], .5)),color='#ff6500',label='Table % Median')\n",
    "plt.legend()\n",
    "plt.xlabel('Table')\n",
    "plt.ylabel('Count')\n",
    "plt.title('Table % Histogram - Log')\n",
    "plt.show()"
   ]
  },
  {
   "cell_type": "code",
   "execution_count": 84,
   "metadata": {
    "colab": {
     "base_uri": "https://localhost:8080/"
    },
    "executionInfo": {
     "elapsed": 1310,
     "status": "ok",
     "timestamp": 1612837323089,
     "user": {
      "displayName": "Frank Coleman",
      "photoUrl": "https://lh3.googleusercontent.com/a-/AOh14GhnRyj_a8bPbOyiw-1SbTtN2Ut1OvBjM5gXozPTzA=s64",
      "userId": "16429428919363884200"
     },
     "user_tz": 300
    },
    "id": "VtCnA9pXoZoK",
    "outputId": "2fe5fec0-7c8a-4379-939d-269bb8e805a9"
   },
   "outputs": [
    {
     "data": {
      "text/plain": [
       "Text(0.5, 1.0, 'Table % Boxplot')"
      ]
     },
     "execution_count": 84,
     "metadata": {},
     "output_type": "execute_result"
    },
    {
     "data": {
      "image/png": "[encoded data removed]",
      "text/plain": [
       "<Figure size 432x288 with 1 Axes>"
      ]
     },
     "metadata": {
      "needs_background": "light"
     },
     "output_type": "display_data"
    }
   ],
   "source": [
    "plt.boxplot(diamonds['table'])\n",
    "plt.title('Table % Boxplot')"
   ]
  },
  {
   "cell_type": "code",
   "execution_count": 85,
   "metadata": {
    "colab": {
     "base_uri": "https://localhost:8080/"
    },
    "executionInfo": {
     "elapsed": 1299,
     "status": "ok",
     "timestamp": 1612837323095,
     "user": {
      "displayName": "Frank Coleman",
      "photoUrl": "https://lh3.googleusercontent.com/a-/AOh14GhnRyj_a8bPbOyiw-1SbTtN2Ut1OvBjM5gXozPTzA=s64",
      "userId": "16429428919363884200"
     },
     "user_tz": 300
    },
    "id": "Mxu5L6Z3oZoK",
    "outputId": "b6d4bfb1-58f7-4158-f59b-40aa804b53e2"
   },
   "outputs": [
    {
     "data": {
      "text/plain": [
       "count    53932.000000\n",
       "mean        57.457029\n",
       "std          2.234064\n",
       "min         43.000000\n",
       "25%         56.000000\n",
       "50%         57.000000\n",
       "75%         59.000000\n",
       "max         95.000000\n",
       "Name: table, dtype: float64"
      ]
     },
     "execution_count": 85,
     "metadata": {},
     "output_type": "execute_result"
    }
   ],
   "source": [
    "diamonds.table.describe()"
   ]
  },
  {
   "cell_type": "code",
   "execution_count": 86,
   "metadata": {
    "colab": {
     "base_uri": "https://localhost:8080/"
    },
    "executionInfo": {
     "elapsed": 1299,
     "status": "ok",
     "timestamp": 1612837323109,
     "user": {
      "displayName": "Frank Coleman",
      "photoUrl": "https://lh3.googleusercontent.com/a-/AOh14GhnRyj_a8bPbOyiw-1SbTtN2Ut1OvBjM5gXozPTzA=s64",
      "userId": "16429428919363884200"
     },
     "user_tz": 300
    },
    "id": "URaDN4g9oZoL",
    "outputId": "8f4942fa-3751-43e2-e8dc-170e7070ce5f"
   },
   "outputs": [
    {
     "name": "stdout",
     "output_type": "stream",
     "text": [
      "3.0\n",
      "51.5\n",
      "63.5\n"
     ]
    }
   ],
   "source": [
    "table_iqr = (np.quantile(diamonds['table'], .75)) - (np.quantile(diamonds['table'], .25))\n",
    "table_lower_limit = ((np.quantile(diamonds['table'], .25)) - 1.5*table_iqr)\n",
    "table_upper_limit = ((np.quantile(diamonds['table'], .75)) + 1.5*table_iqr)\n",
    "print(table_iqr)\n",
    "print(table_lower_limit)\n",
    "print(table_upper_limit)"
   ]
  },
  {
   "cell_type": "code",
   "execution_count": 87,
   "metadata": {
    "colab": {
     "base_uri": "https://localhost:8080/"
    },
    "executionInfo": {
     "elapsed": 1291,
     "status": "ok",
     "timestamp": 1612837323115,
     "user": {
      "displayName": "Frank Coleman",
      "photoUrl": "https://lh3.googleusercontent.com/a-/AOh14GhnRyj_a8bPbOyiw-1SbTtN2Ut1OvBjM5gXozPTzA=s64",
      "userId": "16429428919363884200"
     },
     "user_tz": 300
    },
    "id": "4Y1v62dfoZoM",
    "outputId": "e014275c-fd28-4680-958e-d54ebb16e368"
   },
   "outputs": [
    {
     "name": "stdout",
     "output_type": "stream",
     "text": [
      "588\n",
      "16\n",
      "604\n"
     ]
    }
   ],
   "source": [
    "table_above_upper_limit = diamonds[diamonds.table > table_upper_limit].shape[0]\n",
    "table_below_lower_limit = diamonds[diamonds.table < table_lower_limit].shape[0]\n",
    "total_table_outliers = table_above_upper_limit + table_below_lower_limit\n",
    "print(table_above_upper_limit)\n",
    "print(table_below_lower_limit)\n",
    "print(total_table_outliers)"
   ]
  },
  {
   "cell_type": "code",
   "execution_count": 88,
   "metadata": {
    "colab": {
     "base_uri": "https://localhost:8080/"
    },
    "executionInfo": {
     "elapsed": 1277,
     "status": "ok",
     "timestamp": 1612837323121,
     "user": {
      "displayName": "Frank Coleman",
      "photoUrl": "https://lh3.googleusercontent.com/a-/AOh14GhnRyj_a8bPbOyiw-1SbTtN2Ut1OvBjM5gXozPTzA=s64",
      "userId": "16429428919363884200"
     },
     "user_tz": 300
    },
    "id": "q5MwDGCioZoM",
    "outputId": "0b66b617-f62c-45f5-ff6b-63bece8cea49"
   },
   "outputs": [
    {
     "name": "stdout",
     "output_type": "stream",
     "text": [
      "0.01090261811169621\n",
      "0.0002966698805903731\n",
      "0.011199287992286583\n"
     ]
    }
   ],
   "source": [
    "#gives the percentage of rows that are outliers\n",
    "table_upper_outliers_percent = (diamonds[diamonds.table > table_upper_limit].shape[0]) / (diamonds.shape[0])\n",
    "print(table_upper_outliers_percent)\n",
    "table_lower_outliers_percent = (diamonds[diamonds.table < table_lower_limit].shape[0]) / (diamonds.shape[0])\n",
    "print(table_lower_outliers_percent)\n",
    "total_table_outliers_percent = table_upper_outliers_percent + table_lower_outliers_percent\n",
    "print(total_table_outliers_percent)\n",
    "\n",
    "\n",
    "\n",
    "\n",
    "\n"
   ]
  },
  {
   "cell_type": "code",
   "execution_count": 89,
   "metadata": {
    "colab": {
     "base_uri": "https://localhost:8080/"
    },
    "executionInfo": {
     "elapsed": 1263,
     "status": "ok",
     "timestamp": 1612837323124,
     "user": {
      "displayName": "Frank Coleman",
      "photoUrl": "https://lh3.googleusercontent.com/a-/AOh14GhnRyj_a8bPbOyiw-1SbTtN2Ut1OvBjM5gXozPTzA=s64",
      "userId": "16429428919363884200"
     },
     "user_tz": 300
    },
    "id": "A0sZLnqfoZoN",
    "outputId": "0109ec52-14b7-46c2-df11-5fb52c437bb2"
   },
   "outputs": [
    {
     "name": "stdout",
     "output_type": "stream",
     "text": [
      "Statistics=8027.522, p=0.000\n",
      "Sample does not look Gaussian (reject H0)\n"
     ]
    }
   ],
   "source": [
    "# D'Agostino and Pearson's Test\n",
    "from scipy.stats import normaltest\n",
    "stat, p = normaltest(diamonds['table'])\n",
    "print('Statistics=%.3f, p=%.3f' % (stat, p))\n",
    "# interpret\n",
    "alpha = 0.05\n",
    "if p > alpha:\n",
    "\tprint('Sample looks Gaussian (fail to reject H0)')\n",
    "else:\n",
    "\tprint('Sample does not look Gaussian (reject H0)')"
   ]
  },
  {
   "cell_type": "code",
   "execution_count": 90,
   "metadata": {
    "colab": {
     "base_uri": "https://localhost:8080/"
    },
    "executionInfo": {
     "elapsed": 1251,
     "status": "ok",
     "timestamp": 1612837323126,
     "user": {
      "displayName": "Frank Coleman",
      "photoUrl": "https://lh3.googleusercontent.com/a-/AOh14GhnRyj_a8bPbOyiw-1SbTtN2Ut1OvBjM5gXozPTzA=s64",
      "userId": "16429428919363884200"
     },
     "user_tz": 300
    },
    "id": "txpnp-S6oZoN",
    "outputId": "3ed60626-a1d0-4008-a4bc-1c890d2f4ac5"
   },
   "outputs": [
    {
     "name": "stdout",
     "output_type": "stream",
     "text": [
      "Statistic: 695.644\n",
      "15.000: 0.576, data does not look normal (reject H0)\n",
      "10.000: 0.656, data does not look normal (reject H0)\n",
      "5.000: 0.787, data does not look normal (reject H0)\n",
      "2.500: 0.918, data does not look normal (reject H0)\n",
      "1.000: 1.092, data does not look normal (reject H0)\n"
     ]
    }
   ],
   "source": [
    "#anderson-darling\n",
    "from scipy.stats import anderson\n",
    "result = anderson(diamonds['table'])\n",
    "print('Statistic: %.3f' % result.statistic)\n",
    "\n",
    "p = 0\n",
    "\n",
    "for i in range(len(result.critical_values)):\n",
    "\n",
    "    sl, cv = result.significance_level[i], result.critical_values[i]\n",
    "\n",
    "    if result.statistic < result.critical_values[i]:\n",
    "\n",
    "        print('%.3f: %.3f, data looks normal (fail to reject H0)' % (sl, cv)) \n",
    "    else:\n",
    "        print('%.3f: %.3f, data does not look normal (reject H0)' % (sl, cv))"
   ]
  },
  {
   "cell_type": "markdown",
   "metadata": {
    "id": "Ktqvs1KNoZoO"
   },
   "source": [
    "## Cut"
   ]
  },
  {
   "cell_type": "code",
   "execution_count": 91,
   "metadata": {
    "id": "m-JC9uj9oZoO"
   },
   "outputs": [],
   "source": [
    "cut_order = ['Fair', 'Good', 'Very Good', 'Premium', 'Ideal']\n",
    "clarity_order = ['I1', 'SI2', 'SI1', 'VS2', 'VS1', 'VVS2', 'VVS1', 'IF']\n",
    "color_order = ['J','I','H', 'G', 'F', 'E', 'D']"
   ]
  },
  {
   "cell_type": "code",
   "execution_count": 92,
   "metadata": {
    "colab": {
     "base_uri": "https://localhost:8080/"
    },
    "executionInfo": {
     "elapsed": 1121,
     "status": "ok",
     "timestamp": 1612837329993,
     "user": {
      "displayName": "Frank Coleman",
      "photoUrl": "https://lh3.googleusercontent.com/a-/AOh14GhnRyj_a8bPbOyiw-1SbTtN2Ut1OvBjM5gXozPTzA=s64",
      "userId": "16429428919363884200"
     },
     "user_tz": 300
    },
    "id": "WAVe_UFFoZoO",
    "outputId": "91a21006-d519-4550-e9a7-8bd6024e54df"
   },
   "outputs": [
    {
     "data": {
      "text/plain": [
       "<seaborn.axisgrid.FacetGrid at 0x7fcf521c2dd0>"
      ]
     },
     "execution_count": 92,
     "metadata": {},
     "output_type": "execute_result"
    },
    {
     "data": {
      "image/png": "[encoded data removed]",
      "text/plain": [
       "<Figure size 900x360 with 1 Axes>"
      ]
     },
     "metadata": {
      "needs_background": "light"
     },
     "output_type": "display_data"
    }
   ],
   "source": [
    "#Ideal, 'Premium', 'Good', 'Very Good', 'Fair'\n",
    "sns.catplot(x='cut', data=diamonds , kind='count',aspect=2.5, order=cut_order)"
   ]
  },
  {
   "cell_type": "code",
   "execution_count": 93,
   "metadata": {
    "colab": {
     "base_uri": "https://localhost:8080/"
    },
    "executionInfo": {
     "elapsed": 1328,
     "status": "ok",
     "timestamp": 1612837330239,
     "user": {
      "displayName": "Frank Coleman",
      "photoUrl": "https://lh3.googleusercontent.com/a-/AOh14GhnRyj_a8bPbOyiw-1SbTtN2Ut1OvBjM5gXozPTzA=s64",
      "userId": "16429428919363884200"
     },
     "user_tz": 300
    },
    "id": "pk_D5irsoZoP",
    "outputId": "21ebb7ba-5938-4bf7-ed68-e9feb2dbec20"
   },
   "outputs": [
    {
     "data": {
      "text/html": [
       "<div>\n",
       "<style scoped>\n",
       "    .dataframe tbody tr th:only-of-type {\n",
       "        vertical-align: middle;\n",
       "    }\n",
       "\n",
       "    .dataframe tbody tr th {\n",
       "        vertical-align: top;\n",
       "    }\n",
       "\n",
       "    .dataframe thead th {\n",
       "        text-align: right;\n",
       "    }\n",
       "</style>\n",
       "<table border=\"1\" class=\"dataframe\">\n",
       "  <thead>\n",
       "    <tr style=\"text-align: right;\">\n",
       "      <th></th>\n",
       "      <th>carat</th>\n",
       "      <th>depthper</th>\n",
       "      <th>table</th>\n",
       "      <th>price</th>\n",
       "      <th>length</th>\n",
       "      <th>width</th>\n",
       "      <th>depth</th>\n",
       "    </tr>\n",
       "    <tr>\n",
       "      <th>cut</th>\n",
       "      <th></th>\n",
       "      <th></th>\n",
       "      <th></th>\n",
       "      <th></th>\n",
       "      <th></th>\n",
       "      <th></th>\n",
       "      <th></th>\n",
       "    </tr>\n",
       "  </thead>\n",
       "  <tbody>\n",
       "    <tr>\n",
       "      <td>Fair</td>\n",
       "      <td>1683.14</td>\n",
       "      <td>103049.6</td>\n",
       "      <td>95009.6</td>\n",
       "      <td>7011219</td>\n",
       "      <td>10057.50</td>\n",
       "      <td>9954.07</td>\n",
       "      <td>6412.260</td>\n",
       "    </tr>\n",
       "    <tr>\n",
       "      <td>Good</td>\n",
       "      <td>4164.68</td>\n",
       "      <td>305838.8</td>\n",
       "      <td>287835.9</td>\n",
       "      <td>19270749</td>\n",
       "      <td>28645.08</td>\n",
       "      <td>28703.75</td>\n",
       "      <td>18875.725</td>\n",
       "    </tr>\n",
       "    <tr>\n",
       "      <td>Ideal</td>\n",
       "      <td>15144.21</td>\n",
       "      <td>1329775.5</td>\n",
       "      <td>1205704.4</td>\n",
       "      <td>74495733</td>\n",
       "      <td>118691.07</td>\n",
       "      <td>118956.62</td>\n",
       "      <td>73710.426</td>\n",
       "    </tr>\n",
       "    <tr>\n",
       "      <td>Premium</td>\n",
       "      <td>12297.50</td>\n",
       "      <td>844776.2</td>\n",
       "      <td>810049.4</td>\n",
       "      <td>63187778</td>\n",
       "      <td>82385.88</td>\n",
       "      <td>81985.82</td>\n",
       "      <td>54301.035</td>\n",
       "    </tr>\n",
       "    <tr>\n",
       "      <td>Very Good</td>\n",
       "      <td>9741.70</td>\n",
       "      <td>746825.1</td>\n",
       "      <td>700173.2</td>\n",
       "      <td>48102484</td>\n",
       "      <td>69359.09</td>\n",
       "      <td>69713.45</td>\n",
       "      <td>43009.520</td>\n",
       "    </tr>\n",
       "  </tbody>\n",
       "</table>\n",
       "</div>"
      ],
      "text/plain": [
       "              carat   depthper      table     price     length      width  \\\n",
       "cut                                                                         \n",
       "Fair        1683.14   103049.6    95009.6   7011219   10057.50    9954.07   \n",
       "Good        4164.68   305838.8   287835.9  19270749   28645.08   28703.75   \n",
       "Ideal      15144.21  1329775.5  1205704.4  74495733  118691.07  118956.62   \n",
       "Premium    12297.50   844776.2   810049.4  63187778   82385.88   81985.82   \n",
       "Very Good   9741.70   746825.1   700173.2  48102484   69359.09   69713.45   \n",
       "\n",
       "               depth  \n",
       "cut                   \n",
       "Fair        6412.260  \n",
       "Good       18875.725  \n",
       "Ideal      73710.426  \n",
       "Premium    54301.035  \n",
       "Very Good  43009.520  "
      ]
     },
     "execution_count": 93,
     "metadata": {},
     "output_type": "execute_result"
    }
   ],
   "source": [
    "data = diamonds.groupby('cut').sum()\n",
    "data"
   ]
  },
  {
   "cell_type": "code",
   "execution_count": 94,
   "metadata": {
    "id": "OC3P2EdooZoP"
   },
   "outputs": [],
   "source": [
    "#pie, ax = plt.subplots(figsize=[10,6])\n",
    "#labels = data.keys()\n",
    "#plt.pie(x=data, autopct=\"%.1f%%\", explode=[0.05]*4, labels=labels, pctdistance=0.5)\n",
    "#plt.title(\"Delivery Tips by type\", fontsize=14);\n",
    "#pie.savefig(\"DeliveryPieChart.png\")"
   ]
  },
  {
   "cell_type": "code",
   "execution_count": null,
   "metadata": {
    "id": "aUj4d540oZoQ"
   },
   "outputs": [],
   "source": []
  },
  {
   "cell_type": "code",
   "execution_count": 95,
   "metadata": {
    "colab": {
     "base_uri": "https://localhost:8080/"
    },
    "executionInfo": {
     "elapsed": 1240,
     "status": "ok",
     "timestamp": 1612837330269,
     "user": {
      "displayName": "Frank Coleman",
      "photoUrl": "https://lh3.googleusercontent.com/a-/AOh14GhnRyj_a8bPbOyiw-1SbTtN2Ut1OvBjM5gXozPTzA=s64",
      "userId": "16429428919363884200"
     },
     "user_tz": 300
    },
    "id": "zPMWPwB9oZoQ",
    "outputId": "cf76d7fa-7703-49fd-ca6a-66cd8013b8ee"
   },
   "outputs": [
    {
     "data": {
      "text/html": [
       "<div>\n",
       "<style scoped>\n",
       "    .dataframe tbody tr th:only-of-type {\n",
       "        vertical-align: middle;\n",
       "    }\n",
       "\n",
       "    .dataframe tbody tr th {\n",
       "        vertical-align: top;\n",
       "    }\n",
       "\n",
       "    .dataframe thead th {\n",
       "        text-align: right;\n",
       "    }\n",
       "</style>\n",
       "<table border=\"1\" class=\"dataframe\">\n",
       "  <thead>\n",
       "    <tr style=\"text-align: right;\">\n",
       "      <th>col_0</th>\n",
       "      <th>count</th>\n",
       "    </tr>\n",
       "    <tr>\n",
       "      <th>cut</th>\n",
       "      <th></th>\n",
       "    </tr>\n",
       "  </thead>\n",
       "  <tbody>\n",
       "    <tr>\n",
       "      <td>Fair</td>\n",
       "      <td>1609</td>\n",
       "    </tr>\n",
       "    <tr>\n",
       "      <td>Good</td>\n",
       "      <td>4904</td>\n",
       "    </tr>\n",
       "    <tr>\n",
       "      <td>Ideal</td>\n",
       "      <td>21549</td>\n",
       "    </tr>\n",
       "    <tr>\n",
       "      <td>Premium</td>\n",
       "      <td>13789</td>\n",
       "    </tr>\n",
       "    <tr>\n",
       "      <td>Very Good</td>\n",
       "      <td>12081</td>\n",
       "    </tr>\n",
       "  </tbody>\n",
       "</table>\n",
       "</div>"
      ],
      "text/plain": [
       "col_0      count\n",
       "cut             \n",
       "Fair        1609\n",
       "Good        4904\n",
       "Ideal      21549\n",
       "Premium    13789\n",
       "Very Good  12081"
      ]
     },
     "execution_count": 95,
     "metadata": {},
     "output_type": "execute_result"
    }
   ],
   "source": [
    "cut_tab = pd.crosstab(diamonds['cut'],columns='count')\n",
    "cut_tab"
   ]
  },
  {
   "cell_type": "code",
   "execution_count": 96,
   "metadata": {
    "colab": {
     "base_uri": "https://localhost:8080/"
    },
    "executionInfo": {
     "elapsed": 1186,
     "status": "ok",
     "timestamp": 1612837330281,
     "user": {
      "displayName": "Frank Coleman",
      "photoUrl": "https://lh3.googleusercontent.com/a-/AOh14GhnRyj_a8bPbOyiw-1SbTtN2Ut1OvBjM5gXozPTzA=s64",
      "userId": "16429428919363884200"
     },
     "user_tz": 300
    },
    "id": "qxPewe54oZoR",
    "outputId": "63ab734b-69f8-40bf-f8cc-507b7e8eaa84"
   },
   "outputs": [
    {
     "data": {
      "text/html": [
       "<div>\n",
       "<style scoped>\n",
       "    .dataframe tbody tr th:only-of-type {\n",
       "        vertical-align: middle;\n",
       "    }\n",
       "\n",
       "    .dataframe tbody tr th {\n",
       "        vertical-align: top;\n",
       "    }\n",
       "\n",
       "    .dataframe thead th {\n",
       "        text-align: right;\n",
       "    }\n",
       "</style>\n",
       "<table border=\"1\" class=\"dataframe\">\n",
       "  <thead>\n",
       "    <tr style=\"text-align: right;\">\n",
       "      <th>col_0</th>\n",
       "      <th>count</th>\n",
       "    </tr>\n",
       "    <tr>\n",
       "      <th>cut</th>\n",
       "      <th></th>\n",
       "    </tr>\n",
       "  </thead>\n",
       "  <tbody>\n",
       "    <tr>\n",
       "      <td>Fair</td>\n",
       "      <td>0.029834</td>\n",
       "    </tr>\n",
       "    <tr>\n",
       "      <td>Good</td>\n",
       "      <td>0.090929</td>\n",
       "    </tr>\n",
       "    <tr>\n",
       "      <td>Ideal</td>\n",
       "      <td>0.399559</td>\n",
       "    </tr>\n",
       "    <tr>\n",
       "      <td>Premium</td>\n",
       "      <td>0.255674</td>\n",
       "    </tr>\n",
       "    <tr>\n",
       "      <td>Very Good</td>\n",
       "      <td>0.224004</td>\n",
       "    </tr>\n",
       "  </tbody>\n",
       "</table>\n",
       "</div>"
      ],
      "text/plain": [
       "col_0         count\n",
       "cut                \n",
       "Fair       0.029834\n",
       "Good       0.090929\n",
       "Ideal      0.399559\n",
       "Premium    0.255674\n",
       "Very Good  0.224004"
      ]
     },
     "execution_count": 96,
     "metadata": {},
     "output_type": "execute_result"
    }
   ],
   "source": [
    "cut_tab/cut_tab.sum()"
   ]
  },
  {
   "cell_type": "code",
   "execution_count": 97,
   "metadata": {
    "colab": {
     "base_uri": "https://localhost:8080/"
    },
    "executionInfo": {
     "elapsed": 1347,
     "status": "ok",
     "timestamp": 1612837330478,
     "user": {
      "displayName": "Frank Coleman",
      "photoUrl": "https://lh3.googleusercontent.com/a-/AOh14GhnRyj_a8bPbOyiw-1SbTtN2Ut1OvBjM5gXozPTzA=s64",
      "userId": "16429428919363884200"
     },
     "user_tz": 300
    },
    "id": "FELe6ggloZoR",
    "outputId": "1274baa8-7c95-466a-91e0-565735950fb1"
   },
   "outputs": [
    {
     "data": {
      "text/html": [
       "<div>\n",
       "<style scoped>\n",
       "    .dataframe tbody tr th:only-of-type {\n",
       "        vertical-align: middle;\n",
       "    }\n",
       "\n",
       "    .dataframe tbody tr th {\n",
       "        vertical-align: top;\n",
       "    }\n",
       "\n",
       "    .dataframe thead th {\n",
       "        text-align: right;\n",
       "    }\n",
       "</style>\n",
       "<table border=\"1\" class=\"dataframe\">\n",
       "  <thead>\n",
       "    <tr style=\"text-align: right;\">\n",
       "      <th></th>\n",
       "      <th>carat</th>\n",
       "      <th>depthper</th>\n",
       "      <th>table</th>\n",
       "      <th>price</th>\n",
       "      <th>length</th>\n",
       "      <th>width</th>\n",
       "      <th>depth</th>\n",
       "    </tr>\n",
       "    <tr>\n",
       "      <th>cut</th>\n",
       "      <th></th>\n",
       "      <th></th>\n",
       "      <th></th>\n",
       "      <th></th>\n",
       "      <th></th>\n",
       "      <th></th>\n",
       "      <th></th>\n",
       "    </tr>\n",
       "  </thead>\n",
       "  <tbody>\n",
       "    <tr>\n",
       "      <td>Fair</td>\n",
       "      <td>1.00</td>\n",
       "      <td>65.0</td>\n",
       "      <td>58.0</td>\n",
       "      <td>3282</td>\n",
       "      <td>6.18</td>\n",
       "      <td>6.10</td>\n",
       "      <td>3.97</td>\n",
       "    </tr>\n",
       "    <tr>\n",
       "      <td>Good</td>\n",
       "      <td>0.82</td>\n",
       "      <td>63.4</td>\n",
       "      <td>58.0</td>\n",
       "      <td>3054</td>\n",
       "      <td>5.98</td>\n",
       "      <td>5.99</td>\n",
       "      <td>3.70</td>\n",
       "    </tr>\n",
       "    <tr>\n",
       "      <td>Ideal</td>\n",
       "      <td>0.54</td>\n",
       "      <td>61.8</td>\n",
       "      <td>56.0</td>\n",
       "      <td>1810</td>\n",
       "      <td>5.25</td>\n",
       "      <td>5.26</td>\n",
       "      <td>3.23</td>\n",
       "    </tr>\n",
       "    <tr>\n",
       "      <td>Premium</td>\n",
       "      <td>0.86</td>\n",
       "      <td>61.4</td>\n",
       "      <td>59.0</td>\n",
       "      <td>3183</td>\n",
       "      <td>6.11</td>\n",
       "      <td>6.06</td>\n",
       "      <td>3.72</td>\n",
       "    </tr>\n",
       "    <tr>\n",
       "      <td>Very Good</td>\n",
       "      <td>0.71</td>\n",
       "      <td>62.1</td>\n",
       "      <td>58.0</td>\n",
       "      <td>2647</td>\n",
       "      <td>5.74</td>\n",
       "      <td>5.77</td>\n",
       "      <td>3.56</td>\n",
       "    </tr>\n",
       "  </tbody>\n",
       "</table>\n",
       "</div>"
      ],
      "text/plain": [
       "           carat  depthper  table  price  length  width  depth\n",
       "cut                                                           \n",
       "Fair        1.00      65.0   58.0   3282    6.18   6.10   3.97\n",
       "Good        0.82      63.4   58.0   3054    5.98   5.99   3.70\n",
       "Ideal       0.54      61.8   56.0   1810    5.25   5.26   3.23\n",
       "Premium     0.86      61.4   59.0   3183    6.11   6.06   3.72\n",
       "Very Good   0.71      62.1   58.0   2647    5.74   5.77   3.56"
      ]
     },
     "execution_count": 97,
     "metadata": {},
     "output_type": "execute_result"
    }
   ],
   "source": [
    "diamonds.groupby(\"cut\").median()"
   ]
  },
  {
   "cell_type": "code",
   "execution_count": null,
   "metadata": {
    "id": "r681aTTDoZoS"
   },
   "outputs": [],
   "source": []
  },
  {
   "cell_type": "markdown",
   "metadata": {
    "id": "zeoknvPXoZoS"
   },
   "source": [
    "## Clarity"
   ]
  },
  {
   "cell_type": "code",
   "execution_count": 98,
   "metadata": {
    "colab": {
     "base_uri": "https://localhost:8080/"
    },
    "executionInfo": {
     "elapsed": 726,
     "status": "ok",
     "timestamp": 1612837338461,
     "user": {
      "displayName": "Frank Coleman",
      "photoUrl": "https://lh3.googleusercontent.com/a-/AOh14GhnRyj_a8bPbOyiw-1SbTtN2Ut1OvBjM5gXozPTzA=s64",
      "userId": "16429428919363884200"
     },
     "user_tz": 300
    },
    "id": "JLU_7ebIoZoS",
    "outputId": "d20ea2dd-8d2b-4b27-b709-abe628d987da"
   },
   "outputs": [
    {
     "data": {
      "image/png": "[encoded data removed]",
      "text/plain": [
       "<Figure size 900x360 with 1 Axes>"
      ]
     },
     "metadata": {
      "needs_background": "light"
     },
     "output_type": "display_data"
    }
   ],
   "source": [
    "p = sns.catplot(x='clarity', data=diamonds, kind='count' ,aspect=2.5, order=clarity_order )"
   ]
  },
  {
   "cell_type": "code",
   "execution_count": 99,
   "metadata": {
    "colab": {
     "base_uri": "https://localhost:8080/"
    },
    "executionInfo": {
     "elapsed": 957,
     "status": "ok",
     "timestamp": 1612837338757,
     "user": {
      "displayName": "Frank Coleman",
      "photoUrl": "https://lh3.googleusercontent.com/a-/AOh14GhnRyj_a8bPbOyiw-1SbTtN2Ut1OvBjM5gXozPTzA=s64",
      "userId": "16429428919363884200"
     },
     "user_tz": 300
    },
    "id": "nNf1JlRVoZoT",
    "outputId": "e5e422e0-066b-49a1-c7d5-c9eb1e5279fa"
   },
   "outputs": [
    {
     "data": {
      "text/html": [
       "<div>\n",
       "<style scoped>\n",
       "    .dataframe tbody tr th:only-of-type {\n",
       "        vertical-align: middle;\n",
       "    }\n",
       "\n",
       "    .dataframe tbody tr th {\n",
       "        vertical-align: top;\n",
       "    }\n",
       "\n",
       "    .dataframe thead th {\n",
       "        text-align: right;\n",
       "    }\n",
       "</style>\n",
       "<table border=\"1\" class=\"dataframe\">\n",
       "  <thead>\n",
       "    <tr style=\"text-align: right;\">\n",
       "      <th>col_0</th>\n",
       "      <th>count</th>\n",
       "    </tr>\n",
       "    <tr>\n",
       "      <th>clarity</th>\n",
       "      <th></th>\n",
       "    </tr>\n",
       "  </thead>\n",
       "  <tbody>\n",
       "    <tr>\n",
       "      <td>I1</td>\n",
       "      <td>741</td>\n",
       "    </tr>\n",
       "    <tr>\n",
       "      <td>IF</td>\n",
       "      <td>1790</td>\n",
       "    </tr>\n",
       "    <tr>\n",
       "      <td>SI1</td>\n",
       "      <td>13065</td>\n",
       "    </tr>\n",
       "    <tr>\n",
       "      <td>SI2</td>\n",
       "      <td>9190</td>\n",
       "    </tr>\n",
       "    <tr>\n",
       "      <td>VS1</td>\n",
       "      <td>8170</td>\n",
       "    </tr>\n",
       "    <tr>\n",
       "      <td>VS2</td>\n",
       "      <td>12256</td>\n",
       "    </tr>\n",
       "    <tr>\n",
       "      <td>VVS1</td>\n",
       "      <td>3654</td>\n",
       "    </tr>\n",
       "    <tr>\n",
       "      <td>VVS2</td>\n",
       "      <td>5066</td>\n",
       "    </tr>\n",
       "  </tbody>\n",
       "</table>\n",
       "</div>"
      ],
      "text/plain": [
       "col_0    count\n",
       "clarity       \n",
       "I1         741\n",
       "IF        1790\n",
       "SI1      13065\n",
       "SI2       9190\n",
       "VS1       8170\n",
       "VS2      12256\n",
       "VVS1      3654\n",
       "VVS2      5066"
      ]
     },
     "execution_count": 99,
     "metadata": {},
     "output_type": "execute_result"
    }
   ],
   "source": [
    "clarity_tab = pd.crosstab(diamonds['clarity'],columns='count')\n",
    "clarity_tab"
   ]
  },
  {
   "cell_type": "code",
   "execution_count": 100,
   "metadata": {
    "colab": {
     "base_uri": "https://localhost:8080/"
    },
    "executionInfo": {
     "elapsed": 902,
     "status": "ok",
     "timestamp": 1612837338761,
     "user": {
      "displayName": "Frank Coleman",
      "photoUrl": "https://lh3.googleusercontent.com/a-/AOh14GhnRyj_a8bPbOyiw-1SbTtN2Ut1OvBjM5gXozPTzA=s64",
      "userId": "16429428919363884200"
     },
     "user_tz": 300
    },
    "id": "8B1i2JLxoZoU",
    "outputId": "ffe80800-314f-4fd0-9e6c-4227340a16da"
   },
   "outputs": [
    {
     "data": {
      "text/html": [
       "<div>\n",
       "<style scoped>\n",
       "    .dataframe tbody tr th:only-of-type {\n",
       "        vertical-align: middle;\n",
       "    }\n",
       "\n",
       "    .dataframe tbody tr th {\n",
       "        vertical-align: top;\n",
       "    }\n",
       "\n",
       "    .dataframe thead th {\n",
       "        text-align: right;\n",
       "    }\n",
       "</style>\n",
       "<table border=\"1\" class=\"dataframe\">\n",
       "  <thead>\n",
       "    <tr style=\"text-align: right;\">\n",
       "      <th>col_0</th>\n",
       "      <th>count</th>\n",
       "    </tr>\n",
       "    <tr>\n",
       "      <th>clarity</th>\n",
       "      <th></th>\n",
       "    </tr>\n",
       "  </thead>\n",
       "  <tbody>\n",
       "    <tr>\n",
       "      <td>I1</td>\n",
       "      <td>0.013740</td>\n",
       "    </tr>\n",
       "    <tr>\n",
       "      <td>IF</td>\n",
       "      <td>0.033190</td>\n",
       "    </tr>\n",
       "    <tr>\n",
       "      <td>SI1</td>\n",
       "      <td>0.242249</td>\n",
       "    </tr>\n",
       "    <tr>\n",
       "      <td>SI2</td>\n",
       "      <td>0.170400</td>\n",
       "    </tr>\n",
       "    <tr>\n",
       "      <td>VS1</td>\n",
       "      <td>0.151487</td>\n",
       "    </tr>\n",
       "    <tr>\n",
       "      <td>VS2</td>\n",
       "      <td>0.227249</td>\n",
       "    </tr>\n",
       "    <tr>\n",
       "      <td>VVS1</td>\n",
       "      <td>0.067752</td>\n",
       "    </tr>\n",
       "    <tr>\n",
       "      <td>VVS2</td>\n",
       "      <td>0.093933</td>\n",
       "    </tr>\n",
       "  </tbody>\n",
       "</table>\n",
       "</div>"
      ],
      "text/plain": [
       "col_0       count\n",
       "clarity          \n",
       "I1       0.013740\n",
       "IF       0.033190\n",
       "SI1      0.242249\n",
       "SI2      0.170400\n",
       "VS1      0.151487\n",
       "VS2      0.227249\n",
       "VVS1     0.067752\n",
       "VVS2     0.093933"
      ]
     },
     "execution_count": 100,
     "metadata": {},
     "output_type": "execute_result"
    }
   ],
   "source": [
    "clarity_tab/clarity_tab.sum()"
   ]
  },
  {
   "cell_type": "code",
   "execution_count": 101,
   "metadata": {
    "colab": {
     "base_uri": "https://localhost:8080/"
    },
    "executionInfo": {
     "elapsed": 846,
     "status": "ok",
     "timestamp": 1612837338765,
     "user": {
      "displayName": "Frank Coleman",
      "photoUrl": "https://lh3.googleusercontent.com/a-/AOh14GhnRyj_a8bPbOyiw-1SbTtN2Ut1OvBjM5gXozPTzA=s64",
      "userId": "16429428919363884200"
     },
     "user_tz": 300
    },
    "id": "Hg4J2DfSoZoU",
    "outputId": "e8c28046-23bf-4a87-ed79-66154f6936eb"
   },
   "outputs": [
    {
     "data": {
      "text/html": [
       "<div>\n",
       "<style scoped>\n",
       "    .dataframe tbody tr th:only-of-type {\n",
       "        vertical-align: middle;\n",
       "    }\n",
       "\n",
       "    .dataframe tbody tr th {\n",
       "        vertical-align: top;\n",
       "    }\n",
       "\n",
       "    .dataframe thead th {\n",
       "        text-align: right;\n",
       "    }\n",
       "</style>\n",
       "<table border=\"1\" class=\"dataframe\">\n",
       "  <thead>\n",
       "    <tr style=\"text-align: right;\">\n",
       "      <th></th>\n",
       "      <th>carat</th>\n",
       "      <th>depthper</th>\n",
       "      <th>table</th>\n",
       "      <th>price</th>\n",
       "      <th>length</th>\n",
       "      <th>width</th>\n",
       "      <th>depth</th>\n",
       "    </tr>\n",
       "    <tr>\n",
       "      <th>clarity</th>\n",
       "      <th></th>\n",
       "      <th></th>\n",
       "      <th></th>\n",
       "      <th></th>\n",
       "      <th></th>\n",
       "      <th></th>\n",
       "      <th></th>\n",
       "    </tr>\n",
       "  </thead>\n",
       "  <tbody>\n",
       "    <tr>\n",
       "      <td>I1</td>\n",
       "      <td>1.12</td>\n",
       "      <td>62.2</td>\n",
       "      <td>58.0</td>\n",
       "      <td>3344.0</td>\n",
       "      <td>6.65</td>\n",
       "      <td>6.61</td>\n",
       "      <td>4.110</td>\n",
       "    </tr>\n",
       "    <tr>\n",
       "      <td>IF</td>\n",
       "      <td>0.35</td>\n",
       "      <td>61.7</td>\n",
       "      <td>56.0</td>\n",
       "      <td>1080.0</td>\n",
       "      <td>4.57</td>\n",
       "      <td>4.59</td>\n",
       "      <td>2.805</td>\n",
       "    </tr>\n",
       "    <tr>\n",
       "      <td>SI1</td>\n",
       "      <td>0.76</td>\n",
       "      <td>62.0</td>\n",
       "      <td>57.0</td>\n",
       "      <td>2822.0</td>\n",
       "      <td>5.87</td>\n",
       "      <td>5.87</td>\n",
       "      <td>3.620</td>\n",
       "    </tr>\n",
       "    <tr>\n",
       "      <td>SI2</td>\n",
       "      <td>1.01</td>\n",
       "      <td>61.9</td>\n",
       "      <td>58.0</td>\n",
       "      <td>4072.0</td>\n",
       "      <td>6.42</td>\n",
       "      <td>6.41</td>\n",
       "      <td>3.970</td>\n",
       "    </tr>\n",
       "    <tr>\n",
       "      <td>VS1</td>\n",
       "      <td>0.57</td>\n",
       "      <td>61.8</td>\n",
       "      <td>57.0</td>\n",
       "      <td>2005.0</td>\n",
       "      <td>5.36</td>\n",
       "      <td>5.37</td>\n",
       "      <td>3.300</td>\n",
       "    </tr>\n",
       "    <tr>\n",
       "      <td>VS2</td>\n",
       "      <td>0.63</td>\n",
       "      <td>61.8</td>\n",
       "      <td>57.0</td>\n",
       "      <td>2053.0</td>\n",
       "      <td>5.51</td>\n",
       "      <td>5.51</td>\n",
       "      <td>3.380</td>\n",
       "    </tr>\n",
       "    <tr>\n",
       "      <td>VVS1</td>\n",
       "      <td>0.39</td>\n",
       "      <td>61.7</td>\n",
       "      <td>57.0</td>\n",
       "      <td>1092.5</td>\n",
       "      <td>4.70</td>\n",
       "      <td>4.71</td>\n",
       "      <td>2.900</td>\n",
       "    </tr>\n",
       "    <tr>\n",
       "      <td>VVS2</td>\n",
       "      <td>0.44</td>\n",
       "      <td>61.8</td>\n",
       "      <td>57.0</td>\n",
       "      <td>1311.0</td>\n",
       "      <td>4.90</td>\n",
       "      <td>4.90</td>\n",
       "      <td>3.010</td>\n",
       "    </tr>\n",
       "  </tbody>\n",
       "</table>\n",
       "</div>"
      ],
      "text/plain": [
       "         carat  depthper  table   price  length  width  depth\n",
       "clarity                                                      \n",
       "I1        1.12      62.2   58.0  3344.0    6.65   6.61  4.110\n",
       "IF        0.35      61.7   56.0  1080.0    4.57   4.59  2.805\n",
       "SI1       0.76      62.0   57.0  2822.0    5.87   5.87  3.620\n",
       "SI2       1.01      61.9   58.0  4072.0    6.42   6.41  3.970\n",
       "VS1       0.57      61.8   57.0  2005.0    5.36   5.37  3.300\n",
       "VS2       0.63      61.8   57.0  2053.0    5.51   5.51  3.380\n",
       "VVS1      0.39      61.7   57.0  1092.5    4.70   4.71  2.900\n",
       "VVS2      0.44      61.8   57.0  1311.0    4.90   4.90  3.010"
      ]
     },
     "execution_count": 101,
     "metadata": {},
     "output_type": "execute_result"
    }
   ],
   "source": [
    "diamonds.groupby(\"clarity\").median()"
   ]
  },
  {
   "cell_type": "markdown",
   "metadata": {
    "id": "0hcQKv3_oZoV"
   },
   "source": [
    "## Color"
   ]
  },
  {
   "cell_type": "code",
   "execution_count": 102,
   "metadata": {
    "colab": {
     "base_uri": "https://localhost:8080/"
    },
    "executionInfo": {
     "elapsed": 735,
     "status": "ok",
     "timestamp": 1612837347506,
     "user": {
      "displayName": "Frank Coleman",
      "photoUrl": "https://lh3.googleusercontent.com/a-/AOh14GhnRyj_a8bPbOyiw-1SbTtN2Ut1OvBjM5gXozPTzA=s64",
      "userId": "16429428919363884200"
     },
     "user_tz": 300
    },
    "id": "pAaRxYewoZoV",
    "outputId": "4f9cf3f2-7e1e-4830-cfc9-0f0a3e67f959"
   },
   "outputs": [
    {
     "data": {
      "image/png": "[encoded data removed]",
      "text/plain": [
       "<Figure size 900x360 with 1 Axes>"
      ]
     },
     "metadata": {
      "needs_background": "light"
     },
     "output_type": "display_data"
    }
   ],
   "source": [
    "p = sns.catplot(x='color', data=diamonds, kind='count' ,aspect=2.5, order=color_order)"
   ]
  },
  {
   "cell_type": "code",
   "execution_count": 103,
   "metadata": {
    "colab": {
     "base_uri": "https://localhost:8080/"
    },
    "executionInfo": {
     "elapsed": 952,
     "status": "ok",
     "timestamp": 1612837347781,
     "user": {
      "displayName": "Frank Coleman",
      "photoUrl": "https://lh3.googleusercontent.com/a-/AOh14GhnRyj_a8bPbOyiw-1SbTtN2Ut1OvBjM5gXozPTzA=s64",
      "userId": "16429428919363884200"
     },
     "user_tz": 300
    },
    "id": "Kpo-kjdzoZoW",
    "outputId": "d66729c0-9cd7-48df-ca77-1a4135cb9b74"
   },
   "outputs": [
    {
     "data": {
      "text/html": [
       "<div>\n",
       "<style scoped>\n",
       "    .dataframe tbody tr th:only-of-type {\n",
       "        vertical-align: middle;\n",
       "    }\n",
       "\n",
       "    .dataframe tbody tr th {\n",
       "        vertical-align: top;\n",
       "    }\n",
       "\n",
       "    .dataframe thead th {\n",
       "        text-align: right;\n",
       "    }\n",
       "</style>\n",
       "<table border=\"1\" class=\"dataframe\">\n",
       "  <thead>\n",
       "    <tr style=\"text-align: right;\">\n",
       "      <th>col_0</th>\n",
       "      <th>count</th>\n",
       "    </tr>\n",
       "    <tr>\n",
       "      <th>color</th>\n",
       "      <th></th>\n",
       "    </tr>\n",
       "  </thead>\n",
       "  <tbody>\n",
       "    <tr>\n",
       "      <td>D</td>\n",
       "      <td>6774</td>\n",
       "    </tr>\n",
       "    <tr>\n",
       "      <td>E</td>\n",
       "      <td>9797</td>\n",
       "    </tr>\n",
       "    <tr>\n",
       "      <td>F</td>\n",
       "      <td>9539</td>\n",
       "    </tr>\n",
       "    <tr>\n",
       "      <td>G</td>\n",
       "      <td>11290</td>\n",
       "    </tr>\n",
       "    <tr>\n",
       "      <td>H</td>\n",
       "      <td>8302</td>\n",
       "    </tr>\n",
       "    <tr>\n",
       "      <td>I</td>\n",
       "      <td>5422</td>\n",
       "    </tr>\n",
       "    <tr>\n",
       "      <td>J</td>\n",
       "      <td>2808</td>\n",
       "    </tr>\n",
       "  </tbody>\n",
       "</table>\n",
       "</div>"
      ],
      "text/plain": [
       "col_0  count\n",
       "color       \n",
       "D       6774\n",
       "E       9797\n",
       "F       9539\n",
       "G      11290\n",
       "H       8302\n",
       "I       5422\n",
       "J       2808"
      ]
     },
     "execution_count": 103,
     "metadata": {},
     "output_type": "execute_result"
    }
   ],
   "source": [
    "color_tab = pd.crosstab(diamonds['color'],columns='count')\n",
    "color_tab"
   ]
  },
  {
   "cell_type": "code",
   "execution_count": 104,
   "metadata": {
    "colab": {
     "base_uri": "https://localhost:8080/"
    },
    "executionInfo": {
     "elapsed": 908,
     "status": "ok",
     "timestamp": 1612837347797,
     "user": {
      "displayName": "Frank Coleman",
      "photoUrl": "https://lh3.googleusercontent.com/a-/AOh14GhnRyj_a8bPbOyiw-1SbTtN2Ut1OvBjM5gXozPTzA=s64",
      "userId": "16429428919363884200"
     },
     "user_tz": 300
    },
    "id": "g5DmdDsloZoW",
    "outputId": "02d7590e-a30c-44fa-c88c-abcb9f3020b4",
    "scrolled": true
   },
   "outputs": [
    {
     "data": {
      "text/html": [
       "<div>\n",
       "<style scoped>\n",
       "    .dataframe tbody tr th:only-of-type {\n",
       "        vertical-align: middle;\n",
       "    }\n",
       "\n",
       "    .dataframe tbody tr th {\n",
       "        vertical-align: top;\n",
       "    }\n",
       "\n",
       "    .dataframe thead th {\n",
       "        text-align: right;\n",
       "    }\n",
       "</style>\n",
       "<table border=\"1\" class=\"dataframe\">\n",
       "  <thead>\n",
       "    <tr style=\"text-align: right;\">\n",
       "      <th>col_0</th>\n",
       "      <th>count</th>\n",
       "    </tr>\n",
       "    <tr>\n",
       "      <th>color</th>\n",
       "      <th></th>\n",
       "    </tr>\n",
       "  </thead>\n",
       "  <tbody>\n",
       "    <tr>\n",
       "      <td>D</td>\n",
       "      <td>0.125603</td>\n",
       "    </tr>\n",
       "    <tr>\n",
       "      <td>E</td>\n",
       "      <td>0.181655</td>\n",
       "    </tr>\n",
       "    <tr>\n",
       "      <td>F</td>\n",
       "      <td>0.176871</td>\n",
       "    </tr>\n",
       "    <tr>\n",
       "      <td>G</td>\n",
       "      <td>0.209338</td>\n",
       "    </tr>\n",
       "    <tr>\n",
       "      <td>H</td>\n",
       "      <td>0.153935</td>\n",
       "    </tr>\n",
       "    <tr>\n",
       "      <td>I</td>\n",
       "      <td>0.100534</td>\n",
       "    </tr>\n",
       "    <tr>\n",
       "      <td>J</td>\n",
       "      <td>0.052066</td>\n",
       "    </tr>\n",
       "  </tbody>\n",
       "</table>\n",
       "</div>"
      ],
      "text/plain": [
       "col_0     count\n",
       "color          \n",
       "D      0.125603\n",
       "E      0.181655\n",
       "F      0.176871\n",
       "G      0.209338\n",
       "H      0.153935\n",
       "I      0.100534\n",
       "J      0.052066"
      ]
     },
     "execution_count": 104,
     "metadata": {},
     "output_type": "execute_result"
    }
   ],
   "source": [
    "color_tab/color_tab.sum()"
   ]
  },
  {
   "cell_type": "code",
   "execution_count": 105,
   "metadata": {
    "colab": {
     "base_uri": "https://localhost:8080/"
    },
    "executionInfo": {
     "elapsed": 849,
     "status": "ok",
     "timestamp": 1612837347805,
     "user": {
      "displayName": "Frank Coleman",
      "photoUrl": "https://lh3.googleusercontent.com/a-/AOh14GhnRyj_a8bPbOyiw-1SbTtN2Ut1OvBjM5gXozPTzA=s64",
      "userId": "16429428919363884200"
     },
     "user_tz": 300
    },
    "id": "bTc_FdBNoZoX",
    "outputId": "f0a33833-39cc-4ed1-bf09-715ca07d5a85"
   },
   "outputs": [
    {
     "data": {
      "text/html": [
       "<div>\n",
       "<style scoped>\n",
       "    .dataframe tbody tr th:only-of-type {\n",
       "        vertical-align: middle;\n",
       "    }\n",
       "\n",
       "    .dataframe tbody tr th {\n",
       "        vertical-align: top;\n",
       "    }\n",
       "\n",
       "    .dataframe thead th {\n",
       "        text-align: right;\n",
       "    }\n",
       "</style>\n",
       "<table border=\"1\" class=\"dataframe\">\n",
       "  <thead>\n",
       "    <tr style=\"text-align: right;\">\n",
       "      <th></th>\n",
       "      <th>carat</th>\n",
       "      <th>depthper</th>\n",
       "      <th>table</th>\n",
       "      <th>price</th>\n",
       "      <th>length</th>\n",
       "      <th>width</th>\n",
       "      <th>depth</th>\n",
       "    </tr>\n",
       "    <tr>\n",
       "      <th>color</th>\n",
       "      <th></th>\n",
       "      <th></th>\n",
       "      <th></th>\n",
       "      <th></th>\n",
       "      <th></th>\n",
       "      <th></th>\n",
       "      <th></th>\n",
       "    </tr>\n",
       "  </thead>\n",
       "  <tbody>\n",
       "    <tr>\n",
       "      <td>D</td>\n",
       "      <td>0.53</td>\n",
       "      <td>61.8</td>\n",
       "      <td>57.0</td>\n",
       "      <td>1836.5</td>\n",
       "      <td>5.23</td>\n",
       "      <td>5.24</td>\n",
       "      <td>3.22</td>\n",
       "    </tr>\n",
       "    <tr>\n",
       "      <td>E</td>\n",
       "      <td>0.53</td>\n",
       "      <td>61.8</td>\n",
       "      <td>57.0</td>\n",
       "      <td>1739.0</td>\n",
       "      <td>5.23</td>\n",
       "      <td>5.24</td>\n",
       "      <td>3.22</td>\n",
       "    </tr>\n",
       "    <tr>\n",
       "      <td>F</td>\n",
       "      <td>0.70</td>\n",
       "      <td>61.8</td>\n",
       "      <td>57.0</td>\n",
       "      <td>2344.0</td>\n",
       "      <td>5.65</td>\n",
       "      <td>5.65</td>\n",
       "      <td>3.48</td>\n",
       "    </tr>\n",
       "    <tr>\n",
       "      <td>G</td>\n",
       "      <td>0.70</td>\n",
       "      <td>61.8</td>\n",
       "      <td>57.0</td>\n",
       "      <td>2241.5</td>\n",
       "      <td>5.64</td>\n",
       "      <td>5.63</td>\n",
       "      <td>3.49</td>\n",
       "    </tr>\n",
       "    <tr>\n",
       "      <td>H</td>\n",
       "      <td>0.90</td>\n",
       "      <td>61.9</td>\n",
       "      <td>57.0</td>\n",
       "      <td>3455.5</td>\n",
       "      <td>6.14</td>\n",
       "      <td>6.14</td>\n",
       "      <td>3.82</td>\n",
       "    </tr>\n",
       "    <tr>\n",
       "      <td>I</td>\n",
       "      <td>1.00</td>\n",
       "      <td>61.9</td>\n",
       "      <td>57.0</td>\n",
       "      <td>3730.0</td>\n",
       "      <td>6.35</td>\n",
       "      <td>6.35</td>\n",
       "      <td>3.93</td>\n",
       "    </tr>\n",
       "    <tr>\n",
       "      <td>J</td>\n",
       "      <td>1.11</td>\n",
       "      <td>62.0</td>\n",
       "      <td>58.0</td>\n",
       "      <td>4234.0</td>\n",
       "      <td>6.64</td>\n",
       "      <td>6.63</td>\n",
       "      <td>4.11</td>\n",
       "    </tr>\n",
       "  </tbody>\n",
       "</table>\n",
       "</div>"
      ],
      "text/plain": [
       "       carat  depthper  table   price  length  width  depth\n",
       "color                                                      \n",
       "D       0.53      61.8   57.0  1836.5    5.23   5.24   3.22\n",
       "E       0.53      61.8   57.0  1739.0    5.23   5.24   3.22\n",
       "F       0.70      61.8   57.0  2344.0    5.65   5.65   3.48\n",
       "G       0.70      61.8   57.0  2241.5    5.64   5.63   3.49\n",
       "H       0.90      61.9   57.0  3455.5    6.14   6.14   3.82\n",
       "I       1.00      61.9   57.0  3730.0    6.35   6.35   3.93\n",
       "J       1.11      62.0   58.0  4234.0    6.64   6.63   4.11"
      ]
     },
     "execution_count": 105,
     "metadata": {},
     "output_type": "execute_result"
    }
   ],
   "source": [
    "diamonds.groupby(\"color\").median()"
   ]
  },
  {
   "cell_type": "code",
   "execution_count": 106,
   "metadata": {
    "colab": {
     "base_uri": "https://localhost:8080/"
    },
    "executionInfo": {
     "elapsed": 796,
     "status": "ok",
     "timestamp": 1612837347810,
     "user": {
      "displayName": "Frank Coleman",
      "photoUrl": "https://lh3.googleusercontent.com/a-/AOh14GhnRyj_a8bPbOyiw-1SbTtN2Ut1OvBjM5gXozPTzA=s64",
      "userId": "16429428919363884200"
     },
     "user_tz": 300
    },
    "id": "ok2Aif7doZoY",
    "outputId": "82337672-01af-45b9-a2ca-beab189c4059"
   },
   "outputs": [
    {
     "data": {
      "image/png": "[encoded data removed]",
      "text/plain": [
       "<Figure size 432x72 with 1 Axes>"
      ]
     },
     "metadata": {
      "needs_background": "light"
     },
     "output_type": "display_data"
    }
   ],
   "source": [
    "famu = sns.palplot(sns.diverging_palette(120,25, s=99, l=55))"
   ]
  },
  {
   "cell_type": "markdown",
   "metadata": {
    "id": "qFNGnvCpoZoZ"
   },
   "source": [
    "## Bivariate"
   ]
  },
  {
   "cell_type": "code",
   "execution_count": 107,
   "metadata": {
    "colab": {
     "base_uri": "https://localhost:8080/",
     "height": 266
    },
    "executionInfo": {
     "elapsed": 525,
     "status": "ok",
     "timestamp": 1612838488669,
     "user": {
      "displayName": "Frank Coleman",
      "photoUrl": "https://lh3.googleusercontent.com/a-/AOh14GhnRyj_a8bPbOyiw-1SbTtN2Ut1OvBjM5gXozPTzA=s64",
      "userId": "16429428919363884200"
     },
     "user_tz": 300
    },
    "id": "xGORV2u_oZoa",
    "outputId": "5675c8f1-7fd1-4dc9-e11a-976583151049"
   },
   "outputs": [
    {
     "data": {
      "text/html": [
       "<div>\n",
       "<style scoped>\n",
       "    .dataframe tbody tr th:only-of-type {\n",
       "        vertical-align: middle;\n",
       "    }\n",
       "\n",
       "    .dataframe tbody tr th {\n",
       "        vertical-align: top;\n",
       "    }\n",
       "\n",
       "    .dataframe thead th {\n",
       "        text-align: right;\n",
       "    }\n",
       "</style>\n",
       "<table border=\"1\" class=\"dataframe\">\n",
       "  <thead>\n",
       "    <tr style=\"text-align: right;\">\n",
       "      <th></th>\n",
       "      <th>carat</th>\n",
       "      <th>depthper</th>\n",
       "      <th>table</th>\n",
       "      <th>price</th>\n",
       "      <th>length</th>\n",
       "      <th>width</th>\n",
       "      <th>depth</th>\n",
       "    </tr>\n",
       "  </thead>\n",
       "  <tbody>\n",
       "    <tr>\n",
       "      <td>carat</td>\n",
       "      <td>1.000000</td>\n",
       "      <td>0.028221</td>\n",
       "      <td>0.181658</td>\n",
       "      <td>0.921610</td>\n",
       "      <td>0.977765</td>\n",
       "      <td>0.953989</td>\n",
       "      <td>0.127129</td>\n",
       "    </tr>\n",
       "    <tr>\n",
       "      <td>depthper</td>\n",
       "      <td>0.028221</td>\n",
       "      <td>1.000000</td>\n",
       "      <td>-0.295700</td>\n",
       "      <td>-0.010670</td>\n",
       "      <td>-0.025097</td>\n",
       "      <td>-0.029141</td>\n",
       "      <td>0.003195</td>\n",
       "    </tr>\n",
       "    <tr>\n",
       "      <td>table</td>\n",
       "      <td>0.181658</td>\n",
       "      <td>-0.295700</td>\n",
       "      <td>1.000000</td>\n",
       "      <td>0.127165</td>\n",
       "      <td>0.196130</td>\n",
       "      <td>0.184530</td>\n",
       "      <td>0.021334</td>\n",
       "    </tr>\n",
       "    <tr>\n",
       "      <td>price</td>\n",
       "      <td>0.921610</td>\n",
       "      <td>-0.010670</td>\n",
       "      <td>0.127165</td>\n",
       "      <td>1.000000</td>\n",
       "      <td>0.887227</td>\n",
       "      <td>0.867872</td>\n",
       "      <td>0.111714</td>\n",
       "    </tr>\n",
       "    <tr>\n",
       "      <td>length</td>\n",
       "      <td>0.977765</td>\n",
       "      <td>-0.025097</td>\n",
       "      <td>0.196130</td>\n",
       "      <td>0.887227</td>\n",
       "      <td>1.000000</td>\n",
       "      <td>0.974933</td>\n",
       "      <td>0.124839</td>\n",
       "    </tr>\n",
       "    <tr>\n",
       "      <td>width</td>\n",
       "      <td>0.953989</td>\n",
       "      <td>-0.029141</td>\n",
       "      <td>0.184530</td>\n",
       "      <td>0.867872</td>\n",
       "      <td>0.974933</td>\n",
       "      <td>1.000000</td>\n",
       "      <td>0.121670</td>\n",
       "    </tr>\n",
       "    <tr>\n",
       "      <td>depth</td>\n",
       "      <td>0.127129</td>\n",
       "      <td>0.003195</td>\n",
       "      <td>0.021334</td>\n",
       "      <td>0.111714</td>\n",
       "      <td>0.124839</td>\n",
       "      <td>0.121670</td>\n",
       "      <td>1.000000</td>\n",
       "    </tr>\n",
       "  </tbody>\n",
       "</table>\n",
       "</div>"
      ],
      "text/plain": [
       "             carat  depthper     table     price    length     width     depth\n",
       "carat     1.000000  0.028221  0.181658  0.921610  0.977765  0.953989  0.127129\n",
       "depthper  0.028221  1.000000 -0.295700 -0.010670 -0.025097 -0.029141  0.003195\n",
       "table     0.181658 -0.295700  1.000000  0.127165  0.196130  0.184530  0.021334\n",
       "price     0.921610 -0.010670  0.127165  1.000000  0.887227  0.867872  0.111714\n",
       "length    0.977765 -0.025097  0.196130  0.887227  1.000000  0.974933  0.124839\n",
       "width     0.953989 -0.029141  0.184530  0.867872  0.974933  1.000000  0.121670\n",
       "depth     0.127129  0.003195  0.021334  0.111714  0.124839  0.121670  1.000000"
      ]
     },
     "execution_count": 107,
     "metadata": {},
     "output_type": "execute_result"
    }
   ],
   "source": [
    "diamonds.corr()"
   ]
  },
  {
   "cell_type": "code",
   "execution_count": 108,
   "metadata": {
    "colab": {
     "base_uri": "https://localhost:8080/",
     "height": 596
    },
    "executionInfo": {
     "elapsed": 1006,
     "status": "ok",
     "timestamp": 1612838496115,
     "user": {
      "displayName": "Frank Coleman",
      "photoUrl": "https://lh3.googleusercontent.com/a-/AOh14GhnRyj_a8bPbOyiw-1SbTtN2Ut1OvBjM5gXozPTzA=s64",
      "userId": "16429428919363884200"
     },
     "user_tz": 300
    },
    "id": "-gi7e3eioZoa",
    "outputId": "e04d5282-47bc-4b07-9e34-6a2790628095"
   },
   "outputs": [
    {
     "data": {
      "image/png": "[encoded data removed]",
      "text/plain": [
       "<Figure size 720x720 with 2 Axes>"
      ]
     },
     "metadata": {
      "needs_background": "light"
     },
     "output_type": "display_data"
    }
   ],
   "source": [
    "from matplotlib.colors import LinearSegmentedColormap\n",
    "\n",
    "plt.figure(figsize=(10,10))\n",
    "cmap = LinearSegmentedColormap.from_list('RedGreenRed', ['orange', 'white','green'])\n",
    "ax = sns.heatmap(diamonds.corr(), cmap=cmap, vmin=-1, vmax=1, annot=True)#, fmt=\"0.2f\", linewidths=.5)\n",
    "\n",
    "\n",
    "\n",
    "#sns.heatmap(diamonds.corr(), annot=True, palette='famu')"
   ]
  },
  {
   "cell_type": "code",
   "execution_count": 109,
   "metadata": {
    "colab": {
     "base_uri": "https://localhost:8080/"
    },
    "executionInfo": {
     "elapsed": 649,
     "status": "ok",
     "timestamp": 1612839681284,
     "user": {
      "displayName": "Frank Coleman",
      "photoUrl": "https://lh3.googleusercontent.com/a-/AOh14GhnRyj_a8bPbOyiw-1SbTtN2Ut1OvBjM5gXozPTzA=s64",
      "userId": "16429428919363884200"
     },
     "user_tz": 300
    },
    "id": "G7Z4FFBpoZoc",
    "outputId": "e69bbada-5cfb-420e-daab-ad0a81e5b463"
   },
   "outputs": [],
   "source": [
    "from statsmodels.graphics.gofplots import qqplot"
   ]
  },
  {
   "cell_type": "code",
   "execution_count": 110,
   "metadata": {
    "id": "fzuA58dvoZod"
   },
   "outputs": [],
   "source": [
    "#qqplot(diamonds, line='s')"
   ]
  },
  {
   "cell_type": "code",
   "execution_count": 111,
   "metadata": {
    "id": "NTU47jXvoZod"
   },
   "outputs": [],
   "source": [
    "from matplotlib.colors import LinearSegmentedColormap\n"
   ]
  },
  {
   "cell_type": "code",
   "execution_count": null,
   "metadata": {
    "id": "m-620UgCoZoe"
   },
   "outputs": [],
   "source": []
  },
  {
   "cell_type": "code",
   "execution_count": null,
   "metadata": {
    "id": "9qxKza9aoZoe"
   },
   "outputs": [],
   "source": []
  },
  {
   "cell_type": "code",
   "execution_count": null,
   "metadata": {
    "id": "BPONNOUyoZof"
   },
   "outputs": [],
   "source": []
  },
  {
   "cell_type": "code",
   "execution_count": null,
   "metadata": {
    "id": "4EPnyyi-oZog"
   },
   "outputs": [],
   "source": []
  },
  {
   "cell_type": "code",
   "execution_count": null,
   "metadata": {
    "id": "xAZgV8CZoZog"
   },
   "outputs": [],
   "source": []
  },
  {
   "cell_type": "code",
   "execution_count": null,
   "metadata": {
    "id": "fz9NU-dgoZog"
   },
   "outputs": [],
   "source": []
  },
  {
   "cell_type": "code",
   "execution_count": null,
   "metadata": {
    "id": "CuldmMlNoZoh"
   },
   "outputs": [],
   "source": []
  },
  {
   "cell_type": "code",
   "execution_count": null,
   "metadata": {
    "id": "mIkGtY-BoZoh"
   },
   "outputs": [],
   "source": []
  },
  {
   "cell_type": "code",
   "execution_count": null,
   "metadata": {
    "id": "3GjOQtdjoZoi"
   },
   "outputs": [],
   "source": []
  },
  {
   "cell_type": "code",
   "execution_count": null,
   "metadata": {
    "id": "naKJyuIuoZoi"
   },
   "outputs": [],
   "source": []
  },
  {
   "cell_type": "code",
   "execution_count": null,
   "metadata": {
    "id": "ZbUUJSqgoZoi"
   },
   "outputs": [],
   "source": []
  },
  {
   "cell_type": "code",
   "execution_count": null,
   "metadata": {
    "id": "EyuQ5z-toZoi"
   },
   "outputs": [],
   "source": []
  },
  {
   "cell_type": "code",
   "execution_count": null,
   "metadata": {
    "id": "WAKvsqEAoZoj"
   },
   "outputs": [],
   "source": []
  },
  {
   "cell_type": "code",
   "execution_count": null,
   "metadata": {
    "id": "Nezp-hPMoZoj"
   },
   "outputs": [],
   "source": []
  },
  {
   "cell_type": "code",
   "execution_count": null,
   "metadata": {
    "id": "Zm1KBLJroZoj"
   },
   "outputs": [],
   "source": []
  },
  {
   "cell_type": "code",
   "execution_count": null,
   "metadata": {
    "id": "YU5Z4TguoZok"
   },
   "outputs": [],
   "source": []
  },
  {
   "cell_type": "code",
   "execution_count": null,
   "metadata": {
    "id": "2IvQUimXoZok"
   },
   "outputs": [],
   "source": []
  },
  {
   "cell_type": "markdown",
   "metadata": {
    "id": "v1fFQvx-oZol"
   },
   "source": [
    "### tryna set a baseline"
   ]
  },
  {
   "cell_type": "code",
   "execution_count": 112,
   "metadata": {
    "id": "1lVr8eQyoZol",
    "outputId": "14f97e03-10a3-46c5-b466-83e9fb1c1d93"
   },
   "outputs": [
    {
     "name": "stdout",
     "output_type": "stream",
     "text": [
      "[15.0, 15.0, 15.0, 15.0]\n"
     ]
    }
   ],
   "source": [
    "from random import seed\n",
    "from random import randrange\n",
    "\n",
    "# zero rule algorithm for regression\n",
    "def zero_rule_algorithm_regression(train, test):\n",
    "\toutput_values = [row[-1] for row in train]\n",
    "\tprediction = sum(output_values) / float(len(output_values))\n",
    "\tpredicted = [prediction for i in range(len(test))]\n",
    "\treturn predicted\n",
    "\n",
    "seed(1)\n",
    "train = [[10], [15], [12], [15], [18], [20]]\n",
    "test = [[None], [None], [None], [None]]\n",
    "predictions = zero_rule_algorithm_regression(train, test)\n",
    "print(predictions)"
   ]
  },
  {
   "cell_type": "code",
   "execution_count": null,
   "metadata": {
    "id": "fYvIYM5_oZol"
   },
   "outputs": [],
   "source": []
  },
  {
   "cell_type": "code",
   "execution_count": null,
   "metadata": {
    "id": "mL5hpH6eoZom"
   },
   "outputs": [],
   "source": []
  },
  {
   "cell_type": "code",
   "execution_count": null,
   "metadata": {
    "id": "cchwPQGJoZom"
   },
   "outputs": [],
   "source": []
  },
  {
   "cell_type": "markdown",
   "metadata": {
    "id": "8i277ULsoZon"
   },
   "source": [
    "## Random forest"
   ]
  },
  {
   "cell_type": "code",
   "execution_count": 113,
   "metadata": {
    "id": "h-oPKwbFoZon"
   },
   "outputs": [],
   "source": [
    "#diamonds = pd.get_dummies(diamonds)\n",
    "#diamonds.head()"
   ]
  },
  {
   "cell_type": "code",
   "execution_count": 114,
   "metadata": {
    "id": "VlPc6UXVoZoo"
   },
   "outputs": [],
   "source": [
    "#   https://towardsdatascience.com/random-forest-in-python-24d0893d51c0\n",
    "#labels are the vaules we want to predict\n",
    "# Labels are the values we want to predict\n",
    "#labels = np.array(diamonds['price'])\n",
    "# Remove the labels from the features\n",
    "# axis 1 refers to the columns\n",
    "#diamonds = diamonds.drop('price', axis = 1)\n",
    "# Saving feature names for later use\n",
    "#feature_list = list(diamonds.columns)\n",
    "# Convert to numpy array\n",
    "#diamonds = np.array(diamonds)"
   ]
  },
  {
   "cell_type": "code",
   "execution_count": 115,
   "metadata": {
    "id": "GbqJQKAWoZoo"
   },
   "outputs": [],
   "source": [
    "# Using Skicit-learn to split data into training and testing sets\n",
    "#from sklearn.model_selection import train_test_split\n",
    "# Split the data into training and testing sets\n",
    "#train_features, test_features, train_labels, test_labels = train_test_split(diamonds, labels, test_size = 0.25, random_state = 614)"
   ]
  },
  {
   "cell_type": "code",
   "execution_count": 116,
   "metadata": {
    "id": "l-njivZOoZop"
   },
   "outputs": [],
   "source": [
    "#print('Training Features Shape:', train_features.shape)\n",
    "#print('Training Labels Shape:', train_labels.shape)\n",
    "#print('Testing Features Shape:', test_features.shape)\n",
    "#print('Testing Labels Shape:', test_labels.shape)"
   ]
  },
  {
   "cell_type": "code",
   "execution_count": 117,
   "metadata": {
    "id": "qHdzRy9uoZop"
   },
   "outputs": [],
   "source": [
    "# The baseline predictions are the historical averages\n",
    "#baseline_preds = test_features[:, feature_list.index('average')]\n",
    "# Baseline errors, and display average baseline error\n",
    "#baseline_errors = abs(baseline_preds - test_labels)\n",
    "#print('Average baseline error: ', round(np.mean(baseline_errors), 2))"
   ]
  },
  {
   "cell_type": "code",
   "execution_count": 118,
   "metadata": {
    "id": "TEzRauNYoZop"
   },
   "outputs": [],
   "source": [
    "# Import the model we are using\n",
    "#from sklearn.ensemble import RandomForestRegressor\n",
    "# Instantiate model with 1000 decision trees\n",
    "#rf = RandomForestRegressor(n_estimators = 1000, random_state = 614)\n",
    "# Train the model on training data\n",
    "#rf.fit(train_features, train_labels);"
   ]
  },
  {
   "cell_type": "code",
   "execution_count": 119,
   "metadata": {
    "id": "Rx1r5bJsoZoq"
   },
   "outputs": [],
   "source": [
    "# Use the forest's predict method on the test data\n",
    "#predictions = rf.predict(test_features)\n",
    "# Calculate the absolute errors\n",
    "#errors = abs(predictions - test_labels)\n",
    "# Print out the mean absolute error (mae)\n",
    "#print('Mean Absolute Error:', round(np.mean(errors), 2), 'dollars.')"
   ]
  },
  {
   "cell_type": "code",
   "execution_count": 120,
   "metadata": {
    "id": "ptEa9qploZoq"
   },
   "outputs": [],
   "source": [
    "# Calculate mean absolute percentage error (MAPE)\n",
    "#mape = 100 * (errors / test_labels)\n",
    "# Calculate and display accuracy\n",
    "#accuracy = 100 - np.mean(mape)\n",
    "#print('Accuracy:', round(accuracy, 2), '%.')"
   ]
  },
  {
   "cell_type": "code",
   "execution_count": 121,
   "metadata": {
    "id": "xPv9A_GmoZoq"
   },
   "outputs": [],
   "source": [
    "#this is with the dummies\n",
    "#accuracy with 100 trees is 93.34% and the mean absolute error is $273.94\n",
    "#500 trees 93.38% mae $272.48\n",
    "#1000 trees 93.38 mae $272.29"
   ]
  },
  {
   "cell_type": "code",
   "execution_count": 122,
   "metadata": {
    "id": "kan_tjPSoZor"
   },
   "outputs": [],
   "source": [
    "# Import tools needed for visualization\n",
    "#from sklearn.tree import export_graphviz\n",
    "#import pydot\n",
    "# Pull out one tree from the forest\n",
    "#tree = rf.estimators_[5]\n",
    "# Import tools needed for visualization\n",
    "#from sklearn.tree import export_graphviz\n",
    "#import pydot\n",
    "# Pull out one tree from the forest\n",
    "#tree = rf.estimators_[5]\n",
    "# Export the image to a dot file\n",
    "#export_graphviz(tree, out_file = 'tree.dot', feature_names = diamonds_list, rounded = True, precision = 1)\n",
    "# Use dot file to create a graph\n",
    "#(graph, ) = pydot.graph_from_dot_file('tree.dot')\n",
    "# Write graph to a png file\n",
    "#graph.write_png('tree.png')"
   ]
  },
  {
   "cell_type": "code",
   "execution_count": 123,
   "metadata": {
    "id": "O57p5uswoZor"
   },
   "outputs": [],
   "source": [
    "# Import tools needed for visualization\n",
    "#from sklearn.tree import export_graphviz"
   ]
  },
  {
   "cell_type": "code",
   "execution_count": 124,
   "metadata": {
    "id": "Fsk3pPVtoZos"
   },
   "outputs": [],
   "source": [
    "#pip install pydot"
   ]
  },
  {
   "cell_type": "code",
   "execution_count": 125,
   "metadata": {
    "id": "EKUmUFn8oZos"
   },
   "outputs": [],
   "source": [
    "# Limit depth of tree to 3 levels\n",
    "#rf_small = RandomForestRegressor(n_estimators=10, max_depth = 3)\n",
    "#rf_small.fit(train_diamonds, train_labels)\n",
    "# Extract the small tree\n",
    "#tree_small = rf_small.estimators_[5]\n",
    "# Save the tree as a png image\n",
    "#export_graphviz(tree_small, out_file = 'small_tree.dot', feature_names = diamonds_list, rounded = True, precision = 1)\n",
    "#(graph, ) = pydot.graph_from_dot_file('small_tree.dot')\n",
    "#graph.write_png('small_tree.png');"
   ]
  },
  {
   "cell_type": "code",
   "execution_count": 126,
   "metadata": {
    "id": "Kn7v6XNuoZot"
   },
   "outputs": [],
   "source": [
    "# Get numerical feature importances\n",
    "#importances = list(rf.feature_importances_)\n",
    "# List of tuples with variable and importance\n",
    "#feature_importances = [(feature, round(importance, 2)) for feature, importance in zip(feature_list, importances)]\n",
    "# Sort the feature importances by most important first\n",
    "#feature_importances = sorted(feature_importances, key = lambda x: x[1], reverse = True)\n",
    "# Print out the feature and importances \n",
    "#[print('Variable: {:20} Importance: {}'.format(*pair)) for pair in feature_importances];"
   ]
  },
  {
   "cell_type": "code",
   "execution_count": 127,
   "metadata": {
    "id": "WrX0aaEooZot"
   },
   "outputs": [],
   "source": [
    "# New random forest with only the two most important variables\n",
    "#rf_most_important = RandomForestRegressor(n_estimators= 500, random_state=614)\n",
    "# Extract the two most important features\n",
    "#important_indices = [feature_list.index('carat'), feature_list.index('width')]\n",
    "#train_important = train_features[:, important_indices]\n",
    "#test_important = test_features[:, important_indices]\n",
    "# Train the random forest\n",
    "#rf_most_important.fit(train_important, train_labels)\n",
    "# Make predictions and determine the error\n",
    "#predictions = rf_most_important.predict(test_important)\n",
    "#errors = abs(predictions - test_labels)\n",
    "# Display the performance metrics\n",
    "#print('Mean Absolute Error:', round(np.mean(errors), 2), 'dollars.')\n",
    "#mape = np.mean(100 * (errors / test_labels))\n",
    "#accuracy = 100 - mape\n",
    "#print('Accuracy:', round(accuracy, 2), '%.')"
   ]
  },
  {
   "cell_type": "code",
   "execution_count": 128,
   "metadata": {
    "id": "_FS4S-l2oZot",
    "outputId": "bfefc73e-0dce-4bbb-da0c-6c656aa181b7"
   },
   "outputs": [
    {
     "ename": "NameError",
     "evalue": "name 'importances' is not defined",
     "output_type": "error",
     "traceback": [
      "\u001b[0;31m---------------------------------------------------------------------------\u001b[0m",
      "\u001b[0;31mNameError\u001b[0m                                 Traceback (most recent call last)",
      "\u001b[0;32m<ipython-input-128-e0b9ad8c6fa9>\u001b[0m in \u001b[0;36m<module>\u001b[0;34m\u001b[0m\n\u001b[1;32m      5\u001b[0m \u001b[0mplt\u001b[0m\u001b[0;34m.\u001b[0m\u001b[0mstyle\u001b[0m\u001b[0;34m.\u001b[0m\u001b[0muse\u001b[0m\u001b[0;34m(\u001b[0m\u001b[0;34m'fivethirtyeight'\u001b[0m\u001b[0;34m)\u001b[0m\u001b[0;34m\u001b[0m\u001b[0;34m\u001b[0m\u001b[0m\n\u001b[1;32m      6\u001b[0m \u001b[0;31m# list of x locations for plotting\u001b[0m\u001b[0;34m\u001b[0m\u001b[0;34m\u001b[0m\u001b[0;34m\u001b[0m\u001b[0m\n\u001b[0;32m----> 7\u001b[0;31m \u001b[0mx_values\u001b[0m \u001b[0;34m=\u001b[0m \u001b[0mlist\u001b[0m\u001b[0;34m(\u001b[0m\u001b[0mrange\u001b[0m\u001b[0;34m(\u001b[0m\u001b[0mlen\u001b[0m\u001b[0;34m(\u001b[0m\u001b[0mimportances\u001b[0m\u001b[0;34m)\u001b[0m\u001b[0;34m)\u001b[0m\u001b[0;34m)\u001b[0m\u001b[0;34m\u001b[0m\u001b[0;34m\u001b[0m\u001b[0m\n\u001b[0m\u001b[1;32m      8\u001b[0m \u001b[0;31m# Make a bar chart\u001b[0m\u001b[0;34m\u001b[0m\u001b[0;34m\u001b[0m\u001b[0;34m\u001b[0m\u001b[0m\n\u001b[1;32m      9\u001b[0m \u001b[0mplt\u001b[0m\u001b[0;34m.\u001b[0m\u001b[0mbar\u001b[0m\u001b[0;34m(\u001b[0m\u001b[0mx_values\u001b[0m\u001b[0;34m,\u001b[0m \u001b[0mimportances\u001b[0m\u001b[0;34m,\u001b[0m \u001b[0morientation\u001b[0m \u001b[0;34m=\u001b[0m \u001b[0;34m'vertical'\u001b[0m\u001b[0;34m)\u001b[0m\u001b[0;34m\u001b[0m\u001b[0;34m\u001b[0m\u001b[0m\n",
      "\u001b[0;31mNameError\u001b[0m: name 'importances' is not defined"
     ]
    }
   ],
   "source": [
    "# Import matplotlib for plotting and use magic command for Jupyter Notebooks\n",
    "import matplotlib.pyplot as plt\n",
    "%matplotlib inline\n",
    "# Set the style\n",
    "plt.style.use('fivethirtyeight')\n",
    "# list of x locations for plotting\n",
    "x_values = list(range(len(importances)))\n",
    "# Make a bar chart\n",
    "plt.bar(x_values, importances, orientation = 'vertical')\n",
    "# Tick labels for x axis\n",
    "plt.xticks(x_values, feature_list, rotation='vertical')\n",
    "# Axis labels and title\n",
    "plt.ylabel('Importance'); plt.xlabel('Variable'); plt.title('Variable Importances');"
   ]
  },
  {
   "cell_type": "code",
   "execution_count": null,
   "metadata": {
    "id": "xbQWAAPooZou"
   },
   "outputs": [],
   "source": [
    "#i need to normalize the features.\n",
    "#also need to do the eda on each feature. show the ranges and boxplots or histograms and whatnot"
   ]
  },
  {
   "cell_type": "code",
   "execution_count": null,
   "metadata": {
    "id": "oYGuJ12HoZou",
    "outputId": "28519623-921e-4302-fe66-8a7804b066f1"
   },
   "outputs": [],
   "source": [
    "p = diamonds.hist(figsize = (20,20), bins=50)"
   ]
  },
  {
   "cell_type": "code",
   "execution_count": null,
   "metadata": {
    "id": "8bq_VYYdoZov",
    "outputId": "c7b5cb0c-f267-4113-f802-642c3de69194"
   },
   "outputs": [],
   "source": [
    "p = sns.catplot(x='cut', y='price', data=diamonds, kind='box' ,aspect=2.5, order=cut_order )"
   ]
  },
  {
   "cell_type": "code",
   "execution_count": null,
   "metadata": {
    "id": "5Y4M1tl4oZow",
    "outputId": "c94033ae-74ee-4c62-8b22-ac1c45900378"
   },
   "outputs": [],
   "source": [
    "p = sns.catplot(x='color', y='price', data=diamonds, kind='box' ,aspect=2.5, order=color_order )"
   ]
  },
  {
   "cell_type": "code",
   "execution_count": null,
   "metadata": {
    "id": "oto74FlroZow",
    "outputId": "e819accb-cc26-468b-c18b-7e9e895f4a81"
   },
   "outputs": [],
   "source": [
    "p = sns.catplot(x='clarity', y='price', data=diamonds, kind='box' ,aspect=2.5, order=clarity_order )"
   ]
  },
  {
   "cell_type": "code",
   "execution_count": null,
   "metadata": {},
   "outputs": [],
   "source": []
  },
  {
   "cell_type": "markdown",
   "metadata": {
    "id": "P99PaUGYoZox"
   },
   "source": [
    "## one hot encoding"
   ]
  },
  {
   "cell_type": "code",
   "execution_count": 129,
   "metadata": {
    "id": "HM0OEWr7oZox",
    "outputId": "958a435b-9e5d-4699-ff2f-e6a5aa2ec332"
   },
   "outputs": [
    {
     "data": {
      "text/html": [
       "<div>\n",
       "<style scoped>\n",
       "    .dataframe tbody tr th:only-of-type {\n",
       "        vertical-align: middle;\n",
       "    }\n",
       "\n",
       "    .dataframe tbody tr th {\n",
       "        vertical-align: top;\n",
       "    }\n",
       "\n",
       "    .dataframe thead th {\n",
       "        text-align: right;\n",
       "    }\n",
       "</style>\n",
       "<table border=\"1\" class=\"dataframe\">\n",
       "  <thead>\n",
       "    <tr style=\"text-align: right;\">\n",
       "      <th></th>\n",
       "      <th>carat</th>\n",
       "      <th>depthper</th>\n",
       "      <th>table</th>\n",
       "      <th>price</th>\n",
       "      <th>length</th>\n",
       "      <th>width</th>\n",
       "      <th>depth</th>\n",
       "      <th>cut_Fair</th>\n",
       "      <th>cut_Good</th>\n",
       "      <th>cut_Ideal</th>\n",
       "      <th>...</th>\n",
       "      <th>color_I</th>\n",
       "      <th>color_J</th>\n",
       "      <th>clarity_I1</th>\n",
       "      <th>clarity_IF</th>\n",
       "      <th>clarity_SI1</th>\n",
       "      <th>clarity_SI2</th>\n",
       "      <th>clarity_VS1</th>\n",
       "      <th>clarity_VS2</th>\n",
       "      <th>clarity_VVS1</th>\n",
       "      <th>clarity_VVS2</th>\n",
       "    </tr>\n",
       "  </thead>\n",
       "  <tbody>\n",
       "    <tr>\n",
       "      <td>0</td>\n",
       "      <td>0.23</td>\n",
       "      <td>61.5</td>\n",
       "      <td>55.0</td>\n",
       "      <td>326</td>\n",
       "      <td>3.95</td>\n",
       "      <td>3.98</td>\n",
       "      <td>2.43</td>\n",
       "      <td>0</td>\n",
       "      <td>0</td>\n",
       "      <td>1</td>\n",
       "      <td>...</td>\n",
       "      <td>0</td>\n",
       "      <td>0</td>\n",
       "      <td>0</td>\n",
       "      <td>0</td>\n",
       "      <td>0</td>\n",
       "      <td>1</td>\n",
       "      <td>0</td>\n",
       "      <td>0</td>\n",
       "      <td>0</td>\n",
       "      <td>0</td>\n",
       "    </tr>\n",
       "    <tr>\n",
       "      <td>1</td>\n",
       "      <td>0.21</td>\n",
       "      <td>59.8</td>\n",
       "      <td>61.0</td>\n",
       "      <td>326</td>\n",
       "      <td>3.89</td>\n",
       "      <td>3.84</td>\n",
       "      <td>2.31</td>\n",
       "      <td>0</td>\n",
       "      <td>0</td>\n",
       "      <td>0</td>\n",
       "      <td>...</td>\n",
       "      <td>0</td>\n",
       "      <td>0</td>\n",
       "      <td>0</td>\n",
       "      <td>0</td>\n",
       "      <td>1</td>\n",
       "      <td>0</td>\n",
       "      <td>0</td>\n",
       "      <td>0</td>\n",
       "      <td>0</td>\n",
       "      <td>0</td>\n",
       "    </tr>\n",
       "    <tr>\n",
       "      <td>2</td>\n",
       "      <td>0.23</td>\n",
       "      <td>56.9</td>\n",
       "      <td>65.0</td>\n",
       "      <td>327</td>\n",
       "      <td>4.05</td>\n",
       "      <td>4.07</td>\n",
       "      <td>2.31</td>\n",
       "      <td>0</td>\n",
       "      <td>1</td>\n",
       "      <td>0</td>\n",
       "      <td>...</td>\n",
       "      <td>0</td>\n",
       "      <td>0</td>\n",
       "      <td>0</td>\n",
       "      <td>0</td>\n",
       "      <td>0</td>\n",
       "      <td>0</td>\n",
       "      <td>1</td>\n",
       "      <td>0</td>\n",
       "      <td>0</td>\n",
       "      <td>0</td>\n",
       "    </tr>\n",
       "    <tr>\n",
       "      <td>3</td>\n",
       "      <td>0.29</td>\n",
       "      <td>62.4</td>\n",
       "      <td>58.0</td>\n",
       "      <td>334</td>\n",
       "      <td>4.20</td>\n",
       "      <td>4.23</td>\n",
       "      <td>2.63</td>\n",
       "      <td>0</td>\n",
       "      <td>0</td>\n",
       "      <td>0</td>\n",
       "      <td>...</td>\n",
       "      <td>1</td>\n",
       "      <td>0</td>\n",
       "      <td>0</td>\n",
       "      <td>0</td>\n",
       "      <td>0</td>\n",
       "      <td>0</td>\n",
       "      <td>0</td>\n",
       "      <td>1</td>\n",
       "      <td>0</td>\n",
       "      <td>0</td>\n",
       "    </tr>\n",
       "    <tr>\n",
       "      <td>4</td>\n",
       "      <td>0.31</td>\n",
       "      <td>63.3</td>\n",
       "      <td>58.0</td>\n",
       "      <td>335</td>\n",
       "      <td>4.34</td>\n",
       "      <td>4.35</td>\n",
       "      <td>2.75</td>\n",
       "      <td>0</td>\n",
       "      <td>1</td>\n",
       "      <td>0</td>\n",
       "      <td>...</td>\n",
       "      <td>0</td>\n",
       "      <td>1</td>\n",
       "      <td>0</td>\n",
       "      <td>0</td>\n",
       "      <td>0</td>\n",
       "      <td>1</td>\n",
       "      <td>0</td>\n",
       "      <td>0</td>\n",
       "      <td>0</td>\n",
       "      <td>0</td>\n",
       "    </tr>\n",
       "  </tbody>\n",
       "</table>\n",
       "<p>5 rows × 27 columns</p>\n",
       "</div>"
      ],
      "text/plain": [
       "   carat  depthper  table  price  length  width  depth  cut_Fair  cut_Good  \\\n",
       "0   0.23      61.5   55.0    326    3.95   3.98   2.43         0         0   \n",
       "1   0.21      59.8   61.0    326    3.89   3.84   2.31         0         0   \n",
       "2   0.23      56.9   65.0    327    4.05   4.07   2.31         0         1   \n",
       "3   0.29      62.4   58.0    334    4.20   4.23   2.63         0         0   \n",
       "4   0.31      63.3   58.0    335    4.34   4.35   2.75         0         1   \n",
       "\n",
       "   cut_Ideal  ...  color_I  color_J  clarity_I1  clarity_IF  clarity_SI1  \\\n",
       "0          1  ...        0        0           0           0            0   \n",
       "1          0  ...        0        0           0           0            1   \n",
       "2          0  ...        0        0           0           0            0   \n",
       "3          0  ...        1        0           0           0            0   \n",
       "4          0  ...        0        1           0           0            0   \n",
       "\n",
       "   clarity_SI2  clarity_VS1  clarity_VS2  clarity_VVS1  clarity_VVS2  \n",
       "0            1            0            0             0             0  \n",
       "1            0            0            0             0             0  \n",
       "2            0            1            0             0             0  \n",
       "3            0            0            1             0             0  \n",
       "4            1            0            0             0             0  \n",
       "\n",
       "[5 rows x 27 columns]"
      ]
     },
     "execution_count": 129,
     "metadata": {},
     "output_type": "execute_result"
    }
   ],
   "source": [
    "#one hot encoding\n",
    "ohe_dia =  pd.get_dummies(diamonds)\n",
    "ohe_dia.head()"
   ]
  },
  {
   "cell_type": "code",
   "execution_count": 130,
   "metadata": {
    "id": "A1FNnresoZoy",
    "outputId": "49765d0d-80f7-4b37-db5c-9e3f273a0c39"
   },
   "outputs": [
    {
     "data": {
      "text/html": [
       "<div>\n",
       "<style scoped>\n",
       "    .dataframe tbody tr th:only-of-type {\n",
       "        vertical-align: middle;\n",
       "    }\n",
       "\n",
       "    .dataframe tbody tr th {\n",
       "        vertical-align: top;\n",
       "    }\n",
       "\n",
       "    .dataframe thead th {\n",
       "        text-align: right;\n",
       "    }\n",
       "</style>\n",
       "<table border=\"1\" class=\"dataframe\">\n",
       "  <thead>\n",
       "    <tr style=\"text-align: right;\">\n",
       "      <th></th>\n",
       "      <th>carat</th>\n",
       "      <th>depthper</th>\n",
       "      <th>table</th>\n",
       "      <th>price</th>\n",
       "      <th>length</th>\n",
       "      <th>width</th>\n",
       "      <th>depth</th>\n",
       "      <th>cut_Fair</th>\n",
       "      <th>cut_Good</th>\n",
       "      <th>cut_Ideal</th>\n",
       "      <th>...</th>\n",
       "      <th>color_I</th>\n",
       "      <th>color_J</th>\n",
       "      <th>clarity_I1</th>\n",
       "      <th>clarity_IF</th>\n",
       "      <th>clarity_SI1</th>\n",
       "      <th>clarity_SI2</th>\n",
       "      <th>clarity_VS1</th>\n",
       "      <th>clarity_VS2</th>\n",
       "      <th>clarity_VVS1</th>\n",
       "      <th>clarity_VVS2</th>\n",
       "    </tr>\n",
       "  </thead>\n",
       "  <tbody>\n",
       "    <tr>\n",
       "      <td>0</td>\n",
       "      <td>0.23</td>\n",
       "      <td>61.5</td>\n",
       "      <td>55.0</td>\n",
       "      <td>326</td>\n",
       "      <td>3.95</td>\n",
       "      <td>3.98</td>\n",
       "      <td>2.43</td>\n",
       "      <td>0</td>\n",
       "      <td>0</td>\n",
       "      <td>1</td>\n",
       "      <td>...</td>\n",
       "      <td>0</td>\n",
       "      <td>0</td>\n",
       "      <td>0</td>\n",
       "      <td>0</td>\n",
       "      <td>0</td>\n",
       "      <td>1</td>\n",
       "      <td>0</td>\n",
       "      <td>0</td>\n",
       "      <td>0</td>\n",
       "      <td>0</td>\n",
       "    </tr>\n",
       "    <tr>\n",
       "      <td>1</td>\n",
       "      <td>0.21</td>\n",
       "      <td>59.8</td>\n",
       "      <td>61.0</td>\n",
       "      <td>326</td>\n",
       "      <td>3.89</td>\n",
       "      <td>3.84</td>\n",
       "      <td>2.31</td>\n",
       "      <td>0</td>\n",
       "      <td>0</td>\n",
       "      <td>0</td>\n",
       "      <td>...</td>\n",
       "      <td>0</td>\n",
       "      <td>0</td>\n",
       "      <td>0</td>\n",
       "      <td>0</td>\n",
       "      <td>1</td>\n",
       "      <td>0</td>\n",
       "      <td>0</td>\n",
       "      <td>0</td>\n",
       "      <td>0</td>\n",
       "      <td>0</td>\n",
       "    </tr>\n",
       "    <tr>\n",
       "      <td>2</td>\n",
       "      <td>0.23</td>\n",
       "      <td>56.9</td>\n",
       "      <td>65.0</td>\n",
       "      <td>327</td>\n",
       "      <td>4.05</td>\n",
       "      <td>4.07</td>\n",
       "      <td>2.31</td>\n",
       "      <td>0</td>\n",
       "      <td>1</td>\n",
       "      <td>0</td>\n",
       "      <td>...</td>\n",
       "      <td>0</td>\n",
       "      <td>0</td>\n",
       "      <td>0</td>\n",
       "      <td>0</td>\n",
       "      <td>0</td>\n",
       "      <td>0</td>\n",
       "      <td>1</td>\n",
       "      <td>0</td>\n",
       "      <td>0</td>\n",
       "      <td>0</td>\n",
       "    </tr>\n",
       "    <tr>\n",
       "      <td>3</td>\n",
       "      <td>0.29</td>\n",
       "      <td>62.4</td>\n",
       "      <td>58.0</td>\n",
       "      <td>334</td>\n",
       "      <td>4.20</td>\n",
       "      <td>4.23</td>\n",
       "      <td>2.63</td>\n",
       "      <td>0</td>\n",
       "      <td>0</td>\n",
       "      <td>0</td>\n",
       "      <td>...</td>\n",
       "      <td>1</td>\n",
       "      <td>0</td>\n",
       "      <td>0</td>\n",
       "      <td>0</td>\n",
       "      <td>0</td>\n",
       "      <td>0</td>\n",
       "      <td>0</td>\n",
       "      <td>1</td>\n",
       "      <td>0</td>\n",
       "      <td>0</td>\n",
       "    </tr>\n",
       "    <tr>\n",
       "      <td>4</td>\n",
       "      <td>0.31</td>\n",
       "      <td>63.3</td>\n",
       "      <td>58.0</td>\n",
       "      <td>335</td>\n",
       "      <td>4.34</td>\n",
       "      <td>4.35</td>\n",
       "      <td>2.75</td>\n",
       "      <td>0</td>\n",
       "      <td>1</td>\n",
       "      <td>0</td>\n",
       "      <td>...</td>\n",
       "      <td>0</td>\n",
       "      <td>1</td>\n",
       "      <td>0</td>\n",
       "      <td>0</td>\n",
       "      <td>0</td>\n",
       "      <td>1</td>\n",
       "      <td>0</td>\n",
       "      <td>0</td>\n",
       "      <td>0</td>\n",
       "      <td>0</td>\n",
       "    </tr>\n",
       "  </tbody>\n",
       "</table>\n",
       "<p>5 rows × 27 columns</p>\n",
       "</div>"
      ],
      "text/plain": [
       "   carat  depthper  table  price  length  width  depth  cut_Fair  cut_Good  \\\n",
       "0   0.23      61.5   55.0    326    3.95   3.98   2.43         0         0   \n",
       "1   0.21      59.8   61.0    326    3.89   3.84   2.31         0         0   \n",
       "2   0.23      56.9   65.0    327    4.05   4.07   2.31         0         1   \n",
       "3   0.29      62.4   58.0    334    4.20   4.23   2.63         0         0   \n",
       "4   0.31      63.3   58.0    335    4.34   4.35   2.75         0         1   \n",
       "\n",
       "   cut_Ideal  ...  color_I  color_J  clarity_I1  clarity_IF  clarity_SI1  \\\n",
       "0          1  ...        0        0           0           0            0   \n",
       "1          0  ...        0        0           0           0            1   \n",
       "2          0  ...        0        0           0           0            0   \n",
       "3          0  ...        1        0           0           0            0   \n",
       "4          0  ...        0        1           0           0            0   \n",
       "\n",
       "   clarity_SI2  clarity_VS1  clarity_VS2  clarity_VVS1  clarity_VVS2  \n",
       "0            1            0            0             0             0  \n",
       "1            0            0            0             0             0  \n",
       "2            0            1            0             0             0  \n",
       "3            0            0            1             0             0  \n",
       "4            1            0            0             0             0  \n",
       "\n",
       "[5 rows x 27 columns]"
      ]
     },
     "execution_count": 130,
     "metadata": {},
     "output_type": "execute_result"
    }
   ],
   "source": [
    "cols = ohe_dia.columns\n",
    "diamond_clean_data = pd.DataFrame(ohe_dia,columns= cols)\n",
    "diamond_clean_data.head()"
   ]
  },
  {
   "cell_type": "markdown",
   "metadata": {},
   "source": [
    "# power transform"
   ]
  },
  {
   "cell_type": "code",
   "execution_count": 167,
   "metadata": {},
   "outputs": [],
   "source": [
    "#from sklearn.preprocessing import PowerTransformer\n",
    "#power = PowerTransformer(method='yeo-johnson', standardize=True)\n",
    "#diapt = power.fit_transform(diamonds)"
   ]
  },
  {
   "cell_type": "code",
   "execution_count": null,
   "metadata": {},
   "outputs": [],
   "source": []
  },
  {
   "cell_type": "code",
   "execution_count": null,
   "metadata": {},
   "outputs": [],
   "source": []
  },
  {
   "cell_type": "markdown",
   "metadata": {
    "id": "Omqmjg1QoZoz"
   },
   "source": [
    "# scaling"
   ]
  },
  {
   "cell_type": "code",
   "execution_count": 131,
   "metadata": {
    "id": "K1QTIYONoZo0"
   },
   "outputs": [],
   "source": [
    "from sklearn.preprocessing import StandardScaler\n",
    "sc_X = StandardScaler()\n",
    "numericals =  pd.DataFrame(sc_X.fit_transform(\n",
    "              diamond_clean_data[['carat','depthper','length','width','depth','table']]),\n",
    "              columns=['carat','depthper','length','width','depth','table'],index=diamond_clean_data.index)"
   ]
  },
  {
   "cell_type": "code",
   "execution_count": 132,
   "metadata": {
    "id": "6NIOseBboZo0",
    "outputId": "f42933e8-e5ad-4181-d311-71950d5ccbea"
   },
   "outputs": [
    {
     "data": {
      "text/html": [
       "<div>\n",
       "<style scoped>\n",
       "    .dataframe tbody tr th:only-of-type {\n",
       "        vertical-align: middle;\n",
       "    }\n",
       "\n",
       "    .dataframe tbody tr th {\n",
       "        vertical-align: top;\n",
       "    }\n",
       "\n",
       "    .dataframe thead th {\n",
       "        text-align: right;\n",
       "    }\n",
       "</style>\n",
       "<table border=\"1\" class=\"dataframe\">\n",
       "  <thead>\n",
       "    <tr style=\"text-align: right;\">\n",
       "      <th></th>\n",
       "      <th>carat</th>\n",
       "      <th>depthper</th>\n",
       "      <th>length</th>\n",
       "      <th>width</th>\n",
       "      <th>depth</th>\n",
       "      <th>table</th>\n",
       "    </tr>\n",
       "  </thead>\n",
       "  <tbody>\n",
       "    <tr>\n",
       "      <td>0</td>\n",
       "      <td>-1.198105</td>\n",
       "      <td>-0.174057</td>\n",
       "      <td>-1.591562</td>\n",
       "      <td>-1.539248</td>\n",
       "      <td>-0.178039</td>\n",
       "      <td>-1.099813</td>\n",
       "    </tr>\n",
       "    <tr>\n",
       "      <td>1</td>\n",
       "      <td>-1.240300</td>\n",
       "      <td>-1.360792</td>\n",
       "      <td>-1.645149</td>\n",
       "      <td>-1.662019</td>\n",
       "      <td>-0.195696</td>\n",
       "      <td>1.585901</td>\n",
       "    </tr>\n",
       "    <tr>\n",
       "      <td>2</td>\n",
       "      <td>-1.198105</td>\n",
       "      <td>-3.385224</td>\n",
       "      <td>-1.502249</td>\n",
       "      <td>-1.460323</td>\n",
       "      <td>-0.195696</td>\n",
       "      <td>3.376376</td>\n",
       "    </tr>\n",
       "    <tr>\n",
       "      <td>3</td>\n",
       "      <td>-1.071517</td>\n",
       "      <td>0.454215</td>\n",
       "      <td>-1.368280</td>\n",
       "      <td>-1.320013</td>\n",
       "      <td>-0.148609</td>\n",
       "      <td>0.243044</td>\n",
       "    </tr>\n",
       "    <tr>\n",
       "      <td>4</td>\n",
       "      <td>-1.029322</td>\n",
       "      <td>1.082487</td>\n",
       "      <td>-1.243242</td>\n",
       "      <td>-1.214781</td>\n",
       "      <td>-0.130952</td>\n",
       "      <td>0.243044</td>\n",
       "    </tr>\n",
       "  </tbody>\n",
       "</table>\n",
       "</div>"
      ],
      "text/plain": [
       "      carat  depthper    length     width     depth     table\n",
       "0 -1.198105 -0.174057 -1.591562 -1.539248 -0.178039 -1.099813\n",
       "1 -1.240300 -1.360792 -1.645149 -1.662019 -0.195696  1.585901\n",
       "2 -1.198105 -3.385224 -1.502249 -1.460323 -0.195696  3.376376\n",
       "3 -1.071517  0.454215 -1.368280 -1.320013 -0.148609  0.243044\n",
       "4 -1.029322  1.082487 -1.243242 -1.214781 -0.130952  0.243044"
      ]
     },
     "execution_count": 132,
     "metadata": {},
     "output_type": "execute_result"
    }
   ],
   "source": [
    "numericals.head()"
   ]
  },
  {
   "cell_type": "code",
   "execution_count": 133,
   "metadata": {
    "id": "LQSTrNShoZo1"
   },
   "outputs": [],
   "source": [
    "diamond_clean_data_standard = diamond_clean_data.copy(deep=True)\n",
    "diamond_clean_data_standard[['carat','depthper','length',\n",
    "                             'width','depth','table']] = numericals[['carat','depthper','length','width','depth','table']]"
   ]
  },
  {
   "cell_type": "code",
   "execution_count": 134,
   "metadata": {
    "id": "W4I4tL48oZo2",
    "outputId": "788c902b-a010-42c6-9923-0bfeef1a53eb"
   },
   "outputs": [
    {
     "data": {
      "text/html": [
       "<div>\n",
       "<style scoped>\n",
       "    .dataframe tbody tr th:only-of-type {\n",
       "        vertical-align: middle;\n",
       "    }\n",
       "\n",
       "    .dataframe tbody tr th {\n",
       "        vertical-align: top;\n",
       "    }\n",
       "\n",
       "    .dataframe thead th {\n",
       "        text-align: right;\n",
       "    }\n",
       "</style>\n",
       "<table border=\"1\" class=\"dataframe\">\n",
       "  <thead>\n",
       "    <tr style=\"text-align: right;\">\n",
       "      <th></th>\n",
       "      <th>carat</th>\n",
       "      <th>depthper</th>\n",
       "      <th>table</th>\n",
       "      <th>price</th>\n",
       "      <th>length</th>\n",
       "      <th>width</th>\n",
       "      <th>depth</th>\n",
       "      <th>cut_Fair</th>\n",
       "      <th>cut_Good</th>\n",
       "      <th>cut_Ideal</th>\n",
       "      <th>...</th>\n",
       "      <th>color_I</th>\n",
       "      <th>color_J</th>\n",
       "      <th>clarity_I1</th>\n",
       "      <th>clarity_IF</th>\n",
       "      <th>clarity_SI1</th>\n",
       "      <th>clarity_SI2</th>\n",
       "      <th>clarity_VS1</th>\n",
       "      <th>clarity_VS2</th>\n",
       "      <th>clarity_VVS1</th>\n",
       "      <th>clarity_VVS2</th>\n",
       "    </tr>\n",
       "  </thead>\n",
       "  <tbody>\n",
       "    <tr>\n",
       "      <td>0</td>\n",
       "      <td>-1.198105</td>\n",
       "      <td>-0.174057</td>\n",
       "      <td>-1.099813</td>\n",
       "      <td>326</td>\n",
       "      <td>-1.591562</td>\n",
       "      <td>-1.539248</td>\n",
       "      <td>-0.178039</td>\n",
       "      <td>0</td>\n",
       "      <td>0</td>\n",
       "      <td>1</td>\n",
       "      <td>...</td>\n",
       "      <td>0</td>\n",
       "      <td>0</td>\n",
       "      <td>0</td>\n",
       "      <td>0</td>\n",
       "      <td>0</td>\n",
       "      <td>1</td>\n",
       "      <td>0</td>\n",
       "      <td>0</td>\n",
       "      <td>0</td>\n",
       "      <td>0</td>\n",
       "    </tr>\n",
       "    <tr>\n",
       "      <td>1</td>\n",
       "      <td>-1.240300</td>\n",
       "      <td>-1.360792</td>\n",
       "      <td>1.585901</td>\n",
       "      <td>326</td>\n",
       "      <td>-1.645149</td>\n",
       "      <td>-1.662019</td>\n",
       "      <td>-0.195696</td>\n",
       "      <td>0</td>\n",
       "      <td>0</td>\n",
       "      <td>0</td>\n",
       "      <td>...</td>\n",
       "      <td>0</td>\n",
       "      <td>0</td>\n",
       "      <td>0</td>\n",
       "      <td>0</td>\n",
       "      <td>1</td>\n",
       "      <td>0</td>\n",
       "      <td>0</td>\n",
       "      <td>0</td>\n",
       "      <td>0</td>\n",
       "      <td>0</td>\n",
       "    </tr>\n",
       "    <tr>\n",
       "      <td>2</td>\n",
       "      <td>-1.198105</td>\n",
       "      <td>-3.385224</td>\n",
       "      <td>3.376376</td>\n",
       "      <td>327</td>\n",
       "      <td>-1.502249</td>\n",
       "      <td>-1.460323</td>\n",
       "      <td>-0.195696</td>\n",
       "      <td>0</td>\n",
       "      <td>1</td>\n",
       "      <td>0</td>\n",
       "      <td>...</td>\n",
       "      <td>0</td>\n",
       "      <td>0</td>\n",
       "      <td>0</td>\n",
       "      <td>0</td>\n",
       "      <td>0</td>\n",
       "      <td>0</td>\n",
       "      <td>1</td>\n",
       "      <td>0</td>\n",
       "      <td>0</td>\n",
       "      <td>0</td>\n",
       "    </tr>\n",
       "    <tr>\n",
       "      <td>3</td>\n",
       "      <td>-1.071517</td>\n",
       "      <td>0.454215</td>\n",
       "      <td>0.243044</td>\n",
       "      <td>334</td>\n",
       "      <td>-1.368280</td>\n",
       "      <td>-1.320013</td>\n",
       "      <td>-0.148609</td>\n",
       "      <td>0</td>\n",
       "      <td>0</td>\n",
       "      <td>0</td>\n",
       "      <td>...</td>\n",
       "      <td>1</td>\n",
       "      <td>0</td>\n",
       "      <td>0</td>\n",
       "      <td>0</td>\n",
       "      <td>0</td>\n",
       "      <td>0</td>\n",
       "      <td>0</td>\n",
       "      <td>1</td>\n",
       "      <td>0</td>\n",
       "      <td>0</td>\n",
       "    </tr>\n",
       "    <tr>\n",
       "      <td>4</td>\n",
       "      <td>-1.029322</td>\n",
       "      <td>1.082487</td>\n",
       "      <td>0.243044</td>\n",
       "      <td>335</td>\n",
       "      <td>-1.243242</td>\n",
       "      <td>-1.214781</td>\n",
       "      <td>-0.130952</td>\n",
       "      <td>0</td>\n",
       "      <td>1</td>\n",
       "      <td>0</td>\n",
       "      <td>...</td>\n",
       "      <td>0</td>\n",
       "      <td>1</td>\n",
       "      <td>0</td>\n",
       "      <td>0</td>\n",
       "      <td>0</td>\n",
       "      <td>1</td>\n",
       "      <td>0</td>\n",
       "      <td>0</td>\n",
       "      <td>0</td>\n",
       "      <td>0</td>\n",
       "    </tr>\n",
       "  </tbody>\n",
       "</table>\n",
       "<p>5 rows × 27 columns</p>\n",
       "</div>"
      ],
      "text/plain": [
       "      carat  depthper     table  price    length     width     depth  \\\n",
       "0 -1.198105 -0.174057 -1.099813    326 -1.591562 -1.539248 -0.178039   \n",
       "1 -1.240300 -1.360792  1.585901    326 -1.645149 -1.662019 -0.195696   \n",
       "2 -1.198105 -3.385224  3.376376    327 -1.502249 -1.460323 -0.195696   \n",
       "3 -1.071517  0.454215  0.243044    334 -1.368280 -1.320013 -0.148609   \n",
       "4 -1.029322  1.082487  0.243044    335 -1.243242 -1.214781 -0.130952   \n",
       "\n",
       "   cut_Fair  cut_Good  cut_Ideal  ...  color_I  color_J  clarity_I1  \\\n",
       "0         0         0          1  ...        0        0           0   \n",
       "1         0         0          0  ...        0        0           0   \n",
       "2         0         1          0  ...        0        0           0   \n",
       "3         0         0          0  ...        1        0           0   \n",
       "4         0         1          0  ...        0        1           0   \n",
       "\n",
       "   clarity_IF  clarity_SI1  clarity_SI2  clarity_VS1  clarity_VS2  \\\n",
       "0           0            0            1            0            0   \n",
       "1           0            1            0            0            0   \n",
       "2           0            0            0            1            0   \n",
       "3           0            0            0            0            1   \n",
       "4           0            0            1            0            0   \n",
       "\n",
       "   clarity_VVS1  clarity_VVS2  \n",
       "0             0             0  \n",
       "1             0             0  \n",
       "2             0             0  \n",
       "3             0             0  \n",
       "4             0             0  \n",
       "\n",
       "[5 rows x 27 columns]"
      ]
     },
     "execution_count": 134,
     "metadata": {},
     "output_type": "execute_result"
    }
   ],
   "source": [
    "diamond_clean_data_standard.head()"
   ]
  },
  {
   "cell_type": "code",
   "execution_count": 135,
   "metadata": {
    "id": "2VL-6wYEoZo4"
   },
   "outputs": [],
   "source": [
    "x = diamond_clean_data_standard.drop([\"price\"],axis=1)\n",
    "y = diamond_clean_data_standard.price"
   ]
  },
  {
   "cell_type": "code",
   "execution_count": 136,
   "metadata": {
    "id": "njt5bUqqoZo5"
   },
   "outputs": [],
   "source": [
    "from sklearn.model_selection import train_test_split\n",
    "train_x, test_x, train_y, test_y = train_test_split(x, y,random_state = 614,test_size=0.25)"
   ]
  },
  {
   "cell_type": "markdown",
   "metadata": {
    "id": "v0ptSEXGoZo6"
   },
   "source": [
    "# linear regression"
   ]
  },
  {
   "cell_type": "code",
   "execution_count": 189,
   "metadata": {
    "id": "RI1Vz7qOoZo7",
    "outputId": "694b345f-dede-4f7f-b844-66327da9feaf"
   },
   "outputs": [
    {
     "name": "stdout",
     "output_type": "stream",
     "text": [
      "Accuracy: 92.10188899060732%\n",
      "Mean Absolute Error: 727.5461515300173\n",
      "Mean Squared Error: 1252819.6439423368\n",
      "Intercept: 3366.6275451054607\n"
     ]
    }
   ],
   "source": [
    "from sklearn.metrics import mean_absolute_error\n",
    "from sklearn.metrics import mean_squared_error\n",
    "from sklearn.metrics import r2_score\n",
    "from sklearn import linear_model\n",
    "\n",
    "regr = linear_model.LinearRegression()\n",
    "regr.fit(train_x,train_y)\n",
    "y_pred = regr.predict(test_x)\n",
    "print(\"Accuracy: \"+ str(regr.score(test_x,test_y)*100) + \"%\")\n",
    "print(\"Mean Absolute Error: {}\".format(mean_absolute_error(test_y,y_pred)))\n",
    "print(\"Mean Squared Error: {}\".format(mean_squared_error(test_y,y_pred)))\n",
    "print(\"Intercept:\", regr.intercept_)"
   ]
  },
  {
   "cell_type": "code",
   "execution_count": 178,
   "metadata": {
    "scrolled": true
   },
   "outputs": [
    {
     "name": "stdout",
     "output_type": "stream",
     "text": [
      "                            OLS Regression Results                            \n",
      "==============================================================================\n",
      "Dep. Variable:                  price   R-squared:                       0.920\n",
      "Model:                            OLS   Adj. R-squared:                  0.920\n",
      "Method:                 Least Squares   F-statistic:                 2.015e+04\n",
      "Date:                Fri, 19 Mar 2021   Prob (F-statistic):               0.00\n",
      "Time:                        19:43:45   Log-Likelihood:            -3.4176e+05\n",
      "No. Observations:               40449   AIC:                         6.836e+05\n",
      "Df Residuals:                   40425   BIC:                         6.838e+05\n",
      "Df Model:                          23                                         \n",
      "Covariance Type:            nonrobust                                         \n",
      "=================================================================================\n",
      "                    coef    std err          t      P>|t|      [0.025      0.975]\n",
      "---------------------------------------------------------------------------------\n",
      "carat          5493.1049     28.388    193.501      0.000    5437.464    5548.746\n",
      "depthper       -103.1869      6.810    -15.153      0.000    -116.534     -89.840\n",
      "table           -61.6756      7.538     -8.182      0.000     -76.450     -46.901\n",
      "length        -1410.0807     52.153    -27.037      0.000   -1512.302   -1307.860\n",
      "width           107.1603     45.322      2.364      0.018      18.328     195.993\n",
      "depth            -7.9178      5.520     -1.434      0.151     -18.738       2.902\n",
      "cut_Fair        850.7185     31.732     26.809      0.000     788.522     912.915\n",
      "cut_Good       1432.6691     17.790     80.534      0.000    1397.801    1467.537\n",
      "cut_Ideal      1694.4581     12.068    140.411      0.000    1670.805    1718.111\n",
      "cut_Premium    1625.9588     12.170    133.605      0.000    1602.106    1649.812\n",
      "cut_Very Good  1592.0406     12.214    130.348      0.000    1568.101    1615.980\n",
      "color_D        1865.2469     15.556    119.908      0.000    1834.757    1895.736\n",
      "color_E        1643.4074     13.164    124.844      0.000    1617.606    1669.209\n",
      "color_F        1597.4763     13.027    122.631      0.000    1571.944    1623.009\n",
      "color_G        1383.6370     12.193    113.475      0.000    1359.738    1407.536\n",
      "color_H         879.1628     13.833     63.553      0.000     852.049     906.277\n",
      "color_I         377.6897     16.987     22.234      0.000     344.394     410.985\n",
      "color_J        -550.7750     23.299    -23.639      0.000    -596.442    -505.108\n",
      "clarity_I1    -2881.2350     44.638    -64.547      0.000   -2968.727   -2793.743\n",
      "clarity_IF     2392.4577     29.166     82.029      0.000    2335.291    2449.624\n",
      "clarity_SI1     751.4548     12.575     59.759      0.000     726.808     776.102\n",
      "clarity_SI2    -201.9132     14.686    -13.749      0.000    -230.698    -173.128\n",
      "clarity_VS1    1665.2324     14.815    112.401      0.000    1636.195    1694.270\n",
      "clarity_VS2    1354.3838     12.701    106.640      0.000    1329.490    1379.277\n",
      "clarity_VVS1   2075.0391     21.236     97.712      0.000    2033.416    2116.663\n",
      "clarity_VVS2   2040.4254     18.327    111.337      0.000    2004.505    2076.346\n",
      "==============================================================================\n",
      "Omnibus:                    11128.749   Durbin-Watson:                   2.005\n",
      "Prob(Omnibus):                  0.000   Jarque-Bera (JB):           488854.386\n",
      "Skew:                           0.579   Prob(JB):                         0.00\n",
      "Kurtosis:                      19.992   Cond. No.                     1.17e+16\n",
      "==============================================================================\n",
      "\n",
      "Warnings:\n",
      "[1] Standard Errors assume that the covariance matrix of the errors is correctly specified.\n",
      "[2] The smallest eigenvalue is 8.98e-28. This might indicate that there are\n",
      "strong multicollinearity problems or that the design matrix is singular.\n"
     ]
    },
    {
     "name": "stderr",
     "output_type": "stream",
     "text": [
      "/Users/Frank/opt/anaconda3/lib/python3.7/site-packages/numpy/core/fromnumeric.py:2495: FutureWarning: Method .ptp is deprecated and will be removed in a future version. Use numpy.ptp instead.\n",
      "  return ptp(axis=axis, out=out, **kwargs)\n"
     ]
    }
   ],
   "source": [
    "X = sm.add_constant(train_x)\n",
    "lrmodel = sm.OLS(train_y, train_x).fit()\n",
    "print(lrmodel.summary())"
   ]
  },
  {
   "cell_type": "code",
   "execution_count": 138,
   "metadata": {},
   "outputs": [
    {
     "data": {
      "image/png": "[encoded data removed]",
      "text/plain": [
       "<Figure size 432x288 with 1 Axes>"
      ]
     },
     "metadata": {},
     "output_type": "display_data"
    }
   ],
   "source": [
    "# plot for residual error\n",
    " \n",
    "## setting plot style\n",
    "plt.style.use('fivethirtyeight')\n",
    " \n",
    "## plotting residual errors in training data\n",
    "plt.scatter(regr.predict(train_x), regr.predict(train_x) - train_y,\n",
    "            color = \"green\", s = 10, label = 'Train data')\n",
    " \n",
    "## plotting residual errors in test data\n",
    "plt.scatter(regr.predict(test_x), regr.predict(test_x) - test_y,\n",
    "            color = \"blue\", s = 10, label = 'Test data')\n",
    " \n",
    "## plotting line for zero residual error\n",
    "plt.hlines(y = 0, xmin = 0, xmax = 500, linewidth = 2)\n",
    " \n",
    "## plotting legend\n",
    "plt.legend(loc = 'upper right')\n",
    " \n",
    "## plot title\n",
    "plt.title(\"Residual errors\")\n",
    " \n",
    "## method call for showing the plot\n",
    "plt.show()"
   ]
  },
  {
   "cell_type": "code",
   "execution_count": 188,
   "metadata": {
    "id": "8OjHMnrBoZo8"
   },
   "outputs": [],
   "source": [
    "#from sklearn.metrics import mean_absolute_error\n",
    "#from sklearn.metrics import mean_squared_error\n",
    "#from sklearn.metrics import r2_score\n",
    "#from sklearn import linear_model\n",
    "\n",
    "#regr = linear_model.LinearRegression()\n",
    "#regr.fit(train_x,train_y)\n",
    "#y_pred = regr.predict(test_x)\n",
    "#print(\"Accuracy: \"+ str(regr.score(test_x,test_y)*100) + \"%\")\n",
    "#print(\"Mean Absolute Error: {}\".format(mean_absolute_error(test_y,y_pred)))\n",
    "#print(\"Mean Squared Error: {}\".format(mean_squared_error(test_y,y_pred)))\n",
    "#print(\"Intercept:\", regr.intercept_)\n",
    "\n",
    "\n",
    "#R2 = r2_score(test_y,y_pred)\n",
    "#print('R Squared: {}'.format(R2))\n",
    "#n=test_x.shape[0]\n",
    "#p=test_x.shape[1] - 1\n",
    "\n",
    "#adj_rsquared = 1 - (1 - R2) * ((n - 1)/(n-p-1))\n",
    "#print('Adjusted R Squared: {}'.format(adj_rsquared))\n",
    "\n",
    "#regressor = linear_model.LinearRegression()\n",
    "#model = regressor.fit(train_x, train_y)\n",
    "#print(\"Coef:\", regr.coef_)\n",
    "#print(\"Constant:\", regr.intercept_)\n",
    "#print(\"R2:\", regr.score(train_x, train_y))"
   ]
  },
  {
   "cell_type": "code",
   "execution_count": 180,
   "metadata": {},
   "outputs": [],
   "source": [
    "#dia_coef = pd.DataFrame(regr.coef_, x.columns, columns=['Coefficients'])\n",
    "#print(dia_coef)\n",
    "#print(\"Intercept: {}\".format(regr.intercept_))"
   ]
  },
  {
   "cell_type": "code",
   "execution_count": null,
   "metadata": {},
   "outputs": [],
   "source": []
  },
  {
   "cell_type": "code",
   "execution_count": 182,
   "metadata": {},
   "outputs": [],
   "source": [
    "#regr.score(x,y)"
   ]
  },
  {
   "cell_type": "code",
   "execution_count": null,
   "metadata": {},
   "outputs": [],
   "source": []
  },
  {
   "cell_type": "code",
   "execution_count": 181,
   "metadata": {
    "scrolled": true
   },
   "outputs": [],
   "source": [
    "#X = np.column_stack((data['TV'], data['radio'], data['newspaper']))\n",
    "#y = data['sales']\n",
    "#import statsmodels.api as sm\n",
    "#X2 = sm.add_constant(x)\n",
    "#est = sm.OLS(y, X2)\n",
    "#est2 = est.fit()\n",
    "#print(est2.summary())"
   ]
  },
  {
   "cell_type": "code",
   "execution_count": null,
   "metadata": {},
   "outputs": [],
   "source": []
  },
  {
   "cell_type": "code",
   "execution_count": null,
   "metadata": {},
   "outputs": [],
   "source": []
  },
  {
   "cell_type": "code",
   "execution_count": null,
   "metadata": {
    "id": "acXFU4MBoZo9",
    "outputId": "9f88cedc-5d28-420d-efdb-12e1f0a50e06"
   },
   "outputs": [],
   "source": [
    "#p=sns.pairplot(diamonds)"
   ]
  },
  {
   "cell_type": "code",
   "execution_count": null,
   "metadata": {},
   "outputs": [],
   "source": [
    "#diamond_clean_data.head(5)"
   ]
  },
  {
   "cell_type": "code",
   "execution_count": null,
   "metadata": {},
   "outputs": [],
   "source": []
  },
  {
   "cell_type": "code",
   "execution_count": null,
   "metadata": {},
   "outputs": [],
   "source": []
  },
  {
   "cell_type": "markdown",
   "metadata": {
    "id": "2qKJIHkfoZo-"
   },
   "source": [
    "## robust scaler"
   ]
  },
  {
   "cell_type": "code",
   "execution_count": 190,
   "metadata": {},
   "outputs": [],
   "source": [
    "#from sklearn.preprocessing import RobustScaler\n",
    "#robust = RobustScaler(quantile_range = (0.25,0.75))\n",
    "#robust.fit_transform(X.f3.values.reshape(-1, 1))\n"
   ]
  },
  {
   "cell_type": "code",
   "execution_count": 152,
   "metadata": {},
   "outputs": [],
   "source": [
    "#robust_numericals =  pd.DataFrame(robust.fit_transform(\n",
    "              #diamond_clean_data[['carat','depthper','length','width','depth','table']]),\n",
    "              #columns=['carat','depthper','length','width','depth','table'],index=diamond_clean_data.index)"
   ]
  },
  {
   "cell_type": "code",
   "execution_count": null,
   "metadata": {},
   "outputs": [],
   "source": [
    "#diamond_clean_data_robust = diamond_clean_data.copy(deep=True)"
   ]
  },
  {
   "cell_type": "code",
   "execution_count": null,
   "metadata": {},
   "outputs": [],
   "source": [
    "#diamond_clean_data_robust[['carat','depthper','length',\n",
    "                             #'width','depth','table']] = robust_numericals[['carat','depthper','length','width','depth','table']]"
   ]
  },
  {
   "cell_type": "code",
   "execution_count": null,
   "metadata": {},
   "outputs": [],
   "source": [
    "#diamond_clean_data_robust.head(15)"
   ]
  },
  {
   "cell_type": "code",
   "execution_count": null,
   "metadata": {},
   "outputs": [],
   "source": [
    "#xx = diamond_clean_data_robust.drop([\"price\"],axis=1)\n",
    "#yy = diamond_clean_data_robust.price"
   ]
  },
  {
   "cell_type": "code",
   "execution_count": null,
   "metadata": {},
   "outputs": [],
   "source": [
    "#from sklearn.model_selection import train_test_split\n",
    "#train_xx, test_xx, train_yy, test_yy = train_test_split(xx, yy,random_state = 614,test_size=0.2)"
   ]
  },
  {
   "cell_type": "code",
   "execution_count": null,
   "metadata": {},
   "outputs": [],
   "source": [
    "#from sklearn.metrics import mean_absolute_error\n",
    "#from sklearn.metrics import mean_squared_error\n",
    "#from sklearn.metrics import r2_score\n",
    "#from sklearn import linear_model\n",
    "\n",
    "#regr = linear_model.LinearRegression()\n",
    "#regr.fit(train_xx,train_yy)\n",
    "#yy_pred = regr.predict(test_xx)\n",
    "#print(\"Accuracy: \"+ str(regr.score(test_xx,test_yy)*100) + \"%\")\n",
    "#print(\"Mean Absolute Error: {}\".format(mean_absolute_error(test_yy,yy_pred)))\n",
    "#print(\"Mean Squared Error: {}\".format(mean_squared_error(test_yy,yy_pred)))\n",
    "#R22 = r2_score(test_yy,yy_pred)\n",
    "#print('R Squared: {}'.format(R2))\n",
    "#nn=test_xx.shape[0]\n",
    "#pp=test_xx.shape[1] - 1\n",
    "\n",
    "#adj_rsquared2 = 1 - (1 - R22) * ((nn - 1)/(nn-pp-1))\n",
    "#print('Adjusted R Squared: {}'.format(adj_rsquared))"
   ]
  },
  {
   "cell_type": "code",
   "execution_count": null,
   "metadata": {},
   "outputs": [],
   "source": [
    "#train_x"
   ]
  },
  {
   "cell_type": "code",
   "execution_count": null,
   "metadata": {},
   "outputs": [],
   "source": []
  },
  {
   "cell_type": "markdown",
   "metadata": {},
   "source": [
    "# Random Forest"
   ]
  },
  {
   "cell_type": "code",
   "execution_count": 143,
   "metadata": {},
   "outputs": [
    {
     "data": {
      "text/plain": [
       "RandomForestRegressor(bootstrap=True, criterion='mse', max_depth=None,\n",
       "                      max_features='auto', max_leaf_nodes=None,\n",
       "                      min_impurity_decrease=0.0, min_impurity_split=None,\n",
       "                      min_samples_leaf=1, min_samples_split=2,\n",
       "                      min_weight_fraction_leaf=0.0, n_estimators=500,\n",
       "                      n_jobs=None, oob_score=False, random_state=614, verbose=0,\n",
       "                      warm_start=False)"
      ]
     },
     "execution_count": 143,
     "metadata": {},
     "output_type": "execute_result"
    }
   ],
   "source": [
    "from sklearn.ensemble import RandomForestRegressor\n",
    "\n",
    "RFReg = RandomForestRegressor(n_estimators = 500, random_state = 614)\n",
    "\n",
    "RFReg.fit(train_x, train_y)"
   ]
  },
  {
   "cell_type": "code",
   "execution_count": 144,
   "metadata": {},
   "outputs": [
    {
     "name": "stdout",
     "output_type": "stream",
     "text": [
      "R-Square Error associated with Random Forest Regression is: 0.9805618582576324\n",
      "Adjusted R-Square Error associated with Random Forest Regression is: 0.9805493553709543\n"
     ]
    }
   ],
   "source": [
    "y_predict_rfr = RFReg.predict((test_x))\n",
    "\n",
    "from sklearn import metrics\n",
    "rfrr_square = metrics.r2_score(test_y, y_predict_rfr)\n",
    "n = train_x.shape[0]\n",
    "p = train_x.shape[1]\n",
    "rfradjr_square = 1-(1-rfrr_square)*(n-1)/(n-p-1)\n",
    "print('R-Square Error associated with Random Forest Regression is:', rfrr_square)\n",
    "print('Adjusted R-Square Error associated with Random Forest Regression is:', rfradjr_square)"
   ]
  },
  {
   "cell_type": "code",
   "execution_count": 145,
   "metadata": {},
   "outputs": [],
   "source": [
    "#10 trees\n",
    "#R-Square Error associated with Random Forest Regression is: 0.978387175234247\n",
    "#Adjusted R-Square Error associated with Random Forest Regression is: 0.9783732735608041\n",
    "#Mean Absolute Error: 288.98 dollars.\n",
    "#Accuracy: 92.96 %.\n",
    "\n",
    "#50 trees\n",
    "#R-Square Error associated with Random Forest Regression is: 0.9801381319584918\n",
    "#Adjusted R-Square Error associated with Random Forest Regression is: 0.9801253565250871\n",
    "#Mean Absolute Error: 275.29 dollars.\n",
    "#Accuracy: 93.31 %.\n",
    "\n",
    "#100 trees\n",
    "#R-Square Error associated with Random Forest Regression is: 0.9803057648163251\n",
    "#Adjusted R-Square Error associated with Random Forest Regression is: 0.980293097206737\n",
    "#Mean Absolute Error: 274.07 dollars.\n",
    "#Accuracy: 93.34 %.\n",
    "\n",
    "#250 trees\n",
    "#R-Square Error associated with Random Forest Regression is: 0.9805293898806033\n",
    "#Adjusted R-Square Error associated with Random Forest Regression is: 0.9805168661098076\n",
    "#Mean Absolute Error: 272.77 dollars.\n",
    "#Accuracy: 93.38 %.\n",
    "\n",
    "#500 trees\n",
    "#R-Square Error associated with Random Forest Regression is: 0.9805618582576324\n",
    "#Adjusted R-Square Error associated with Random Forest Regression is: 0.9805493553709543\n",
    "#Mean Absolute Error: 272.56 dollars.\n",
    "#Accuracy: 93.39 %."
   ]
  },
  {
   "cell_type": "code",
   "execution_count": 146,
   "metadata": {},
   "outputs": [],
   "source": [
    "#x_val = np.arange(min(train_x), max(train_x), 0.01)\n",
    "\n",
    "#x_val = x_val.reshape((len(x_val),1))\n",
    "\n",
    "#plt.scatter(train_x, train_y, color = 'orange')\n",
    "\n",
    "#plt.plot(x_val, RFReg.predict(x_val), color = 'green')\n",
    "\n",
    "#plt.show()"
   ]
  },
  {
   "cell_type": "code",
   "execution_count": 147,
   "metadata": {},
   "outputs": [],
   "source": [
    "y_pred = RFReg.predict(test_x)"
   ]
  },
  {
   "cell_type": "code",
   "execution_count": 148,
   "metadata": {},
   "outputs": [
    {
     "data": {
      "text/html": [
       "<div>\n",
       "<style scoped>\n",
       "    .dataframe tbody tr th:only-of-type {\n",
       "        vertical-align: middle;\n",
       "    }\n",
       "\n",
       "    .dataframe tbody tr th {\n",
       "        vertical-align: top;\n",
       "    }\n",
       "\n",
       "    .dataframe thead th {\n",
       "        text-align: right;\n",
       "    }\n",
       "</style>\n",
       "<table border=\"1\" class=\"dataframe\">\n",
       "  <thead>\n",
       "    <tr style=\"text-align: right;\">\n",
       "      <th></th>\n",
       "      <th>Actual</th>\n",
       "      <th>Predicted</th>\n",
       "    </tr>\n",
       "  </thead>\n",
       "  <tbody>\n",
       "    <tr>\n",
       "      <td>48941</td>\n",
       "      <td>2045</td>\n",
       "      <td>2542.8220</td>\n",
       "    </tr>\n",
       "    <tr>\n",
       "      <td>9573</td>\n",
       "      <td>4626</td>\n",
       "      <td>4318.0200</td>\n",
       "    </tr>\n",
       "    <tr>\n",
       "      <td>41426</td>\n",
       "      <td>1227</td>\n",
       "      <td>1153.7060</td>\n",
       "    </tr>\n",
       "    <tr>\n",
       "      <td>37351</td>\n",
       "      <td>982</td>\n",
       "      <td>898.7440</td>\n",
       "    </tr>\n",
       "    <tr>\n",
       "      <td>24356</td>\n",
       "      <td>12620</td>\n",
       "      <td>10388.4280</td>\n",
       "    </tr>\n",
       "    <tr>\n",
       "      <td>...</td>\n",
       "      <td>...</td>\n",
       "      <td>...</td>\n",
       "    </tr>\n",
       "    <tr>\n",
       "      <td>28906</td>\n",
       "      <td>684</td>\n",
       "      <td>677.0340</td>\n",
       "    </tr>\n",
       "    <tr>\n",
       "      <td>22968</td>\n",
       "      <td>11019</td>\n",
       "      <td>10805.3500</td>\n",
       "    </tr>\n",
       "    <tr>\n",
       "      <td>8282</td>\n",
       "      <td>4382</td>\n",
       "      <td>4713.8980</td>\n",
       "    </tr>\n",
       "    <tr>\n",
       "      <td>5447</td>\n",
       "      <td>3830</td>\n",
       "      <td>4913.8064</td>\n",
       "    </tr>\n",
       "    <tr>\n",
       "      <td>12368</td>\n",
       "      <td>597</td>\n",
       "      <td>573.2040</td>\n",
       "    </tr>\n",
       "  </tbody>\n",
       "</table>\n",
       "<p>13483 rows × 2 columns</p>\n",
       "</div>"
      ],
      "text/plain": [
       "       Actual   Predicted\n",
       "48941    2045   2542.8220\n",
       "9573     4626   4318.0200\n",
       "41426    1227   1153.7060\n",
       "37351     982    898.7440\n",
       "24356   12620  10388.4280\n",
       "...       ...         ...\n",
       "28906     684    677.0340\n",
       "22968   11019  10805.3500\n",
       "8282     4382   4713.8980\n",
       "5447     3830   4913.8064\n",
       "12368     597    573.2040\n",
       "\n",
       "[13483 rows x 2 columns]"
      ]
     },
     "execution_count": 148,
     "metadata": {},
     "output_type": "execute_result"
    }
   ],
   "source": [
    "df=pd.DataFrame({'Actual':test_y, 'Predicted':y_pred})\n",
    "df"
   ]
  },
  {
   "cell_type": "code",
   "execution_count": 149,
   "metadata": {},
   "outputs": [
    {
     "name": "stdout",
     "output_type": "stream",
     "text": [
      "Mean Absolute Error: 272.56 dollars.\n",
      "Mean Absolute Percentage Error: 6.61 %.\n",
      "Accuracy: 93.39 %.\n"
     ]
    }
   ],
   "source": [
    "# Calculate the absolute errors\n",
    "errors = abs(y_pred - test_y)\n",
    "# Print out the mean absolute error (mae)\n",
    "print('Mean Absolute Error:', round(np.mean(errors), 2), 'dollars.')\n",
    "\n",
    "# Calculate mean absolute percentage error (MAPE)\n",
    "mape = 100 * (errors / test_y)\n",
    "# Calculate and display accuracy\n",
    "accuracy = 100 - np.mean(mape)\n",
    "print('Mean Absolute Percentage Error:', round((np.mean(mape)), 2), '%.')\n",
    "print('Accuracy:', round(accuracy, 2), '%.')"
   ]
  },
  {
   "cell_type": "code",
   "execution_count": 150,
   "metadata": {},
   "outputs": [
    {
     "data": {
      "text/plain": [
       "6.614719699775631"
      ]
     },
     "execution_count": 150,
     "metadata": {},
     "output_type": "execute_result"
    }
   ],
   "source": [
    "np.mean(mape)"
   ]
  },
  {
   "cell_type": "code",
   "execution_count": null,
   "metadata": {},
   "outputs": [],
   "source": []
  },
  {
   "cell_type": "code",
   "execution_count": null,
   "metadata": {},
   "outputs": [],
   "source": []
  },
  {
   "cell_type": "code",
   "execution_count": null,
   "metadata": {},
   "outputs": [],
   "source": []
  },
  {
   "cell_type": "code",
   "execution_count": null,
   "metadata": {},
   "outputs": [],
   "source": []
  },
  {
   "cell_type": "code",
   "execution_count": null,
   "metadata": {},
   "outputs": [],
   "source": []
  },
  {
   "cell_type": "code",
   "execution_count": null,
   "metadata": {},
   "outputs": [],
   "source": []
  },
  {
   "cell_type": "code",
   "execution_count": null,
   "metadata": {},
   "outputs": [],
   "source": []
  },
  {
   "cell_type": "code",
   "execution_count": null,
   "metadata": {},
   "outputs": [],
   "source": []
  }
 ],
 "metadata": {
  "colab": {
   "collapsed_sections": [
    "cQNF5AVdoZnG",
    "Zu4SyT2goZnQ",
    "2XmRl8JUoZnQ",
    "Iz4VZwNRoZnl",
    "-uHhAw3uoZnr",
    "3I6zZlyfoZny",
    "9hKfQ6xOoZn9",
    "mcqJn2FXoZoD",
    "rIXxl9HOoZoI",
    "Ktqvs1KNoZoO",
    "zeoknvPXoZoS",
    "0hcQKv3_oZoV",
    "qFNGnvCpoZoZ",
    "v1fFQvx-oZol",
    "8i277ULsoZon",
    "P99PaUGYoZox"
   ],
   "name": "Diamonds.ipynb",
   "provenance": []
  },
  "kernelspec": {
   "display_name": "Python 3",
   "language": "python",
   "name": "python3"
  },
  "language_info": {
   "codemirror_mode": {
    "name": "ipython",
    "version": 3
   },
   "file_extension": ".py",
   "mimetype": "text/x-python",
   "name": "python",
   "nbconvert_exporter": "python",
   "pygments_lexer": "ipython3",
   "version": "3.10.1"
  }
 },
 "nbformat": 4,
 "nbformat_minor": 1
}
